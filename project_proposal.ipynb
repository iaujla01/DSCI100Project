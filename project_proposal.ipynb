{
 "cells": [
  {
   "cell_type": "markdown",
   "metadata": {},
   "source": [
    "# DSCI 100 Project Proposal:  Classifying a Signal as Pulsar and Non-Pulsar"
   ]
  },
  {
   "cell_type": "markdown",
   "metadata": {},
   "source": [
    "## Introduction"
   ]
  },
  {
   "cell_type": "markdown",
   "metadata": {},
   "source": [
    "Question: To determine whether the signal is coming from a pulsar star or not based on the integrated profile of the signal?\n",
    "\n",
    "A pulsar is a Neutron star that generates pulses of solar radio emissions (i.e. emits wavelengths of light in periodic bursts) detectable from Earth. The light is generally very bright and can be seen from a distance. Pulsar stars are studied to help scientists study gravitational waves, which could help in studying potential cosmic events such as collisions (Cofield, 2016 ). \n",
    " \n",
    "Each potential detection (which we’ll call a candidate) is represented numerically by two curves:  the integrated profile and DM-SNR. Since a pulsar periodically emits unique pulses, the integrated profile is used to represent an average of these different pulses (Lorimer and Kramer, 2005; Lyon, 2016). To describe the uncertainty caused by dispersion (where each pulse is detected at different times across frequencies), a dispersion- measure-signal-to-noise (DM-SNR) curve is used (Lyon, 2016). Furthermore, each curve is described by four statistical variables: mean, standard deviation, kurtosis, and skewness.\n",
    " \n",
    "In reality, most candidates are spurious and caused by radio frequency interference and noise, consequently making positive pulsar cases rare to detect. Hence, our goal for this project is to train a model that classifies whether a star is non-pulsar or pulsar star based on 8 variables: the mean, standard deviation, kurtosis, and skewness of the integrated profile and DM-SNR curve. Our central question is: To determine whether the signal is coming from a pulsar star or not based on the integrated profile of the signal?\n",
    " \n",
    "Our dataset is a sample of candidate detections recorded by the High time Resolution Universe Survey. The data set contains 17,898 total observations, with 1639 observations being positive pulsar detections. The dataset also contains 8 variables: the mean, standard deviation, kurtosis, and skewness of the integrated profile and DM-SNR curve.\n",
    "\n",
    "References:\n",
    "Cofield, C. (2016, April 22). What Are Pulsars? Space.com; Space. https://www.space.com/32661-pulsars.html \n",
    "Lyon, R. J., Stappers, B. W., Cooper, S., Brooke, J. M., &amp; Knowles, J. D. (2016). Fifty Years of pulsar candidate selection: From simple filters to a new principled real-time classification approach. Monthly Notices of the Royal Astronomical Society, 459(1), 1104–1123. https://doi.org/10.1093/mnras/stw656 \n",
    "Lorimer, D. R., &amp; Kramer, M. (n.d.). Handbook of Pulsar Astronomy. NASA/ADS. Retrieved March 5, 2022, from https://ui.adsabs.harvard.edu/abs/2012hpa..book.....L/abstract "
   ]
  },
  {
   "cell_type": "markdown",
   "metadata": {},
   "source": [
    "## Preliminary Exploratory Data Analysis"
   ]
  },
  {
   "cell_type": "code",
   "execution_count": 1,
   "metadata": {},
   "outputs": [],
   "source": [
    "# Uncomment code below to install packages\n",
    "# install.packages(tidyverse)\n",
    "# install.packages(tidymodels)"
   ]
  },
  {
   "cell_type": "code",
   "execution_count": 2,
   "metadata": {},
   "outputs": [
    {
     "name": "stderr",
     "output_type": "stream",
     "text": [
      "── \u001b[1mAttaching packages\u001b[22m ─────────────────────────────────────── tidyverse 1.3.0 ──\n",
      "\n",
      "\u001b[32m✔\u001b[39m \u001b[34mggplot2\u001b[39m 3.3.2     \u001b[32m✔\u001b[39m \u001b[34mpurrr  \u001b[39m 0.3.4\n",
      "\u001b[32m✔\u001b[39m \u001b[34mtibble \u001b[39m 3.0.3     \u001b[32m✔\u001b[39m \u001b[34mdplyr  \u001b[39m 1.0.2\n",
      "\u001b[32m✔\u001b[39m \u001b[34mtidyr  \u001b[39m 1.1.2     \u001b[32m✔\u001b[39m \u001b[34mstringr\u001b[39m 1.4.0\n",
      "\u001b[32m✔\u001b[39m \u001b[34mreadr  \u001b[39m 1.3.1     \u001b[32m✔\u001b[39m \u001b[34mforcats\u001b[39m 0.5.0\n",
      "\n",
      "Warning message:\n",
      "“package ‘ggplot2’ was built under R version 4.0.1”\n",
      "Warning message:\n",
      "“package ‘tibble’ was built under R version 4.0.2”\n",
      "Warning message:\n",
      "“package ‘tidyr’ was built under R version 4.0.2”\n",
      "Warning message:\n",
      "“package ‘dplyr’ was built under R version 4.0.2”\n",
      "── \u001b[1mConflicts\u001b[22m ────────────────────────────────────────── tidyverse_conflicts() ──\n",
      "\u001b[31m✖\u001b[39m \u001b[34mdplyr\u001b[39m::\u001b[32mfilter()\u001b[39m masks \u001b[34mstats\u001b[39m::filter()\n",
      "\u001b[31m✖\u001b[39m \u001b[34mdplyr\u001b[39m::\u001b[32mlag()\u001b[39m    masks \u001b[34mstats\u001b[39m::lag()\n",
      "\n",
      "Warning message:\n",
      "“package ‘tidymodels’ was built under R version 4.0.2”\n",
      "── \u001b[1mAttaching packages\u001b[22m ────────────────────────────────────── tidymodels 0.1.1 ──\n",
      "\n",
      "\u001b[32m✔\u001b[39m \u001b[34mbroom    \u001b[39m 0.7.0      \u001b[32m✔\u001b[39m \u001b[34mrecipes  \u001b[39m 0.1.13\n",
      "\u001b[32m✔\u001b[39m \u001b[34mdials    \u001b[39m 0.0.9      \u001b[32m✔\u001b[39m \u001b[34mrsample  \u001b[39m 0.0.7 \n",
      "\u001b[32m✔\u001b[39m \u001b[34minfer    \u001b[39m 0.5.4      \u001b[32m✔\u001b[39m \u001b[34mtune     \u001b[39m 0.1.1 \n",
      "\u001b[32m✔\u001b[39m \u001b[34mmodeldata\u001b[39m 0.0.2      \u001b[32m✔\u001b[39m \u001b[34mworkflows\u001b[39m 0.2.0 \n",
      "\u001b[32m✔\u001b[39m \u001b[34mparsnip  \u001b[39m 0.1.3      \u001b[32m✔\u001b[39m \u001b[34myardstick\u001b[39m 0.0.7 \n",
      "\n",
      "Warning message:\n",
      "“package ‘broom’ was built under R version 4.0.2”\n",
      "Warning message:\n",
      "“package ‘dials’ was built under R version 4.0.2”\n",
      "Warning message:\n",
      "“package ‘infer’ was built under R version 4.0.3”\n",
      "Warning message:\n",
      "“package ‘modeldata’ was built under R version 4.0.1”\n",
      "Warning message:\n",
      "“package ‘parsnip’ was built under R version 4.0.2”\n",
      "Warning message:\n",
      "“package ‘recipes’ was built under R version 4.0.1”\n",
      "Warning message:\n",
      "“package ‘tune’ was built under R version 4.0.2”\n",
      "Warning message:\n",
      "“package ‘workflows’ was built under R version 4.0.2”\n",
      "Warning message:\n",
      "“package ‘yardstick’ was built under R version 4.0.2”\n",
      "── \u001b[1mConflicts\u001b[22m ───────────────────────────────────────── tidymodels_conflicts() ──\n",
      "\u001b[31m✖\u001b[39m \u001b[34mscales\u001b[39m::\u001b[32mdiscard()\u001b[39m masks \u001b[34mpurrr\u001b[39m::discard()\n",
      "\u001b[31m✖\u001b[39m \u001b[34mdplyr\u001b[39m::\u001b[32mfilter()\u001b[39m   masks \u001b[34mstats\u001b[39m::filter()\n",
      "\u001b[31m✖\u001b[39m \u001b[34mrecipes\u001b[39m::\u001b[32mfixed()\u001b[39m  masks \u001b[34mstringr\u001b[39m::fixed()\n",
      "\u001b[31m✖\u001b[39m \u001b[34mdplyr\u001b[39m::\u001b[32mlag()\u001b[39m      masks \u001b[34mstats\u001b[39m::lag()\n",
      "\u001b[31m✖\u001b[39m \u001b[34myardstick\u001b[39m::\u001b[32mspec()\u001b[39m masks \u001b[34mreadr\u001b[39m::spec()\n",
      "\u001b[31m✖\u001b[39m \u001b[34mrecipes\u001b[39m::\u001b[32mstep()\u001b[39m   masks \u001b[34mstats\u001b[39m::step()\n",
      "\n"
     ]
    }
   ],
   "source": [
    "# Import packages\n",
    "library(tidyverse)\n",
    "library(tidymodels)"
   ]
  },
  {
   "cell_type": "code",
   "execution_count": 3,
   "metadata": {},
   "outputs": [
    {
     "name": "stderr",
     "output_type": "stream",
     "text": [
      "Parsed with column specification:\n",
      "cols(\n",
      "  X1 = \u001b[32mcol_double()\u001b[39m,\n",
      "  X2 = \u001b[32mcol_double()\u001b[39m,\n",
      "  X3 = \u001b[32mcol_double()\u001b[39m,\n",
      "  X4 = \u001b[32mcol_double()\u001b[39m,\n",
      "  X5 = \u001b[32mcol_double()\u001b[39m,\n",
      "  X6 = \u001b[32mcol_double()\u001b[39m,\n",
      "  X7 = \u001b[32mcol_double()\u001b[39m,\n",
      "  X8 = \u001b[32mcol_double()\u001b[39m,\n",
      "  X9 = \u001b[32mcol_double()\u001b[39m\n",
      ")\n",
      "\n"
     ]
    },
    {
     "data": {
      "text/html": [
       "<table>\n",
       "<caption>A tibble: 6 × 9</caption>\n",
       "<thead>\n",
       "\t<tr><th scope=col>mean_ip</th><th scope=col>sd_ip</th><th scope=col>kurtosis_ip</th><th scope=col>skew_ip</th><th scope=col>mean_dmsnr</th><th scope=col>sd_dmsnr</th><th scope=col>kurtosis_dmsnr</th><th scope=col>skew_dmsnr</th><th scope=col>class</th></tr>\n",
       "\t<tr><th scope=col>&lt;dbl&gt;</th><th scope=col>&lt;dbl&gt;</th><th scope=col>&lt;dbl&gt;</th><th scope=col>&lt;dbl&gt;</th><th scope=col>&lt;dbl&gt;</th><th scope=col>&lt;dbl&gt;</th><th scope=col>&lt;dbl&gt;</th><th scope=col>&lt;dbl&gt;</th><th scope=col>&lt;fct&gt;</th></tr>\n",
       "</thead>\n",
       "<tbody>\n",
       "\t<tr><td>140.56250</td><td>55.68378</td><td>-0.23457141</td><td>-0.6996484</td><td>3.199833</td><td>19.11043</td><td> 7.975532</td><td> 74.24222</td><td>0</td></tr>\n",
       "\t<tr><td>102.50781</td><td>58.88243</td><td> 0.46531815</td><td>-0.5150879</td><td>1.677258</td><td>14.86015</td><td>10.576487</td><td>127.39358</td><td>0</td></tr>\n",
       "\t<tr><td>103.01562</td><td>39.34165</td><td> 0.32332837</td><td> 1.0511644</td><td>3.121237</td><td>21.74467</td><td> 7.735822</td><td> 63.17191</td><td>0</td></tr>\n",
       "\t<tr><td>136.75000</td><td>57.17845</td><td>-0.06841464</td><td>-0.6362384</td><td>3.642977</td><td>20.95928</td><td> 6.896499</td><td> 53.59366</td><td>0</td></tr>\n",
       "\t<tr><td> 88.72656</td><td>40.67223</td><td> 0.60086608</td><td> 1.1234917</td><td>1.178930</td><td>11.46872</td><td>14.269573</td><td>252.56731</td><td>0</td></tr>\n",
       "\t<tr><td> 93.57031</td><td>46.69811</td><td> 0.53190485</td><td> 0.4167211</td><td>1.636288</td><td>14.54507</td><td>10.621748</td><td>131.39400</td><td>0</td></tr>\n",
       "</tbody>\n",
       "</table>\n"
      ],
      "text/latex": [
       "A tibble: 6 × 9\n",
       "\\begin{tabular}{lllllllll}\n",
       " mean\\_ip & sd\\_ip & kurtosis\\_ip & skew\\_ip & mean\\_dmsnr & sd\\_dmsnr & kurtosis\\_dmsnr & skew\\_dmsnr & class\\\\\n",
       " <dbl> & <dbl> & <dbl> & <dbl> & <dbl> & <dbl> & <dbl> & <dbl> & <fct>\\\\\n",
       "\\hline\n",
       "\t 140.56250 & 55.68378 & -0.23457141 & -0.6996484 & 3.199833 & 19.11043 &  7.975532 &  74.24222 & 0\\\\\n",
       "\t 102.50781 & 58.88243 &  0.46531815 & -0.5150879 & 1.677258 & 14.86015 & 10.576487 & 127.39358 & 0\\\\\n",
       "\t 103.01562 & 39.34165 &  0.32332837 &  1.0511644 & 3.121237 & 21.74467 &  7.735822 &  63.17191 & 0\\\\\n",
       "\t 136.75000 & 57.17845 & -0.06841464 & -0.6362384 & 3.642977 & 20.95928 &  6.896499 &  53.59366 & 0\\\\\n",
       "\t  88.72656 & 40.67223 &  0.60086608 &  1.1234917 & 1.178930 & 11.46872 & 14.269573 & 252.56731 & 0\\\\\n",
       "\t  93.57031 & 46.69811 &  0.53190485 &  0.4167211 & 1.636288 & 14.54507 & 10.621748 & 131.39400 & 0\\\\\n",
       "\\end{tabular}\n"
      ],
      "text/markdown": [
       "\n",
       "A tibble: 6 × 9\n",
       "\n",
       "| mean_ip &lt;dbl&gt; | sd_ip &lt;dbl&gt; | kurtosis_ip &lt;dbl&gt; | skew_ip &lt;dbl&gt; | mean_dmsnr &lt;dbl&gt; | sd_dmsnr &lt;dbl&gt; | kurtosis_dmsnr &lt;dbl&gt; | skew_dmsnr &lt;dbl&gt; | class &lt;fct&gt; |\n",
       "|---|---|---|---|---|---|---|---|---|\n",
       "| 140.56250 | 55.68378 | -0.23457141 | -0.6996484 | 3.199833 | 19.11043 |  7.975532 |  74.24222 | 0 |\n",
       "| 102.50781 | 58.88243 |  0.46531815 | -0.5150879 | 1.677258 | 14.86015 | 10.576487 | 127.39358 | 0 |\n",
       "| 103.01562 | 39.34165 |  0.32332837 |  1.0511644 | 3.121237 | 21.74467 |  7.735822 |  63.17191 | 0 |\n",
       "| 136.75000 | 57.17845 | -0.06841464 | -0.6362384 | 3.642977 | 20.95928 |  6.896499 |  53.59366 | 0 |\n",
       "|  88.72656 | 40.67223 |  0.60086608 |  1.1234917 | 1.178930 | 11.46872 | 14.269573 | 252.56731 | 0 |\n",
       "|  93.57031 | 46.69811 |  0.53190485 |  0.4167211 | 1.636288 | 14.54507 | 10.621748 | 131.39400 | 0 |\n",
       "\n"
      ],
      "text/plain": [
       "  mean_ip   sd_ip    kurtosis_ip skew_ip    mean_dmsnr sd_dmsnr kurtosis_dmsnr\n",
       "1 140.56250 55.68378 -0.23457141 -0.6996484 3.199833   19.11043  7.975532     \n",
       "2 102.50781 58.88243  0.46531815 -0.5150879 1.677258   14.86015 10.576487     \n",
       "3 103.01562 39.34165  0.32332837  1.0511644 3.121237   21.74467  7.735822     \n",
       "4 136.75000 57.17845 -0.06841464 -0.6362384 3.642977   20.95928  6.896499     \n",
       "5  88.72656 40.67223  0.60086608  1.1234917 1.178930   11.46872 14.269573     \n",
       "6  93.57031 46.69811  0.53190485  0.4167211 1.636288   14.54507 10.621748     \n",
       "  skew_dmsnr class\n",
       "1  74.24222  0    \n",
       "2 127.39358  0    \n",
       "3  63.17191  0    \n",
       "4  53.59366  0    \n",
       "5 252.56731  0    \n",
       "6 131.39400  0    "
      ]
     },
     "metadata": {},
     "output_type": "display_data"
    }
   ],
   "source": [
    "# Read csv file\n",
    "# Source: https://archive.ics.uci.edu/ml/datasets/HTRU2\n",
    "htru_data <- read_csv('https://raw.githubusercontent.com/iaujla01/DSCI100Project/main/data/HTRU_2.csv', col_names = FALSE)\n",
    "\n",
    "# Adding column names: \n",
    "# 1. Mean of the integrated profile\n",
    "# 2. Standard deviation of the integrated profile\n",
    "# 3. Excess kurtosis of the integrated profile \n",
    "# 4. Skewness of the integrated profile\n",
    "# 5. Mean of the DM-SNR curve\n",
    "# 6. Standard deviation of the DM-SNR curve\n",
    "# 7. Excess kurtosis of the DM-SNR curve\n",
    "# 8. Skewness of the DM-SNR curve\n",
    "# 9. Class\n",
    "colnames(htru_data) <- c('mean_ip', 'sd_ip', 'kurtosis_ip', 'skew_ip', 'mean_dmsnr', 'sd_dmsnr', 'kurtosis_dmsnr', 'skew_dmsnr', 'class')\n",
    "htru_data <- htru_data %>% \n",
    "    mutate(class = as.factor(class)) # since class is a dummy variable that is either positive (1) or negative (0)\n",
    "head(htru_data)"
   ]
  },
  {
   "cell_type": "code",
   "execution_count": 4,
   "metadata": {},
   "outputs": [
    {
     "name": "stdout",
     "output_type": "stream",
     "text": [
      "Rows: 13,424\n",
      "Columns: 9\n",
      "$ mean_ip        \u001b[3m\u001b[90m<dbl>\u001b[39m\u001b[23m 140.56250, 136.75000, 88.72656, 93.57031, 119.48438, 1…\n",
      "$ sd_ip          \u001b[3m\u001b[90m<dbl>\u001b[39m\u001b[23m 55.68378, 57.17845, 40.67223, 46.69811, 48.76506, 39.8…\n",
      "$ kurtosis_ip    \u001b[3m\u001b[90m<dbl>\u001b[39m\u001b[23m -0.23457141, -0.06841464, 0.60086608, 0.53190485, 0.03…\n",
      "$ skew_ip        \u001b[3m\u001b[90m<dbl>\u001b[39m\u001b[23m -0.69964840, -0.63623837, 1.12349169, 0.41672112, -0.1…\n",
      "$ mean_dmsnr     \u001b[3m\u001b[90m<dbl>\u001b[39m\u001b[23m 3.1998328, 3.6429766, 1.1789298, 1.6362876, 0.9991639,…\n",
      "$ sd_dmsnr       \u001b[3m\u001b[90m<dbl>\u001b[39m\u001b[23m 19.110426, 20.959280, 11.468720, 14.545074, 9.279612, …\n",
      "$ kurtosis_dmsnr \u001b[3m\u001b[90m<dbl>\u001b[39m\u001b[23m 7.975532, 6.896499, 14.269573, 10.621748, 19.206230, 1…\n",
      "$ skew_dmsnr     \u001b[3m\u001b[90m<dbl>\u001b[39m\u001b[23m 74.24222, 53.59366, 252.56731, 131.39400, 479.75657, 1…\n",
      "$ class          \u001b[3m\u001b[90m<fct>\u001b[39m\u001b[23m 0, 0, 0, 0, 0, 0, 0, 0, 0, 0, 0, 0, 0, 1, 0, 0, 0, 0, …\n",
      "Rows: 4,474\n",
      "Columns: 9\n",
      "$ mean_ip        \u001b[3m\u001b[90m<dbl>\u001b[39m\u001b[23m 102.50781, 103.01562, 107.25781, 134.96094, 109.64062,…\n",
      "$ sd_ip          \u001b[3m\u001b[90m<dbl>\u001b[39m\u001b[23m 58.88243, 39.34165, 39.49649, 49.55433, 49.01765, 51.7…\n",
      "$ kurtosis_ip    \u001b[3m\u001b[90m<dbl>\u001b[39m\u001b[23m 0.465318154, 0.323328365, 0.465881961, -0.135303833, 0…\n",
      "$ skew_ip        \u001b[3m\u001b[90m<dbl>\u001b[39m\u001b[23m -0.51508791, 1.05116443, 1.16287712, -0.08046960, -0.2…\n",
      "$ mean_dmsnr     \u001b[3m\u001b[90m<dbl>\u001b[39m\u001b[23m 1.6772575, 3.1212375, 4.0794314, 10.6964883, 1.5083612…\n",
      "$ sd_dmsnr       \u001b[3m\u001b[90m<dbl>\u001b[39m\u001b[23m 14.86015, 21.74467, 24.98042, 41.34204, 12.07290, 21.6…\n",
      "$ kurtosis_dmsnr \u001b[3m\u001b[90m<dbl>\u001b[39m\u001b[23m 10.576487, 7.735822, 7.397080, 3.893934, 13.367926, 8.…\n",
      "$ skew_dmsnr     \u001b[3m\u001b[90m<dbl>\u001b[39m\u001b[23m 127.3935796, 63.1719091, 57.7847379, 14.1312062, 223.4…\n",
      "$ class          \u001b[3m\u001b[90m<fct>\u001b[39m\u001b[23m 0, 0, 0, 0, 0, 0, 0, 0, 0, 1, 0, 0, 0, 0, 0, 0, 0, 0, …\n"
     ]
    }
   ],
   "source": [
    "# 17,898 total examples; 1,639 positive examples; 16,259 negative examples\n",
    "# Decide to split dataset into 75% training and 25% testing\n",
    "\n",
    "htru_split <- initial_split(htru_data, prop = 0.75, strata = class)\n",
    "htru_train <- training(htru_split)\n",
    "htru_test <- testing(htru_split)\n",
    "\n",
    "glimpse(htru_train)\n",
    "glimpse(htru_test)"
   ]
  },
  {
   "cell_type": "markdown",
   "metadata": {
    "tags": []
   },
   "source": [
    "### Preliminary Summary"
   ]
  },
  {
   "cell_type": "code",
   "execution_count": 5,
   "metadata": {},
   "outputs": [
    {
     "name": "stderr",
     "output_type": "stream",
     "text": [
      "`summarise()` ungrouping output (override with `.groups` argument)\n",
      "\n"
     ]
    },
    {
     "data": {
      "text/html": [
       "<table>\n",
       "<caption>A tibble: 2 × 2</caption>\n",
       "<thead>\n",
       "\t<tr><th scope=col>class</th><th scope=col>n</th></tr>\n",
       "\t<tr><th scope=col>&lt;fct&gt;</th><th scope=col>&lt;int&gt;</th></tr>\n",
       "</thead>\n",
       "<tbody>\n",
       "\t<tr><td>0</td><td>12202</td></tr>\n",
       "\t<tr><td>1</td><td> 1222</td></tr>\n",
       "</tbody>\n",
       "</table>\n"
      ],
      "text/latex": [
       "A tibble: 2 × 2\n",
       "\\begin{tabular}{ll}\n",
       " class & n\\\\\n",
       " <fct> & <int>\\\\\n",
       "\\hline\n",
       "\t 0 & 12202\\\\\n",
       "\t 1 &  1222\\\\\n",
       "\\end{tabular}\n"
      ],
      "text/markdown": [
       "\n",
       "A tibble: 2 × 2\n",
       "\n",
       "| class &lt;fct&gt; | n &lt;int&gt; |\n",
       "|---|---|\n",
       "| 0 | 12202 |\n",
       "| 1 |  1222 |\n",
       "\n"
      ],
      "text/plain": [
       "  class n    \n",
       "1 0     12202\n",
       "2 1      1222"
      ]
     },
     "metadata": {},
     "output_type": "display_data"
    },
    {
     "name": "stderr",
     "output_type": "stream",
     "text": [
      "`summarise()` ungrouping output (override with `.groups` argument)\n",
      "\n"
     ]
    },
    {
     "data": {
      "text/html": [
       "<table>\n",
       "<caption>A tibble: 32 × 3</caption>\n",
       "<thead>\n",
       "\t<tr><th scope=col>class</th><th scope=col>variable_max_min</th><th scope=col>Value</th></tr>\n",
       "\t<tr><th scope=col>&lt;fct&gt;</th><th scope=col>&lt;chr&gt;</th><th scope=col>&lt;dbl&gt;</th></tr>\n",
       "</thead>\n",
       "<tbody>\n",
       "\t<tr><td>0</td><td>max_mean_ip       </td><td> 190.42187500</td></tr>\n",
       "\t<tr><td>0</td><td>max_sd_ip         </td><td>  98.77891067</td></tr>\n",
       "\t<tr><td>0</td><td>max_kurtosis_ip   </td><td>   4.78578590</td></tr>\n",
       "\t<tr><td>0</td><td>max_skew_ip       </td><td>  24.87242875</td></tr>\n",
       "\t<tr><td>0</td><td>max_mean_dmsnr    </td><td> 223.39214050</td></tr>\n",
       "\t<tr><td>0</td><td>max_sd_dmsnr      </td><td> 110.64221060</td></tr>\n",
       "\t<tr><td>0</td><td>max_kurtosis_dmsnr</td><td>  34.53984419</td></tr>\n",
       "\t<tr><td>0</td><td>max_skew_dmsnr    </td><td>1191.00083700</td></tr>\n",
       "\t<tr><td>0</td><td>min_mean_ip       </td><td>  17.21093750</td></tr>\n",
       "\t<tr><td>0</td><td>min_sd_ip         </td><td>  28.69871445</td></tr>\n",
       "\t<tr><td>0</td><td>min_kurtosis_ip   </td><td>  -1.73802076</td></tr>\n",
       "\t<tr><td>0</td><td>min_skew_ip       </td><td>  -1.79188598</td></tr>\n",
       "\t<tr><td>0</td><td>min_mean_dmsnr    </td><td>   0.21321070</td></tr>\n",
       "\t<tr><td>0</td><td>min_sd_dmsnr      </td><td>   7.37043217</td></tr>\n",
       "\t<tr><td>0</td><td>min_kurtosis_dmsnr</td><td>  -2.81235331</td></tr>\n",
       "\t<tr><td>0</td><td>min_skew_dmsnr    </td><td>  -1.97697560</td></tr>\n",
       "\t<tr><td>1</td><td>max_mean_ip       </td><td> 139.25781250</td></tr>\n",
       "\t<tr><td>1</td><td>max_sd_ip         </td><td>  79.08440748</td></tr>\n",
       "\t<tr><td>1</td><td>max_kurtosis_ip   </td><td>   7.87962768</td></tr>\n",
       "\t<tr><td>1</td><td>max_skew_ip       </td><td>  65.38597385</td></tr>\n",
       "\t<tr><td>1</td><td>max_mean_dmsnr    </td><td> 199.57775920</td></tr>\n",
       "\t<tr><td>1</td><td>max_sd_dmsnr      </td><td> 109.65534510</td></tr>\n",
       "\t<tr><td>1</td><td>max_kurtosis_dmsnr</td><td>  20.43001943</td></tr>\n",
       "\t<tr><td>1</td><td>max_skew_dmsnr    </td><td> 449.02858400</td></tr>\n",
       "\t<tr><td>1</td><td>min_mean_ip       </td><td>   5.81250000</td></tr>\n",
       "\t<tr><td>1</td><td>min_sd_ip         </td><td>  24.79161196</td></tr>\n",
       "\t<tr><td>1</td><td>min_kurtosis_ip   </td><td>  -0.09488784</td></tr>\n",
       "\t<tr><td>1</td><td>min_skew_ip       </td><td>  -1.13906886</td></tr>\n",
       "\t<tr><td>1</td><td>min_mean_dmsnr    </td><td>   0.67892977</td></tr>\n",
       "\t<tr><td>1</td><td>min_sd_dmsnr      </td><td>   9.54910910</td></tr>\n",
       "\t<tr><td>1</td><td>min_kurtosis_dmsnr</td><td>  -1.86231995</td></tr>\n",
       "\t<tr><td>1</td><td>min_skew_dmsnr    </td><td>  -1.87468319</td></tr>\n",
       "</tbody>\n",
       "</table>\n"
      ],
      "text/latex": [
       "A tibble: 32 × 3\n",
       "\\begin{tabular}{lll}\n",
       " class & variable\\_max\\_min & Value\\\\\n",
       " <fct> & <chr> & <dbl>\\\\\n",
       "\\hline\n",
       "\t 0 & max\\_mean\\_ip        &  190.42187500\\\\\n",
       "\t 0 & max\\_sd\\_ip          &   98.77891067\\\\\n",
       "\t 0 & max\\_kurtosis\\_ip    &    4.78578590\\\\\n",
       "\t 0 & max\\_skew\\_ip        &   24.87242875\\\\\n",
       "\t 0 & max\\_mean\\_dmsnr     &  223.39214050\\\\\n",
       "\t 0 & max\\_sd\\_dmsnr       &  110.64221060\\\\\n",
       "\t 0 & max\\_kurtosis\\_dmsnr &   34.53984419\\\\\n",
       "\t 0 & max\\_skew\\_dmsnr     & 1191.00083700\\\\\n",
       "\t 0 & min\\_mean\\_ip        &   17.21093750\\\\\n",
       "\t 0 & min\\_sd\\_ip          &   28.69871445\\\\\n",
       "\t 0 & min\\_kurtosis\\_ip    &   -1.73802076\\\\\n",
       "\t 0 & min\\_skew\\_ip        &   -1.79188598\\\\\n",
       "\t 0 & min\\_mean\\_dmsnr     &    0.21321070\\\\\n",
       "\t 0 & min\\_sd\\_dmsnr       &    7.37043217\\\\\n",
       "\t 0 & min\\_kurtosis\\_dmsnr &   -2.81235331\\\\\n",
       "\t 0 & min\\_skew\\_dmsnr     &   -1.97697560\\\\\n",
       "\t 1 & max\\_mean\\_ip        &  139.25781250\\\\\n",
       "\t 1 & max\\_sd\\_ip          &   79.08440748\\\\\n",
       "\t 1 & max\\_kurtosis\\_ip    &    7.87962768\\\\\n",
       "\t 1 & max\\_skew\\_ip        &   65.38597385\\\\\n",
       "\t 1 & max\\_mean\\_dmsnr     &  199.57775920\\\\\n",
       "\t 1 & max\\_sd\\_dmsnr       &  109.65534510\\\\\n",
       "\t 1 & max\\_kurtosis\\_dmsnr &   20.43001943\\\\\n",
       "\t 1 & max\\_skew\\_dmsnr     &  449.02858400\\\\\n",
       "\t 1 & min\\_mean\\_ip        &    5.81250000\\\\\n",
       "\t 1 & min\\_sd\\_ip          &   24.79161196\\\\\n",
       "\t 1 & min\\_kurtosis\\_ip    &   -0.09488784\\\\\n",
       "\t 1 & min\\_skew\\_ip        &   -1.13906886\\\\\n",
       "\t 1 & min\\_mean\\_dmsnr     &    0.67892977\\\\\n",
       "\t 1 & min\\_sd\\_dmsnr       &    9.54910910\\\\\n",
       "\t 1 & min\\_kurtosis\\_dmsnr &   -1.86231995\\\\\n",
       "\t 1 & min\\_skew\\_dmsnr     &   -1.87468319\\\\\n",
       "\\end{tabular}\n"
      ],
      "text/markdown": [
       "\n",
       "A tibble: 32 × 3\n",
       "\n",
       "| class &lt;fct&gt; | variable_max_min &lt;chr&gt; | Value &lt;dbl&gt; |\n",
       "|---|---|---|\n",
       "| 0 | max_mean_ip        |  190.42187500 |\n",
       "| 0 | max_sd_ip          |   98.77891067 |\n",
       "| 0 | max_kurtosis_ip    |    4.78578590 |\n",
       "| 0 | max_skew_ip        |   24.87242875 |\n",
       "| 0 | max_mean_dmsnr     |  223.39214050 |\n",
       "| 0 | max_sd_dmsnr       |  110.64221060 |\n",
       "| 0 | max_kurtosis_dmsnr |   34.53984419 |\n",
       "| 0 | max_skew_dmsnr     | 1191.00083700 |\n",
       "| 0 | min_mean_ip        |   17.21093750 |\n",
       "| 0 | min_sd_ip          |   28.69871445 |\n",
       "| 0 | min_kurtosis_ip    |   -1.73802076 |\n",
       "| 0 | min_skew_ip        |   -1.79188598 |\n",
       "| 0 | min_mean_dmsnr     |    0.21321070 |\n",
       "| 0 | min_sd_dmsnr       |    7.37043217 |\n",
       "| 0 | min_kurtosis_dmsnr |   -2.81235331 |\n",
       "| 0 | min_skew_dmsnr     |   -1.97697560 |\n",
       "| 1 | max_mean_ip        |  139.25781250 |\n",
       "| 1 | max_sd_ip          |   79.08440748 |\n",
       "| 1 | max_kurtosis_ip    |    7.87962768 |\n",
       "| 1 | max_skew_ip        |   65.38597385 |\n",
       "| 1 | max_mean_dmsnr     |  199.57775920 |\n",
       "| 1 | max_sd_dmsnr       |  109.65534510 |\n",
       "| 1 | max_kurtosis_dmsnr |   20.43001943 |\n",
       "| 1 | max_skew_dmsnr     |  449.02858400 |\n",
       "| 1 | min_mean_ip        |    5.81250000 |\n",
       "| 1 | min_sd_ip          |   24.79161196 |\n",
       "| 1 | min_kurtosis_ip    |   -0.09488784 |\n",
       "| 1 | min_skew_ip        |   -1.13906886 |\n",
       "| 1 | min_mean_dmsnr     |    0.67892977 |\n",
       "| 1 | min_sd_dmsnr       |    9.54910910 |\n",
       "| 1 | min_kurtosis_dmsnr |   -1.86231995 |\n",
       "| 1 | min_skew_dmsnr     |   -1.87468319 |\n",
       "\n"
      ],
      "text/plain": [
       "   class variable_max_min   Value        \n",
       "1  0     max_mean_ip         190.42187500\n",
       "2  0     max_sd_ip            98.77891067\n",
       "3  0     max_kurtosis_ip       4.78578590\n",
       "4  0     max_skew_ip          24.87242875\n",
       "5  0     max_mean_dmsnr      223.39214050\n",
       "6  0     max_sd_dmsnr        110.64221060\n",
       "7  0     max_kurtosis_dmsnr   34.53984419\n",
       "8  0     max_skew_dmsnr     1191.00083700\n",
       "9  0     min_mean_ip          17.21093750\n",
       "10 0     min_sd_ip            28.69871445\n",
       "11 0     min_kurtosis_ip      -1.73802076\n",
       "12 0     min_skew_ip          -1.79188598\n",
       "13 0     min_mean_dmsnr        0.21321070\n",
       "14 0     min_sd_dmsnr          7.37043217\n",
       "15 0     min_kurtosis_dmsnr   -2.81235331\n",
       "16 0     min_skew_dmsnr       -1.97697560\n",
       "17 1     max_mean_ip         139.25781250\n",
       "18 1     max_sd_ip            79.08440748\n",
       "19 1     max_kurtosis_ip       7.87962768\n",
       "20 1     max_skew_ip          65.38597385\n",
       "21 1     max_mean_dmsnr      199.57775920\n",
       "22 1     max_sd_dmsnr        109.65534510\n",
       "23 1     max_kurtosis_dmsnr   20.43001943\n",
       "24 1     max_skew_dmsnr      449.02858400\n",
       "25 1     min_mean_ip           5.81250000\n",
       "26 1     min_sd_ip            24.79161196\n",
       "27 1     min_kurtosis_ip      -0.09488784\n",
       "28 1     min_skew_ip          -1.13906886\n",
       "29 1     min_mean_dmsnr        0.67892977\n",
       "30 1     min_sd_dmsnr          9.54910910\n",
       "31 1     min_kurtosis_dmsnr   -1.86231995\n",
       "32 1     min_skew_dmsnr       -1.87468319"
      ]
     },
     "metadata": {},
     "output_type": "display_data"
    }
   ],
   "source": [
    "positive_candidates <- htru_train %>% \n",
    "    group_by(class) %>% \n",
    "    summarize(n = n())\n",
    "positive_candidates\n",
    "# We can see that there are 1263 positive pulsar candidates in the training data \n",
    "\n",
    "mean_htru_train<- htru_train %>% \n",
    "    group_by(class) %>% \n",
    "    summarize(max_mean_ip = max(mean_ip, na.rm = TRUE),\n",
    "             max_sd_ip = max(sd_ip, na.rm = TRUE),\n",
    "             max_kurtosis_ip = max(kurtosis_ip, na.rm = TRUE),\n",
    "             max_skew_ip = max(skew_ip, na.rm = TRUE),\n",
    "             max_mean_dmsnr = max(mean_dmsnr, na.rm = TRUE),\n",
    "             max_sd_dmsnr = max(sd_dmsnr, na.rm = TRUE),\n",
    "             max_kurtosis_dmsnr = max(kurtosis_dmsnr, na.rm = TRUE),\n",
    "             max_skew_dmsnr = max(skew_dmsnr, na.rm = TRUE),\n",
    "             min_mean_ip = min(mean_ip, na.rm = TRUE),\n",
    "             min_sd_ip = min(sd_ip, na.rm = TRUE),\n",
    "             min_kurtosis_ip = min(kurtosis_ip, na.rm = TRUE),\n",
    "             min_skew_ip = min(skew_ip, na.rm = TRUE),\n",
    "             min_mean_dmsnr = min(mean_dmsnr, na.rm = TRUE),\n",
    "             min_sd_dmsnr = min(sd_dmsnr, na.rm = TRUE),\n",
    "             min_kurtosis_dmsnr = min(kurtosis_dmsnr, na.rm = TRUE),\n",
    "             min_skew_dmsnr = min(skew_dmsnr, na.rm = TRUE))%>%\n",
    "             pivot_longer(cols = -class,\n",
    "                 names_to = 'variable_max_min',\n",
    "                 values_to = 'Value') \n",
    "mean_htru_train\n",
    "# At the beginning of the study, it was reasonable to consider that the critical points (extremes) of these data \n",
    "# could be correlated with whether or not they were judged to be pulsars"
   ]
  },
  {
   "cell_type": "markdown",
   "metadata": {
    "tags": []
   },
   "source": [
    "### Preliminary Visualization"
   ]
  },
  {
   "cell_type": "code",
   "execution_count": 6,
   "metadata": {},
   "outputs": [
    {
     "name": "stderr",
     "output_type": "stream",
     "text": [
      "\n",
      "Attaching package: ‘gridExtra’\n",
      "\n",
      "\n",
      "The following object is masked from ‘package:dplyr’:\n",
      "\n",
      "    combine\n",
      "\n",
      "\n",
      "`stat_bin()` using `bins = 30`. Pick better value with `binwidth`.\n",
      "\n",
      "`stat_bin()` using `bins = 30`. Pick better value with `binwidth`.\n",
      "\n",
      "`stat_bin()` using `bins = 30`. Pick better value with `binwidth`.\n",
      "\n",
      "`stat_bin()` using `bins = 30`. Pick better value with `binwidth`.\n",
      "\n",
      "`stat_bin()` using `bins = 30`. Pick better value with `binwidth`.\n",
      "\n",
      "`stat_bin()` using `bins = 30`. Pick better value with `binwidth`.\n",
      "\n",
      "`stat_bin()` using `bins = 30`. Pick better value with `binwidth`.\n",
      "\n",
      "`stat_bin()` using `bins = 30`. Pick better value with `binwidth`.\n",
      "\n"
     ]
    },
    {
     "data": {
      "image/png": "[encoded data removed]",
      "text/plain": [
       "plot without title"
      ]
     },
     "metadata": {
      "image/png": {
       "height": 360,
       "width": 1500
      }
     },
     "output_type": "display_data"
    },
    {
     "data": {
      "image/png": "[encoded data removed]",
      "text/plain": [
       "plot without title"
      ]
     },
     "metadata": {
      "image/png": {
       "height": 360,
       "width": 1500
      }
     },
     "output_type": "display_data"
    }
   ],
   "source": [
    "library(gridExtra)\n",
    "options(repr.plot.width=25, repr.plot.height=6)\n",
    "\n",
    "vis_mean_ip <- ggplot(htru_train, aes(x = mean_ip)) +\n",
    "    geom_histogram() + \n",
    "    labs(x = 'Integrated Profile Mean')\n",
    "vis_sd_ip <- ggplot(htru_train, aes(x = sd_ip)) +\n",
    "    geom_histogram() + \n",
    "    labs(x = 'Integrated Profile Standard Deviation')\n",
    "vis_kurtosis_ip <- ggplot(htru_train, aes(x = kurtosis_ip)) +\n",
    "    geom_histogram() + \n",
    "    labs(x = 'Integrated Profile Kurtosis')\n",
    "vis_skew_ip <- ggplot(htru_train, aes(x = kurtosis_ip)) +\n",
    "    geom_histogram() + \n",
    "    labs(x = 'Integrated Profile Skewness')\n",
    "vis_mean_dmsnr <- ggplot(htru_train, aes(x = mean_dmsnr)) +\n",
    "    geom_histogram() + \n",
    "    labs(x = 'DM-SNR Mean')\n",
    "vis_sd_dmsnr <- ggplot(htru_train, aes(x = sd_dmsnr)) +\n",
    "    geom_histogram() + \n",
    "    labs(x = 'DM-SNR Standard Deviation')\n",
    "vis_kurtosis_dmsnr <- ggplot(htru_train, aes(x = kurtosis_dmsnr)) +\n",
    "    geom_histogram() + \n",
    "    labs(x = 'DM-SNR Kurtosis')\n",
    "vis_skew_dmsnr <- ggplot(htru_train, aes(x = kurtosis_dmsnr)) +\n",
    "    geom_histogram() + \n",
    "    labs(x = 'DMSNR Skewness')\n",
    "\n",
    "grid.arrange(vis_mean_ip, vis_sd_ip, vis_kurtosis_ip, vis_skew_ip, nrow = 1, top = 'Data Distributions for Integrated Profile')\n",
    "grid.arrange(vis_mean_dmsnr, vis_sd_dmsnr, vis_kurtosis_dmsnr, vis_skew_dmsnr, nrow = 1, top = 'Data Distributions for DM-SNR')"
   ]
  },
  {
   "cell_type": "markdown",
   "metadata": {},
   "source": [
    "## Methods"
   ]
  },
  {
   "cell_type": "markdown",
   "metadata": {},
   "source": [
    "We will build a K-means clustering algorithm that will work to identify a star as being a pulsar or not based on the data points that are around it. To build the K-means clustering algorithm we will split the data into a test set and a training set using the initial split function in R. After doing so we will specify that the proportion in the training set will be 75% and 25%. These proportions are chosen because these will allow us to build a more robust classifier. For the K means classifier, we will centre and scale the data as well. For the classifier, we intend to use the mean, skewness, kurtosis, and standard deviation from the integrated profile, as these focus on the intensity of the wave and the phase in which it is at. Hence, the integrated profile would be more appropriate for determining if a star is a pulsar because it takes into consideration the intensity of each of the signals. Therefore, we believe that the intensity of the signals is the best characteristic to determine if the star is pulsar. \n",
    "One way we will visualise our results is using a scatter plot. We will plot the class data predicted on the same plot as our model and the actual classes from the testing data, differentiating them by colour. Using this visualisation, we will be able to observe the accuracy of our model with just a cursory glance. "
   ]
  },
  {
   "cell_type": "markdown",
   "metadata": {},
   "source": [
    "## Expected Outcomes and Significance"
   ]
  },
  {
   "cell_type": "markdown",
   "metadata": {},
   "source": [
    "By executing our visualisation method, we expect to find out if a signal with particular characteristics is a pulsar star or not. This is helpful since it can help scientists study gravitational waves.  By classifying if a star is a pulsar or not, scientists are able to study extreme states of matter, study other planets, measure cosmic distances, and be wary of gravitational waves for potential collisions. Through this, scientists and scholars are able to explore questions such as: \n",
    "- How do pulsar and non-pulsar stars differ in terms of the mean, standard deviation, kurtosis, and skewness? Is there a specific value threshold -that classifies if it is pulsar or not? \n",
    "- Are both curves (integrated profile and DM-SNR) important towards training a model that can identify pulsars? Can we use only one profile to train a model that accurately identifies pulsar stars? \n",
    "- What is the proportion of pulsar and non-pulsar stars? \n"
   ]
  },
  {
   "cell_type": "code",
   "execution_count": null,
   "metadata": {},
   "outputs": [],
   "source": []
  }
 ],
 "metadata": {
  "kernelspec": {
   "display_name": "R",
   "language": "R",
   "name": "ir"
  },
  "language_info": {
   "codemirror_mode": "r",
   "file_extension": ".r",
   "mimetype": "text/x-r-source",
   "name": "R",
   "pygments_lexer": "r",
   "version": "4.0.0"
  }
 },
 "nbformat": 4,
 "nbformat_minor": 5
}
