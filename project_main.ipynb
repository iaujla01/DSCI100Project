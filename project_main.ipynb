{
 "cells": [
  {
   "cell_type": "code",
   "execution_count": 1,
   "metadata": {},
   "outputs": [
    {
     "name": "stderr",
     "output_type": "stream",
     "text": [
      "── \u001b[1mAttaching packages\u001b[22m ─────────────────────────────────────── tidyverse 1.3.1 ──\n",
      "\n",
      "\u001b[32m✔\u001b[39m \u001b[34mggplot2\u001b[39m 3.3.5     \u001b[32m✔\u001b[39m \u001b[34mpurrr  \u001b[39m 0.3.4\n",
      "\u001b[32m✔\u001b[39m \u001b[34mtibble \u001b[39m 3.1.6     \u001b[32m✔\u001b[39m \u001b[34mdplyr  \u001b[39m 1.0.7\n",
      "\u001b[32m✔\u001b[39m \u001b[34mtidyr  \u001b[39m 1.2.0     \u001b[32m✔\u001b[39m \u001b[34mstringr\u001b[39m 1.4.0\n",
      "\u001b[32m✔\u001b[39m \u001b[34mreadr  \u001b[39m 2.1.2     \u001b[32m✔\u001b[39m \u001b[34mforcats\u001b[39m 0.5.1\n",
      "\n",
      "── \u001b[1mConflicts\u001b[22m ────────────────────────────────────────── tidyverse_conflicts() ──\n",
      "\u001b[31m✖\u001b[39m \u001b[34mdplyr\u001b[39m::\u001b[32mfilter()\u001b[39m masks \u001b[34mstats\u001b[39m::filter()\n",
      "\u001b[31m✖\u001b[39m \u001b[34mdplyr\u001b[39m::\u001b[32mlag()\u001b[39m    masks \u001b[34mstats\u001b[39m::lag()\n",
      "\n",
      "Registered S3 method overwritten by 'tune':\n",
      "  method                   from   \n",
      "  required_pkgs.model_spec parsnip\n",
      "\n",
      "── \u001b[1mAttaching packages\u001b[22m ────────────────────────────────────── tidymodels 0.1.4 ──\n",
      "\n",
      "\u001b[32m✔\u001b[39m \u001b[34mbroom       \u001b[39m 0.7.12     \u001b[32m✔\u001b[39m \u001b[34mrsample     \u001b[39m 0.1.1 \n",
      "\u001b[32m✔\u001b[39m \u001b[34mdials       \u001b[39m 0.1.0      \u001b[32m✔\u001b[39m \u001b[34mtune        \u001b[39m 0.1.6 \n",
      "\u001b[32m✔\u001b[39m \u001b[34minfer       \u001b[39m 1.0.0      \u001b[32m✔\u001b[39m \u001b[34mworkflows   \u001b[39m 0.2.4 \n",
      "\u001b[32m✔\u001b[39m \u001b[34mmodeldata   \u001b[39m 0.1.1      \u001b[32m✔\u001b[39m \u001b[34mworkflowsets\u001b[39m 0.1.0 \n",
      "\u001b[32m✔\u001b[39m \u001b[34mparsnip     \u001b[39m 0.2.0      \u001b[32m✔\u001b[39m \u001b[34myardstick   \u001b[39m 0.0.9 \n",
      "\u001b[32m✔\u001b[39m \u001b[34mrecipes     \u001b[39m 0.2.0      \n",
      "\n",
      "── \u001b[1mConflicts\u001b[22m ───────────────────────────────────────── tidymodels_conflicts() ──\n",
      "\u001b[31m✖\u001b[39m \u001b[34mscales\u001b[39m::\u001b[32mdiscard()\u001b[39m masks \u001b[34mpurrr\u001b[39m::discard()\n",
      "\u001b[31m✖\u001b[39m \u001b[34mdplyr\u001b[39m::\u001b[32mfilter()\u001b[39m   masks \u001b[34mstats\u001b[39m::filter()\n",
      "\u001b[31m✖\u001b[39m \u001b[34mrecipes\u001b[39m::\u001b[32mfixed()\u001b[39m  masks \u001b[34mstringr\u001b[39m::fixed()\n",
      "\u001b[31m✖\u001b[39m \u001b[34mdplyr\u001b[39m::\u001b[32mlag()\u001b[39m      masks \u001b[34mstats\u001b[39m::lag()\n",
      "\u001b[31m✖\u001b[39m \u001b[34myardstick\u001b[39m::\u001b[32mspec()\u001b[39m masks \u001b[34mreadr\u001b[39m::spec()\n",
      "\u001b[31m✖\u001b[39m \u001b[34mrecipes\u001b[39m::\u001b[32mstep()\u001b[39m   masks \u001b[34mstats\u001b[39m::step()\n",
      "\u001b[31m✖\u001b[39m \u001b[34mtune\u001b[39m::\u001b[32mtune()\u001b[39m      masks \u001b[34mparsnip\u001b[39m::tune()\n",
      "\u001b[34m•\u001b[39m Learn how to get started at \u001b[32mhttps://www.tidymodels.org/start/\u001b[39m\n",
      "\n"
     ]
    }
   ],
   "source": [
    "# Import packages\n",
    "library(tidyverse)\n",
    "library(tidymodels)"
   ]
  },
  {
   "cell_type": "code",
   "execution_count": 2,
   "metadata": {},
   "outputs": [
    {
     "name": "stderr",
     "output_type": "stream",
     "text": [
      "\u001b[1mRows: \u001b[22m\u001b[34m17898\u001b[39m \u001b[1mColumns: \u001b[22m\u001b[34m9\u001b[39m\n",
      "\u001b[36m──\u001b[39m \u001b[1mColumn specification\u001b[22m \u001b[36m────────────────────────────────────────────────────────\u001b[39m\n",
      "\u001b[1mDelimiter:\u001b[22m \",\"\n",
      "\u001b[32mdbl\u001b[39m (9): X1, X2, X3, X4, X5, X6, X7, X8, X9\n",
      "\n",
      "\u001b[36mℹ\u001b[39m Use \u001b[30m\u001b[47m\u001b[30m\u001b[47m`spec()`\u001b[47m\u001b[30m\u001b[49m\u001b[39m to retrieve the full column specification for this data.\n",
      "\u001b[36mℹ\u001b[39m Specify the column types or set \u001b[30m\u001b[47m\u001b[30m\u001b[47m`show_col_types = FALSE`\u001b[47m\u001b[30m\u001b[49m\u001b[39m to quiet this message.\n"
     ]
    },
    {
     "data": {
      "text/html": [
       "<table class=\"dataframe\">\n",
       "<caption>A tibble: 6 × 9</caption>\n",
       "<thead>\n",
       "\t<tr><th scope=col>mean_ip</th><th scope=col>sd_ip</th><th scope=col>kurtosis_ip</th><th scope=col>skew_ip</th><th scope=col>mean_dmsnr</th><th scope=col>sd_dmsnr</th><th scope=col>kurtosis_dmsnr</th><th scope=col>skew_dmsnr</th><th scope=col>class</th></tr>\n",
       "\t<tr><th scope=col>&lt;dbl&gt;</th><th scope=col>&lt;dbl&gt;</th><th scope=col>&lt;dbl&gt;</th><th scope=col>&lt;dbl&gt;</th><th scope=col>&lt;dbl&gt;</th><th scope=col>&lt;dbl&gt;</th><th scope=col>&lt;dbl&gt;</th><th scope=col>&lt;dbl&gt;</th><th scope=col>&lt;fct&gt;</th></tr>\n",
       "</thead>\n",
       "<tbody>\n",
       "\t<tr><td>140.56250</td><td>55.68378</td><td>-0.23457141</td><td>-0.6996484</td><td>3.199833</td><td>19.11043</td><td> 7.975532</td><td> 74.24222</td><td>0</td></tr>\n",
       "\t<tr><td>102.50781</td><td>58.88243</td><td> 0.46531815</td><td>-0.5150879</td><td>1.677258</td><td>14.86015</td><td>10.576487</td><td>127.39358</td><td>0</td></tr>\n",
       "\t<tr><td>103.01562</td><td>39.34165</td><td> 0.32332837</td><td> 1.0511644</td><td>3.121237</td><td>21.74467</td><td> 7.735822</td><td> 63.17191</td><td>0</td></tr>\n",
       "\t<tr><td>136.75000</td><td>57.17845</td><td>-0.06841464</td><td>-0.6362384</td><td>3.642977</td><td>20.95928</td><td> 6.896499</td><td> 53.59366</td><td>0</td></tr>\n",
       "\t<tr><td> 88.72656</td><td>40.67223</td><td> 0.60086608</td><td> 1.1234917</td><td>1.178930</td><td>11.46872</td><td>14.269573</td><td>252.56731</td><td>0</td></tr>\n",
       "\t<tr><td> 93.57031</td><td>46.69811</td><td> 0.53190485</td><td> 0.4167211</td><td>1.636288</td><td>14.54507</td><td>10.621748</td><td>131.39400</td><td>0</td></tr>\n",
       "</tbody>\n",
       "</table>\n"
      ],
      "text/latex": [
       "A tibble: 6 × 9\n",
       "\\begin{tabular}{lllllllll}\n",
       " mean\\_ip & sd\\_ip & kurtosis\\_ip & skew\\_ip & mean\\_dmsnr & sd\\_dmsnr & kurtosis\\_dmsnr & skew\\_dmsnr & class\\\\\n",
       " <dbl> & <dbl> & <dbl> & <dbl> & <dbl> & <dbl> & <dbl> & <dbl> & <fct>\\\\\n",
       "\\hline\n",
       "\t 140.56250 & 55.68378 & -0.23457141 & -0.6996484 & 3.199833 & 19.11043 &  7.975532 &  74.24222 & 0\\\\\n",
       "\t 102.50781 & 58.88243 &  0.46531815 & -0.5150879 & 1.677258 & 14.86015 & 10.576487 & 127.39358 & 0\\\\\n",
       "\t 103.01562 & 39.34165 &  0.32332837 &  1.0511644 & 3.121237 & 21.74467 &  7.735822 &  63.17191 & 0\\\\\n",
       "\t 136.75000 & 57.17845 & -0.06841464 & -0.6362384 & 3.642977 & 20.95928 &  6.896499 &  53.59366 & 0\\\\\n",
       "\t  88.72656 & 40.67223 &  0.60086608 &  1.1234917 & 1.178930 & 11.46872 & 14.269573 & 252.56731 & 0\\\\\n",
       "\t  93.57031 & 46.69811 &  0.53190485 &  0.4167211 & 1.636288 & 14.54507 & 10.621748 & 131.39400 & 0\\\\\n",
       "\\end{tabular}\n"
      ],
      "text/markdown": [
       "\n",
       "A tibble: 6 × 9\n",
       "\n",
       "| mean_ip &lt;dbl&gt; | sd_ip &lt;dbl&gt; | kurtosis_ip &lt;dbl&gt; | skew_ip &lt;dbl&gt; | mean_dmsnr &lt;dbl&gt; | sd_dmsnr &lt;dbl&gt; | kurtosis_dmsnr &lt;dbl&gt; | skew_dmsnr &lt;dbl&gt; | class &lt;fct&gt; |\n",
       "|---|---|---|---|---|---|---|---|---|\n",
       "| 140.56250 | 55.68378 | -0.23457141 | -0.6996484 | 3.199833 | 19.11043 |  7.975532 |  74.24222 | 0 |\n",
       "| 102.50781 | 58.88243 |  0.46531815 | -0.5150879 | 1.677258 | 14.86015 | 10.576487 | 127.39358 | 0 |\n",
       "| 103.01562 | 39.34165 |  0.32332837 |  1.0511644 | 3.121237 | 21.74467 |  7.735822 |  63.17191 | 0 |\n",
       "| 136.75000 | 57.17845 | -0.06841464 | -0.6362384 | 3.642977 | 20.95928 |  6.896499 |  53.59366 | 0 |\n",
       "|  88.72656 | 40.67223 |  0.60086608 |  1.1234917 | 1.178930 | 11.46872 | 14.269573 | 252.56731 | 0 |\n",
       "|  93.57031 | 46.69811 |  0.53190485 |  0.4167211 | 1.636288 | 14.54507 | 10.621748 | 131.39400 | 0 |\n",
       "\n"
      ],
      "text/plain": [
       "  mean_ip   sd_ip    kurtosis_ip skew_ip    mean_dmsnr sd_dmsnr kurtosis_dmsnr\n",
       "1 140.56250 55.68378 -0.23457141 -0.6996484 3.199833   19.11043  7.975532     \n",
       "2 102.50781 58.88243  0.46531815 -0.5150879 1.677258   14.86015 10.576487     \n",
       "3 103.01562 39.34165  0.32332837  1.0511644 3.121237   21.74467  7.735822     \n",
       "4 136.75000 57.17845 -0.06841464 -0.6362384 3.642977   20.95928  6.896499     \n",
       "5  88.72656 40.67223  0.60086608  1.1234917 1.178930   11.46872 14.269573     \n",
       "6  93.57031 46.69811  0.53190485  0.4167211 1.636288   14.54507 10.621748     \n",
       "  skew_dmsnr class\n",
       "1  74.24222  0    \n",
       "2 127.39358  0    \n",
       "3  63.17191  0    \n",
       "4  53.59366  0    \n",
       "5 252.56731  0    \n",
       "6 131.39400  0    "
      ]
     },
     "metadata": {},
     "output_type": "display_data"
    }
   ],
   "source": [
    "# Read csv file\n",
    "# Source: https://archive.ics.uci.edu/ml/datasets/HTRU2\n",
    "htru_data <- read_csv('https://raw.githubusercontent.com/iaujla01/DSCI100Project/main/data/HTRU_2.csv', col_names = FALSE)\n",
    "\n",
    "# Adding column names: \n",
    "# 1. Mean of the integrated profile\n",
    "# 2. Standard deviation of the integrated profile\n",
    "# 3. Excess kurtosis of the integrated profile \n",
    "# 4. Skewness of the integrated profile\n",
    "# 5. Mean of the DM-SNR curve\n",
    "# 6. Standard deviation of the DM-SNR curve\n",
    "# 7. Excess kurtosis of the DM-SNR curve\n",
    "# 8. Skewness of the DM-SNR curve\n",
    "# 9. Class\n",
    "colnames(htru_data) <- c('mean_ip', 'sd_ip', 'kurtosis_ip', 'skew_ip', 'mean_dmsnr', 'sd_dmsnr', 'kurtosis_dmsnr', 'skew_dmsnr', 'class')\n",
    "htru_data <- htru_data %>% \n",
    "    mutate(class = as.factor(class)) # since class is a dummy variable that is either positive (1) or negative (0)\n",
    "head(htru_data)"
   ]
  },
  {
   "cell_type": "code",
   "execution_count": 3,
   "metadata": {},
   "outputs": [
    {
     "name": "stdout",
     "output_type": "stream",
     "text": [
      "Rows: 13,423\n",
      "Columns: 9\n",
      "$ mean_ip        \u001b[3m\u001b[90m<dbl>\u001b[39m\u001b[23m 140.56250, 102.50781, 103.01562, 136.75000, 88.72656, 9…\n",
      "$ sd_ip          \u001b[3m\u001b[90m<dbl>\u001b[39m\u001b[23m 55.68378, 58.88243, 39.34165, 57.17845, 40.67223, 46.69…\n",
      "$ kurtosis_ip    \u001b[3m\u001b[90m<dbl>\u001b[39m\u001b[23m -0.234571412, 0.465318154, 0.323328365, -0.068414638, 0…\n",
      "$ skew_ip        \u001b[3m\u001b[90m<dbl>\u001b[39m\u001b[23m -0.69964840, -0.51508791, 1.05116443, -0.63623837, 1.12…\n",
      "$ mean_dmsnr     \u001b[3m\u001b[90m<dbl>\u001b[39m\u001b[23m 3.1998328, 1.6772575, 3.1212375, 3.6429766, 1.1789298, …\n",
      "$ sd_dmsnr       \u001b[3m\u001b[90m<dbl>\u001b[39m\u001b[23m 19.110426, 14.860146, 21.744669, 20.959280, 11.468720, …\n",
      "$ kurtosis_dmsnr \u001b[3m\u001b[90m<dbl>\u001b[39m\u001b[23m 7.975532, 10.576487, 7.735822, 6.896499, 14.269573, 10.…\n",
      "$ skew_dmsnr     \u001b[3m\u001b[90m<dbl>\u001b[39m\u001b[23m 74.24222, 127.39358, 63.17191, 53.59366, 252.56731, 131…\n",
      "$ class          \u001b[3m\u001b[90m<fct>\u001b[39m\u001b[23m 0, 0, 0, 0, 0, 0, 0, 0, 0, 0, 0, 0, 0, 0, 0, 0, 0, 0, 1…\n",
      "Rows: 4,475\n",
      "Columns: 9\n",
      "$ mean_ip        \u001b[3m\u001b[90m<dbl>\u001b[39m\u001b[23m 117.94531, 105.44531, 95.86719, 117.36719, 106.64844, 1…\n",
      "$ sd_ip          \u001b[3m\u001b[90m<dbl>\u001b[39m\u001b[23m 45.50658, 41.13997, 42.05992, 53.90861, 56.36718, 49.69…\n",
      "$ kurtosis_ip    \u001b[3m\u001b[90m<dbl>\u001b[39m\u001b[23m 0.32543756, 0.14265380, 0.32638692, 0.25795344, 0.37835…\n",
      "$ skew_ip        \u001b[3m\u001b[90m<dbl>\u001b[39m\u001b[23m 0.66145946, 0.32041968, 0.80350179, -0.40504908, -0.266…\n",
      "$ mean_dmsnr     \u001b[3m\u001b[90m<dbl>\u001b[39m\u001b[23m 2.8361204, 3.5518395, 1.8327759, 6.0183946, 2.4364549, …\n",
      "$ sd_dmsnr       \u001b[3m\u001b[90m<dbl>\u001b[39m\u001b[23m 23.118350, 20.755017, 12.248969, 24.766123, 18.405371, …\n",
      "$ kurtosis_dmsnr \u001b[3m\u001b[90m<dbl>\u001b[39m\u001b[23m 8.943212, 7.739552, 11.249331, 4.807783, 9.378660, 12.6…\n",
      "$ skew_dmsnr     \u001b[3m\u001b[90m<dbl>\u001b[39m\u001b[23m 82.47559, 68.51977, 177.23077, 25.52262, 96.86023, 171.…\n",
      "$ class          \u001b[3m\u001b[90m<fct>\u001b[39m\u001b[23m 0, 0, 0, 0, 0, 0, 0, 0, 0, 0, 0, 0, 1, 0, 0, 0, 0, 0, 0…\n"
     ]
    }
   ],
   "source": [
    "# 17,898 total examples; 1,639 positive examples; 16,259 negative examples\n",
    "# Decide to split dataset into 75% training and 25% testing\n",
    "\n",
    "htru_split <- initial_split(htru_data, prop = 0.75, strata = class)\n",
    "htru_train <- training(htru_split)\n",
    "htru_test <- testing(htru_split)\n",
    "\n",
    "glimpse(htru_train)\n",
    "glimpse(htru_test)"
   ]
  },
  {
   "cell_type": "code",
   "execution_count": 4,
   "metadata": {},
   "outputs": [],
   "source": [
    "set.seed(3456)  \n",
    "\n",
    "htru_tune <- nearest_neighbor(weight_func = \"rectangular\", \n",
    "                              neighbors = tune()) %>%\n",
    "                              set_engine(\"kknn\") %>%\n",
    "                              set_mode(\"classification\")\n",
    "\n",
    "htru_recipe <- recipe(class ~. , data = htru_train)%>%\n",
    "               step_scale(all_predictors()) %>%\n",
    "               step_center(all_predictors())"
   ]
  },
  {
   "cell_type": "code",
   "execution_count": 5,
   "metadata": {},
   "outputs": [
    {
     "data": {
      "text/html": [
       "<table class=\"dataframe\">\n",
       "<caption>A tibble: 28 × 7</caption>\n",
       "<thead>\n",
       "\t<tr><th scope=col>neighbors</th><th scope=col>.metric</th><th scope=col>.estimator</th><th scope=col>mean</th><th scope=col>n</th><th scope=col>std_err</th><th scope=col>.config</th></tr>\n",
       "\t<tr><th scope=col>&lt;int&gt;</th><th scope=col>&lt;chr&gt;</th><th scope=col>&lt;chr&gt;</th><th scope=col>&lt;dbl&gt;</th><th scope=col>&lt;int&gt;</th><th scope=col>&lt;dbl&gt;</th><th scope=col>&lt;chr&gt;</th></tr>\n",
       "</thead>\n",
       "<tbody>\n",
       "\t<tr><td> 1</td><td>accuracy</td><td>binary</td><td>0.9686357</td><td>5</td><td>0.0013464474</td><td>Preprocessor1_Model01</td></tr>\n",
       "\t<tr><td> 1</td><td>roc_auc </td><td>binary</td><td>0.9068669</td><td>5</td><td>0.0043477952</td><td>Preprocessor1_Model01</td></tr>\n",
       "\t<tr><td> 2</td><td>accuracy</td><td>binary</td><td>0.9686357</td><td>5</td><td>0.0013464474</td><td>Preprocessor1_Model02</td></tr>\n",
       "\t<tr><td> 2</td><td>roc_auc </td><td>binary</td><td>0.9321547</td><td>5</td><td>0.0035487415</td><td>Preprocessor1_Model02</td></tr>\n",
       "\t<tr><td> 3</td><td>accuracy</td><td>binary</td><td>0.9769799</td><td>5</td><td>0.0003966677</td><td>Preprocessor1_Model03</td></tr>\n",
       "\t<tr><td> 3</td><td>roc_auc </td><td>binary</td><td>0.9423708</td><td>5</td><td>0.0034189829</td><td>Preprocessor1_Model03</td></tr>\n",
       "\t<tr><td> 4</td><td>accuracy</td><td>binary</td><td>0.9769799</td><td>5</td><td>0.0003966677</td><td>Preprocessor1_Model04</td></tr>\n",
       "\t<tr><td> 4</td><td>roc_auc </td><td>binary</td><td>0.9448506</td><td>5</td><td>0.0023183635</td><td>Preprocessor1_Model04</td></tr>\n",
       "\t<tr><td> 5</td><td>accuracy</td><td>binary</td><td>0.9782463</td><td>5</td><td>0.0005477947</td><td>Preprocessor1_Model05</td></tr>\n",
       "\t<tr><td> 5</td><td>roc_auc </td><td>binary</td><td>0.9488900</td><td>5</td><td>0.0030523169</td><td>Preprocessor1_Model05</td></tr>\n",
       "\t<tr><td> 6</td><td>accuracy</td><td>binary</td><td>0.9782463</td><td>5</td><td>0.0005477947</td><td>Preprocessor1_Model06</td></tr>\n",
       "\t<tr><td> 6</td><td>roc_auc </td><td>binary</td><td>0.9491979</td><td>5</td><td>0.0026833611</td><td>Preprocessor1_Model06</td></tr>\n",
       "\t<tr><td> 7</td><td>accuracy</td><td>binary</td><td>0.9780227</td><td>5</td><td>0.0005781567</td><td>Preprocessor1_Model07</td></tr>\n",
       "\t<tr><td> 7</td><td>roc_auc </td><td>binary</td><td>0.9508008</td><td>5</td><td>0.0023218539</td><td>Preprocessor1_Model07</td></tr>\n",
       "\t<tr><td> 8</td><td>accuracy</td><td>binary</td><td>0.9780227</td><td>5</td><td>0.0005781567</td><td>Preprocessor1_Model08</td></tr>\n",
       "\t<tr><td> 8</td><td>roc_auc </td><td>binary</td><td>0.9517264</td><td>5</td><td>0.0022406289</td><td>Preprocessor1_Model08</td></tr>\n",
       "\t<tr><td> 9</td><td>accuracy</td><td>binary</td><td>0.9776502</td><td>5</td><td>0.0004725643</td><td>Preprocessor1_Model09</td></tr>\n",
       "\t<tr><td> 9</td><td>roc_auc </td><td>binary</td><td>0.9520935</td><td>5</td><td>0.0022112688</td><td>Preprocessor1_Model09</td></tr>\n",
       "\t<tr><td>10</td><td>accuracy</td><td>binary</td><td>0.9776502</td><td>5</td><td>0.0004725643</td><td>Preprocessor1_Model10</td></tr>\n",
       "\t<tr><td>10</td><td>roc_auc </td><td>binary</td><td>0.9543514</td><td>5</td><td>0.0032609196</td><td>Preprocessor1_Model10</td></tr>\n",
       "\t<tr><td>11</td><td>accuracy</td><td>binary</td><td>0.9775757</td><td>5</td><td>0.0007212463</td><td>Preprocessor1_Model11</td></tr>\n",
       "\t<tr><td>11</td><td>roc_auc </td><td>binary</td><td>0.9544022</td><td>5</td><td>0.0030143669</td><td>Preprocessor1_Model11</td></tr>\n",
       "\t<tr><td>12</td><td>accuracy</td><td>binary</td><td>0.9775757</td><td>5</td><td>0.0007212463</td><td>Preprocessor1_Model12</td></tr>\n",
       "\t<tr><td>12</td><td>roc_auc </td><td>binary</td><td>0.9544133</td><td>5</td><td>0.0028273635</td><td>Preprocessor1_Model12</td></tr>\n",
       "\t<tr><td>13</td><td>accuracy</td><td>binary</td><td>0.9778737</td><td>5</td><td>0.0006936946</td><td>Preprocessor1_Model13</td></tr>\n",
       "\t<tr><td>13</td><td>roc_auc </td><td>binary</td><td>0.9561378</td><td>5</td><td>0.0026638440</td><td>Preprocessor1_Model13</td></tr>\n",
       "\t<tr><td>14</td><td>accuracy</td><td>binary</td><td>0.9778737</td><td>5</td><td>0.0006936946</td><td>Preprocessor1_Model14</td></tr>\n",
       "\t<tr><td>14</td><td>roc_auc </td><td>binary</td><td>0.9569429</td><td>5</td><td>0.0031885641</td><td>Preprocessor1_Model14</td></tr>\n",
       "</tbody>\n",
       "</table>\n"
      ],
      "text/latex": [
       "A tibble: 28 × 7\n",
       "\\begin{tabular}{lllllll}\n",
       " neighbors & .metric & .estimator & mean & n & std\\_err & .config\\\\\n",
       " <int> & <chr> & <chr> & <dbl> & <int> & <dbl> & <chr>\\\\\n",
       "\\hline\n",
       "\t  1 & accuracy & binary & 0.9686357 & 5 & 0.0013464474 & Preprocessor1\\_Model01\\\\\n",
       "\t  1 & roc\\_auc  & binary & 0.9068669 & 5 & 0.0043477952 & Preprocessor1\\_Model01\\\\\n",
       "\t  2 & accuracy & binary & 0.9686357 & 5 & 0.0013464474 & Preprocessor1\\_Model02\\\\\n",
       "\t  2 & roc\\_auc  & binary & 0.9321547 & 5 & 0.0035487415 & Preprocessor1\\_Model02\\\\\n",
       "\t  3 & accuracy & binary & 0.9769799 & 5 & 0.0003966677 & Preprocessor1\\_Model03\\\\\n",
       "\t  3 & roc\\_auc  & binary & 0.9423708 & 5 & 0.0034189829 & Preprocessor1\\_Model03\\\\\n",
       "\t  4 & accuracy & binary & 0.9769799 & 5 & 0.0003966677 & Preprocessor1\\_Model04\\\\\n",
       "\t  4 & roc\\_auc  & binary & 0.9448506 & 5 & 0.0023183635 & Preprocessor1\\_Model04\\\\\n",
       "\t  5 & accuracy & binary & 0.9782463 & 5 & 0.0005477947 & Preprocessor1\\_Model05\\\\\n",
       "\t  5 & roc\\_auc  & binary & 0.9488900 & 5 & 0.0030523169 & Preprocessor1\\_Model05\\\\\n",
       "\t  6 & accuracy & binary & 0.9782463 & 5 & 0.0005477947 & Preprocessor1\\_Model06\\\\\n",
       "\t  6 & roc\\_auc  & binary & 0.9491979 & 5 & 0.0026833611 & Preprocessor1\\_Model06\\\\\n",
       "\t  7 & accuracy & binary & 0.9780227 & 5 & 0.0005781567 & Preprocessor1\\_Model07\\\\\n",
       "\t  7 & roc\\_auc  & binary & 0.9508008 & 5 & 0.0023218539 & Preprocessor1\\_Model07\\\\\n",
       "\t  8 & accuracy & binary & 0.9780227 & 5 & 0.0005781567 & Preprocessor1\\_Model08\\\\\n",
       "\t  8 & roc\\_auc  & binary & 0.9517264 & 5 & 0.0022406289 & Preprocessor1\\_Model08\\\\\n",
       "\t  9 & accuracy & binary & 0.9776502 & 5 & 0.0004725643 & Preprocessor1\\_Model09\\\\\n",
       "\t  9 & roc\\_auc  & binary & 0.9520935 & 5 & 0.0022112688 & Preprocessor1\\_Model09\\\\\n",
       "\t 10 & accuracy & binary & 0.9776502 & 5 & 0.0004725643 & Preprocessor1\\_Model10\\\\\n",
       "\t 10 & roc\\_auc  & binary & 0.9543514 & 5 & 0.0032609196 & Preprocessor1\\_Model10\\\\\n",
       "\t 11 & accuracy & binary & 0.9775757 & 5 & 0.0007212463 & Preprocessor1\\_Model11\\\\\n",
       "\t 11 & roc\\_auc  & binary & 0.9544022 & 5 & 0.0030143669 & Preprocessor1\\_Model11\\\\\n",
       "\t 12 & accuracy & binary & 0.9775757 & 5 & 0.0007212463 & Preprocessor1\\_Model12\\\\\n",
       "\t 12 & roc\\_auc  & binary & 0.9544133 & 5 & 0.0028273635 & Preprocessor1\\_Model12\\\\\n",
       "\t 13 & accuracy & binary & 0.9778737 & 5 & 0.0006936946 & Preprocessor1\\_Model13\\\\\n",
       "\t 13 & roc\\_auc  & binary & 0.9561378 & 5 & 0.0026638440 & Preprocessor1\\_Model13\\\\\n",
       "\t 14 & accuracy & binary & 0.9778737 & 5 & 0.0006936946 & Preprocessor1\\_Model14\\\\\n",
       "\t 14 & roc\\_auc  & binary & 0.9569429 & 5 & 0.0031885641 & Preprocessor1\\_Model14\\\\\n",
       "\\end{tabular}\n"
      ],
      "text/markdown": [
       "\n",
       "A tibble: 28 × 7\n",
       "\n",
       "| neighbors &lt;int&gt; | .metric &lt;chr&gt; | .estimator &lt;chr&gt; | mean &lt;dbl&gt; | n &lt;int&gt; | std_err &lt;dbl&gt; | .config &lt;chr&gt; |\n",
       "|---|---|---|---|---|---|---|\n",
       "|  1 | accuracy | binary | 0.9686357 | 5 | 0.0013464474 | Preprocessor1_Model01 |\n",
       "|  1 | roc_auc  | binary | 0.9068669 | 5 | 0.0043477952 | Preprocessor1_Model01 |\n",
       "|  2 | accuracy | binary | 0.9686357 | 5 | 0.0013464474 | Preprocessor1_Model02 |\n",
       "|  2 | roc_auc  | binary | 0.9321547 | 5 | 0.0035487415 | Preprocessor1_Model02 |\n",
       "|  3 | accuracy | binary | 0.9769799 | 5 | 0.0003966677 | Preprocessor1_Model03 |\n",
       "|  3 | roc_auc  | binary | 0.9423708 | 5 | 0.0034189829 | Preprocessor1_Model03 |\n",
       "|  4 | accuracy | binary | 0.9769799 | 5 | 0.0003966677 | Preprocessor1_Model04 |\n",
       "|  4 | roc_auc  | binary | 0.9448506 | 5 | 0.0023183635 | Preprocessor1_Model04 |\n",
       "|  5 | accuracy | binary | 0.9782463 | 5 | 0.0005477947 | Preprocessor1_Model05 |\n",
       "|  5 | roc_auc  | binary | 0.9488900 | 5 | 0.0030523169 | Preprocessor1_Model05 |\n",
       "|  6 | accuracy | binary | 0.9782463 | 5 | 0.0005477947 | Preprocessor1_Model06 |\n",
       "|  6 | roc_auc  | binary | 0.9491979 | 5 | 0.0026833611 | Preprocessor1_Model06 |\n",
       "|  7 | accuracy | binary | 0.9780227 | 5 | 0.0005781567 | Preprocessor1_Model07 |\n",
       "|  7 | roc_auc  | binary | 0.9508008 | 5 | 0.0023218539 | Preprocessor1_Model07 |\n",
       "|  8 | accuracy | binary | 0.9780227 | 5 | 0.0005781567 | Preprocessor1_Model08 |\n",
       "|  8 | roc_auc  | binary | 0.9517264 | 5 | 0.0022406289 | Preprocessor1_Model08 |\n",
       "|  9 | accuracy | binary | 0.9776502 | 5 | 0.0004725643 | Preprocessor1_Model09 |\n",
       "|  9 | roc_auc  | binary | 0.9520935 | 5 | 0.0022112688 | Preprocessor1_Model09 |\n",
       "| 10 | accuracy | binary | 0.9776502 | 5 | 0.0004725643 | Preprocessor1_Model10 |\n",
       "| 10 | roc_auc  | binary | 0.9543514 | 5 | 0.0032609196 | Preprocessor1_Model10 |\n",
       "| 11 | accuracy | binary | 0.9775757 | 5 | 0.0007212463 | Preprocessor1_Model11 |\n",
       "| 11 | roc_auc  | binary | 0.9544022 | 5 | 0.0030143669 | Preprocessor1_Model11 |\n",
       "| 12 | accuracy | binary | 0.9775757 | 5 | 0.0007212463 | Preprocessor1_Model12 |\n",
       "| 12 | roc_auc  | binary | 0.9544133 | 5 | 0.0028273635 | Preprocessor1_Model12 |\n",
       "| 13 | accuracy | binary | 0.9778737 | 5 | 0.0006936946 | Preprocessor1_Model13 |\n",
       "| 13 | roc_auc  | binary | 0.9561378 | 5 | 0.0026638440 | Preprocessor1_Model13 |\n",
       "| 14 | accuracy | binary | 0.9778737 | 5 | 0.0006936946 | Preprocessor1_Model14 |\n",
       "| 14 | roc_auc  | binary | 0.9569429 | 5 | 0.0031885641 | Preprocessor1_Model14 |\n",
       "\n"
      ],
      "text/plain": [
       "   neighbors .metric  .estimator mean      n std_err      .config              \n",
       "1   1        accuracy binary     0.9686357 5 0.0013464474 Preprocessor1_Model01\n",
       "2   1        roc_auc  binary     0.9068669 5 0.0043477952 Preprocessor1_Model01\n",
       "3   2        accuracy binary     0.9686357 5 0.0013464474 Preprocessor1_Model02\n",
       "4   2        roc_auc  binary     0.9321547 5 0.0035487415 Preprocessor1_Model02\n",
       "5   3        accuracy binary     0.9769799 5 0.0003966677 Preprocessor1_Model03\n",
       "6   3        roc_auc  binary     0.9423708 5 0.0034189829 Preprocessor1_Model03\n",
       "7   4        accuracy binary     0.9769799 5 0.0003966677 Preprocessor1_Model04\n",
       "8   4        roc_auc  binary     0.9448506 5 0.0023183635 Preprocessor1_Model04\n",
       "9   5        accuracy binary     0.9782463 5 0.0005477947 Preprocessor1_Model05\n",
       "10  5        roc_auc  binary     0.9488900 5 0.0030523169 Preprocessor1_Model05\n",
       "11  6        accuracy binary     0.9782463 5 0.0005477947 Preprocessor1_Model06\n",
       "12  6        roc_auc  binary     0.9491979 5 0.0026833611 Preprocessor1_Model06\n",
       "13  7        accuracy binary     0.9780227 5 0.0005781567 Preprocessor1_Model07\n",
       "14  7        roc_auc  binary     0.9508008 5 0.0023218539 Preprocessor1_Model07\n",
       "15  8        accuracy binary     0.9780227 5 0.0005781567 Preprocessor1_Model08\n",
       "16  8        roc_auc  binary     0.9517264 5 0.0022406289 Preprocessor1_Model08\n",
       "17  9        accuracy binary     0.9776502 5 0.0004725643 Preprocessor1_Model09\n",
       "18  9        roc_auc  binary     0.9520935 5 0.0022112688 Preprocessor1_Model09\n",
       "19 10        accuracy binary     0.9776502 5 0.0004725643 Preprocessor1_Model10\n",
       "20 10        roc_auc  binary     0.9543514 5 0.0032609196 Preprocessor1_Model10\n",
       "21 11        accuracy binary     0.9775757 5 0.0007212463 Preprocessor1_Model11\n",
       "22 11        roc_auc  binary     0.9544022 5 0.0030143669 Preprocessor1_Model11\n",
       "23 12        accuracy binary     0.9775757 5 0.0007212463 Preprocessor1_Model12\n",
       "24 12        roc_auc  binary     0.9544133 5 0.0028273635 Preprocessor1_Model12\n",
       "25 13        accuracy binary     0.9778737 5 0.0006936946 Preprocessor1_Model13\n",
       "26 13        roc_auc  binary     0.9561378 5 0.0026638440 Preprocessor1_Model13\n",
       "27 14        accuracy binary     0.9778737 5 0.0006936946 Preprocessor1_Model14\n",
       "28 14        roc_auc  binary     0.9569429 5 0.0031885641 Preprocessor1_Model14"
      ]
     },
     "metadata": {},
     "output_type": "display_data"
    }
   ],
   "source": [
    "set.seed(3456)  \n",
    "htru_vfold <- vfold_cv(htru_train, v = 5, strata = class)\n",
    "# Have tried more folds, but no statically significant results \n",
    "gridvals <- tibble(neighbors = 1:14) # Picked 14 neighbors to test (inadequate computer power to test more)\n",
    "htru_results <- workflow() %>%\n",
    "                add_recipe(htru_recipe) %>%\n",
    "                add_model(htru_tune) %>%\n",
    "                tune_grid(resamples = htru_vfold, grid = gridvals) %>%\n",
    "                collect_metrics()\n",
    "\n",
    "htru_results\n",
    "\n",
    "accuracies <- htru_results %>% \n",
    "       filter(.metric == \"accuracy\")"
   ]
  },
  {
   "cell_type": "code",
   "execution_count": 6,
   "metadata": {},
   "outputs": [
    {
     "data": {
      "image/png": "[encoded data removed]",
      "text/plain": [
       "plot without title"
      ]
     },
     "metadata": {
      "image/png": {
       "height": 420,
       "width": 420
      }
     },
     "output_type": "display_data"
    }
   ],
   "source": [
    "set.seed(3456)  \n",
    "cross_val_plot  <- ggplot(accuracies, aes(x = neighbors, y = mean))+\n",
    "       geom_point() +\n",
    "       geom_line() +\n",
    "       labs(x = \"Neighbors\", y = \"Accuracy Estimate\") +\n",
    "       scale_x_continuous(breaks = seq(0, 14, by = 1))\n",
    "\n",
    "cross_val_plot "
   ]
  },
  {
   "cell_type": "code",
   "execution_count": 7,
   "metadata": {},
   "outputs": [
    {
     "data": {
      "text/html": [
       "<table class=\"dataframe\">\n",
       "<caption>A tibble: 2 × 7</caption>\n",
       "<thead>\n",
       "\t<tr><th scope=col>neighbors</th><th scope=col>.metric</th><th scope=col>.estimator</th><th scope=col>mean</th><th scope=col>n</th><th scope=col>std_err</th><th scope=col>.config</th></tr>\n",
       "\t<tr><th scope=col>&lt;int&gt;</th><th scope=col>&lt;chr&gt;</th><th scope=col>&lt;chr&gt;</th><th scope=col>&lt;dbl&gt;</th><th scope=col>&lt;int&gt;</th><th scope=col>&lt;dbl&gt;</th><th scope=col>&lt;chr&gt;</th></tr>\n",
       "</thead>\n",
       "<tbody>\n",
       "\t<tr><td>5</td><td>accuracy</td><td>binary</td><td>0.9782463</td><td>5</td><td>0.0005477947</td><td>Preprocessor1_Model05</td></tr>\n",
       "\t<tr><td>6</td><td>accuracy</td><td>binary</td><td>0.9782463</td><td>5</td><td>0.0005477947</td><td>Preprocessor1_Model06</td></tr>\n",
       "</tbody>\n",
       "</table>\n"
      ],
      "text/latex": [
       "A tibble: 2 × 7\n",
       "\\begin{tabular}{lllllll}\n",
       " neighbors & .metric & .estimator & mean & n & std\\_err & .config\\\\\n",
       " <int> & <chr> & <chr> & <dbl> & <int> & <dbl> & <chr>\\\\\n",
       "\\hline\n",
       "\t 5 & accuracy & binary & 0.9782463 & 5 & 0.0005477947 & Preprocessor1\\_Model05\\\\\n",
       "\t 6 & accuracy & binary & 0.9782463 & 5 & 0.0005477947 & Preprocessor1\\_Model06\\\\\n",
       "\\end{tabular}\n"
      ],
      "text/markdown": [
       "\n",
       "A tibble: 2 × 7\n",
       "\n",
       "| neighbors &lt;int&gt; | .metric &lt;chr&gt; | .estimator &lt;chr&gt; | mean &lt;dbl&gt; | n &lt;int&gt; | std_err &lt;dbl&gt; | .config &lt;chr&gt; |\n",
       "|---|---|---|---|---|---|---|\n",
       "| 5 | accuracy | binary | 0.9782463 | 5 | 0.0005477947 | Preprocessor1_Model05 |\n",
       "| 6 | accuracy | binary | 0.9782463 | 5 | 0.0005477947 | Preprocessor1_Model06 |\n",
       "\n"
      ],
      "text/plain": [
       "  neighbors .metric  .estimator mean      n std_err      .config              \n",
       "1 5         accuracy binary     0.9782463 5 0.0005477947 Preprocessor1_Model05\n",
       "2 6         accuracy binary     0.9782463 5 0.0005477947 Preprocessor1_Model06"
      ]
     },
     "metadata": {},
     "output_type": "display_data"
    },
    {
     "data": {
      "text/html": [
       "<table class=\"dataframe\">\n",
       "<caption>A tibble: 1 × 3</caption>\n",
       "<thead>\n",
       "\t<tr><th scope=col>.metric</th><th scope=col>.estimator</th><th scope=col>.estimate</th></tr>\n",
       "\t<tr><th scope=col>&lt;chr&gt;</th><th scope=col>&lt;chr&gt;</th><th scope=col>&lt;dbl&gt;</th></tr>\n",
       "</thead>\n",
       "<tbody>\n",
       "\t<tr><td>accuracy</td><td>binary</td><td>0.9792179</td></tr>\n",
       "</tbody>\n",
       "</table>\n"
      ],
      "text/latex": [
       "A tibble: 1 × 3\n",
       "\\begin{tabular}{lll}\n",
       " .metric & .estimator & .estimate\\\\\n",
       " <chr> & <chr> & <dbl>\\\\\n",
       "\\hline\n",
       "\t accuracy & binary & 0.9792179\\\\\n",
       "\\end{tabular}\n"
      ],
      "text/markdown": [
       "\n",
       "A tibble: 1 × 3\n",
       "\n",
       "| .metric &lt;chr&gt; | .estimator &lt;chr&gt; | .estimate &lt;dbl&gt; |\n",
       "|---|---|---|\n",
       "| accuracy | binary | 0.9792179 |\n",
       "\n"
      ],
      "text/plain": [
       "  .metric  .estimator .estimate\n",
       "1 accuracy binary     0.9792179"
      ]
     },
     "metadata": {},
     "output_type": "display_data"
    }
   ],
   "source": [
    "set.seed(3456)  \n",
    "htru_max <- htru_results %>%\n",
    "  filter(mean == max(mean))\n",
    "\n",
    "htru_max\n",
    "\n",
    "htru_max_number <- htru_max %>%\n",
    "                   slice(1) %>%\n",
    "                   pull(neighbors)%>%\n",
    "                   as.integer()\n",
    "\n",
    "htru_spec_max <- nearest_neighbor(weight_func = \"rectangular\", neighbors = htru_max_number) %>%\n",
    "  set_engine(\"kknn\") %>%\n",
    "  set_mode(\"classification\")\n",
    "\n",
    "htru_fit <- workflow() %>%\n",
    "  add_recipe(htru_recipe) %>%\n",
    "  add_model(htru_spec_max) %>%\n",
    "  fit(data = htru_train)\n",
    "\n",
    "htru_summary <- htru_fit %>%\n",
    "  predict(htru_test) %>%\n",
    "  bind_cols(htru_test) %>%\n",
    "  metrics(truth = class, estimate = .pred_class) %>%\n",
    "  filter(.metric == 'accuracy')\n",
    "\n",
    "htru_summary"
   ]
  },
  {
   "cell_type": "code",
   "execution_count": null,
   "metadata": {},
   "outputs": [],
   "source": [
    "source('cleanup.R')"
   ]
  }
 ],
 "metadata": {
  "kernelspec": {
   "display_name": "R",
   "language": "R",
   "name": "ir"
  },
  "language_info": {
   "codemirror_mode": "r",
   "file_extension": ".r",
   "mimetype": "text/x-r-source",
   "name": "R",
   "pygments_lexer": "r",
   "version": "4.1.2"
  }
 },
 "nbformat": 4,
 "nbformat_minor": 4
}
