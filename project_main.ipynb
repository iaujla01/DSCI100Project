{
 "cells": [
  {
   "cell_type": "markdown",
   "metadata": {},
   "source": [
    "# Final Report: Classifying Pulsars\n",
    "Authors: Rico, Iqbal, Kimmy, Hank, Haonan, Bhavya"
   ]
  },
  {
   "cell_type": "markdown",
   "metadata": {
    "tags": []
   },
   "source": [
    "## Introduction\n",
    "   A pulsar is a Neutron star, remnants from a supernova explosion. Pulsars are characterized by their blinking light or periodic pulse of radio waves, rapid rotation, and strong magnetic field(Cofield, 2016 ). Because these are among the densest materials on Earth, Physicists study these to identify the presence of alien planets, detect gravitational waves, calculate cosmic distances, and test the universal force of gravity. Moreover, when two pulsars are nearby, there will be a collision and a larger explosion (Mahony, 2020). \n",
    "\n",
    "   Each potential detection is represented by two curves:  the integrated profile and DM-SNR. Since a pulsar periodically emits unique pulses, the integrated profile is used to represent an average of these different pulses (Lyon, 2016). To describe the uncertainty caused by dispersion (where each pulse is detected at different times across frequencies), a dispersion-measure-signal-to-noise (DM-SNR) curve is used. Furthermore, each curve is described by four statistical variables: mean, standard deviation, kurtosis, and skewness.\n",
    "\n",
    "   In reality, most candidates are caused by radio frequency interference and noise, consequently making positive pulsar cases rare to detect. Hence, our goal for this project is to train a model that classifies whether a star is non-pulsar or pulsar star based on the mean, standard deviation, kurtosis, and skewness of the integrated profile. Our central question is:  can we determine whether the signal is coming from a pulsar star or not?\n",
    "\n",
    "   To explore this, the group will analyze a total of 17,898 radio pulses by the High time Resolution Universe Survey (HTRU) by Dr. Robert Lyon of the Royal Astronomical Society. \n",
    "\n",
    "\n"
   ]
  },
  {
   "cell_type": "markdown",
   "metadata": {},
   "source": [
    "![](https://media3.giphy.com/media/l3dj5M4YLaFww31V6/giphy.gif)"
   ]
  },
  {
   "cell_type": "markdown",
   "metadata": {},
   "source": [
    "## Methods and Results"
   ]
  },
  {
   "cell_type": "code",
   "execution_count": 12,
   "metadata": {},
   "outputs": [
    {
     "name": "stderr",
     "output_type": "stream",
     "text": [
      "Updating HTML index of packages in '.Library'\n",
      "\n",
      "Making 'packages.html' ...\n",
      " done\n",
      "\n"
     ]
    }
   ],
   "source": [
    "# Install packages\n",
    "# install.packages('tidyverse')\n",
    "# install.packages('tidymodels')\n",
    "# install.packages('gridExtra')\n",
    "install.packages('themis')"
   ]
  },
  {
   "cell_type": "code",
   "execution_count": 13,
   "metadata": {},
   "outputs": [],
   "source": [
    "# Import packages\n",
    "library(tidyverse)\n",
    "library(tidymodels)\n",
    "library(themis)"
   ]
  },
  {
   "cell_type": "code",
   "execution_count": 14,
   "metadata": {},
   "outputs": [
    {
     "name": "stderr",
     "output_type": "stream",
     "text": [
      "Parsed with column specification:\n",
      "cols(\n",
      "  X1 = \u001b[32mcol_double()\u001b[39m,\n",
      "  X2 = \u001b[32mcol_double()\u001b[39m,\n",
      "  X3 = \u001b[32mcol_double()\u001b[39m,\n",
      "  X4 = \u001b[32mcol_double()\u001b[39m,\n",
      "  X5 = \u001b[32mcol_double()\u001b[39m,\n",
      "  X6 = \u001b[32mcol_double()\u001b[39m,\n",
      "  X7 = \u001b[32mcol_double()\u001b[39m,\n",
      "  X8 = \u001b[32mcol_double()\u001b[39m,\n",
      "  X9 = \u001b[32mcol_double()\u001b[39m\n",
      ")\n",
      "\n"
     ]
    },
    {
     "data": {
      "text/html": [
       "<table>\n",
       "<caption>A tibble: 6 × 9</caption>\n",
       "<thead>\n",
       "\t<tr><th scope=col>mean_ip</th><th scope=col>sd_ip</th><th scope=col>kurtosis_ip</th><th scope=col>skew_ip</th><th scope=col>mean_dmsnr</th><th scope=col>sd_dmsnr</th><th scope=col>kurtosis_dmsnr</th><th scope=col>skew_dmsnr</th><th scope=col>class</th></tr>\n",
       "\t<tr><th scope=col>&lt;dbl&gt;</th><th scope=col>&lt;dbl&gt;</th><th scope=col>&lt;dbl&gt;</th><th scope=col>&lt;dbl&gt;</th><th scope=col>&lt;dbl&gt;</th><th scope=col>&lt;dbl&gt;</th><th scope=col>&lt;dbl&gt;</th><th scope=col>&lt;dbl&gt;</th><th scope=col>&lt;fct&gt;</th></tr>\n",
       "</thead>\n",
       "<tbody>\n",
       "\t<tr><td>140.56250</td><td>55.68378</td><td>-0.23457141</td><td>-0.6996484</td><td>3.199833</td><td>19.11043</td><td> 7.975532</td><td> 74.24222</td><td>0</td></tr>\n",
       "\t<tr><td>102.50781</td><td>58.88243</td><td> 0.46531815</td><td>-0.5150879</td><td>1.677258</td><td>14.86015</td><td>10.576487</td><td>127.39358</td><td>0</td></tr>\n",
       "\t<tr><td>103.01562</td><td>39.34165</td><td> 0.32332837</td><td> 1.0511644</td><td>3.121237</td><td>21.74467</td><td> 7.735822</td><td> 63.17191</td><td>0</td></tr>\n",
       "\t<tr><td>136.75000</td><td>57.17845</td><td>-0.06841464</td><td>-0.6362384</td><td>3.642977</td><td>20.95928</td><td> 6.896499</td><td> 53.59366</td><td>0</td></tr>\n",
       "\t<tr><td> 88.72656</td><td>40.67223</td><td> 0.60086608</td><td> 1.1234917</td><td>1.178930</td><td>11.46872</td><td>14.269573</td><td>252.56731</td><td>0</td></tr>\n",
       "\t<tr><td> 93.57031</td><td>46.69811</td><td> 0.53190485</td><td> 0.4167211</td><td>1.636288</td><td>14.54507</td><td>10.621748</td><td>131.39400</td><td>0</td></tr>\n",
       "</tbody>\n",
       "</table>\n"
      ],
      "text/latex": [
       "A tibble: 6 × 9\n",
       "\\begin{tabular}{lllllllll}\n",
       " mean\\_ip & sd\\_ip & kurtosis\\_ip & skew\\_ip & mean\\_dmsnr & sd\\_dmsnr & kurtosis\\_dmsnr & skew\\_dmsnr & class\\\\\n",
       " <dbl> & <dbl> & <dbl> & <dbl> & <dbl> & <dbl> & <dbl> & <dbl> & <fct>\\\\\n",
       "\\hline\n",
       "\t 140.56250 & 55.68378 & -0.23457141 & -0.6996484 & 3.199833 & 19.11043 &  7.975532 &  74.24222 & 0\\\\\n",
       "\t 102.50781 & 58.88243 &  0.46531815 & -0.5150879 & 1.677258 & 14.86015 & 10.576487 & 127.39358 & 0\\\\\n",
       "\t 103.01562 & 39.34165 &  0.32332837 &  1.0511644 & 3.121237 & 21.74467 &  7.735822 &  63.17191 & 0\\\\\n",
       "\t 136.75000 & 57.17845 & -0.06841464 & -0.6362384 & 3.642977 & 20.95928 &  6.896499 &  53.59366 & 0\\\\\n",
       "\t  88.72656 & 40.67223 &  0.60086608 &  1.1234917 & 1.178930 & 11.46872 & 14.269573 & 252.56731 & 0\\\\\n",
       "\t  93.57031 & 46.69811 &  0.53190485 &  0.4167211 & 1.636288 & 14.54507 & 10.621748 & 131.39400 & 0\\\\\n",
       "\\end{tabular}\n"
      ],
      "text/markdown": [
       "\n",
       "A tibble: 6 × 9\n",
       "\n",
       "| mean_ip &lt;dbl&gt; | sd_ip &lt;dbl&gt; | kurtosis_ip &lt;dbl&gt; | skew_ip &lt;dbl&gt; | mean_dmsnr &lt;dbl&gt; | sd_dmsnr &lt;dbl&gt; | kurtosis_dmsnr &lt;dbl&gt; | skew_dmsnr &lt;dbl&gt; | class &lt;fct&gt; |\n",
       "|---|---|---|---|---|---|---|---|---|\n",
       "| 140.56250 | 55.68378 | -0.23457141 | -0.6996484 | 3.199833 | 19.11043 |  7.975532 |  74.24222 | 0 |\n",
       "| 102.50781 | 58.88243 |  0.46531815 | -0.5150879 | 1.677258 | 14.86015 | 10.576487 | 127.39358 | 0 |\n",
       "| 103.01562 | 39.34165 |  0.32332837 |  1.0511644 | 3.121237 | 21.74467 |  7.735822 |  63.17191 | 0 |\n",
       "| 136.75000 | 57.17845 | -0.06841464 | -0.6362384 | 3.642977 | 20.95928 |  6.896499 |  53.59366 | 0 |\n",
       "|  88.72656 | 40.67223 |  0.60086608 |  1.1234917 | 1.178930 | 11.46872 | 14.269573 | 252.56731 | 0 |\n",
       "|  93.57031 | 46.69811 |  0.53190485 |  0.4167211 | 1.636288 | 14.54507 | 10.621748 | 131.39400 | 0 |\n",
       "\n"
      ],
      "text/plain": [
       "  mean_ip   sd_ip    kurtosis_ip skew_ip    mean_dmsnr sd_dmsnr kurtosis_dmsnr\n",
       "1 140.56250 55.68378 -0.23457141 -0.6996484 3.199833   19.11043  7.975532     \n",
       "2 102.50781 58.88243  0.46531815 -0.5150879 1.677258   14.86015 10.576487     \n",
       "3 103.01562 39.34165  0.32332837  1.0511644 3.121237   21.74467  7.735822     \n",
       "4 136.75000 57.17845 -0.06841464 -0.6362384 3.642977   20.95928  6.896499     \n",
       "5  88.72656 40.67223  0.60086608  1.1234917 1.178930   11.46872 14.269573     \n",
       "6  93.57031 46.69811  0.53190485  0.4167211 1.636288   14.54507 10.621748     \n",
       "  skew_dmsnr class\n",
       "1  74.24222  0    \n",
       "2 127.39358  0    \n",
       "3  63.17191  0    \n",
       "4  53.59366  0    \n",
       "5 252.56731  0    \n",
       "6 131.39400  0    "
      ]
     },
     "metadata": {},
     "output_type": "display_data"
    }
   ],
   "source": [
    "# Read csv file \n",
    "# Source: https://archive.ics.uci.edu/ml/datasets/HTRU2\n",
    "htru_data <- read_csv('https://raw.githubusercontent.com/iaujla01/DSCI100Project/main/data/HTRU_2.csv', col_names = FALSE)\n",
    "\n",
    "# Adding column names: \n",
    "# 1. Mean of the integrated profile\n",
    "# 2. Standard deviation of the integrated profile\n",
    "# 3. Excess kurtosis of the integrated profile \n",
    "# 4. Skewness of the integrated profile\n",
    "# 5. Mean of the DM-SNR curve\n",
    "# 6. Standard deviation of the DM-SNR curve\n",
    "# 7. Excess kurtosis of the DM-SNR curve\n",
    "# 8. Skewness of the DM-SNR curve\n",
    "# 9. Class\n",
    "colnames(htru_data) <- c('mean_ip', 'sd_ip', 'kurtosis_ip', 'skew_ip', 'mean_dmsnr', 'sd_dmsnr', 'kurtosis_dmsnr', 'skew_dmsnr', 'class')\n",
    "htru_data <- htru_data %>% \n",
    "    mutate(class = as.factor(class)) # since class is a dummy variable that is either positive (1) or negative (0)\n",
    "head(htru_data)"
   ]
  },
  {
   "cell_type": "markdown",
   "metadata": {},
   "source": [
    "### Splitting Our Dataset"
   ]
  },
  {
   "cell_type": "code",
   "execution_count": 15,
   "metadata": {},
   "outputs": [
    {
     "name": "stderr",
     "output_type": "stream",
     "text": [
      "`summarise()` ungrouping output (override with `.groups` argument)\n",
      "\n"
     ]
    },
    {
     "data": {
      "text/html": [
       "<table>\n",
       "<caption>A tibble: 2 × 2</caption>\n",
       "<thead>\n",
       "\t<tr><th scope=col>class</th><th scope=col>n</th></tr>\n",
       "\t<tr><th scope=col>&lt;fct&gt;</th><th scope=col>&lt;int&gt;</th></tr>\n",
       "</thead>\n",
       "<tbody>\n",
       "\t<tr><td>0</td><td>16259</td></tr>\n",
       "\t<tr><td>1</td><td>16259</td></tr>\n",
       "</tbody>\n",
       "</table>\n"
      ],
      "text/latex": [
       "A tibble: 2 × 2\n",
       "\\begin{tabular}{ll}\n",
       " class & n\\\\\n",
       " <fct> & <int>\\\\\n",
       "\\hline\n",
       "\t 0 & 16259\\\\\n",
       "\t 1 & 16259\\\\\n",
       "\\end{tabular}\n"
      ],
      "text/markdown": [
       "\n",
       "A tibble: 2 × 2\n",
       "\n",
       "| class &lt;fct&gt; | n &lt;int&gt; |\n",
       "|---|---|\n",
       "| 0 | 16259 |\n",
       "| 1 | 16259 |\n",
       "\n"
      ],
      "text/plain": [
       "  class n    \n",
       "1 0     16259\n",
       "2 1     16259"
      ]
     },
     "metadata": {},
     "output_type": "display_data"
    },
    {
     "name": "stdout",
     "output_type": "stream",
     "text": [
      "Rows: 24,390\n",
      "Columns: 5\n",
      "$ mean_ip     \u001b[3m\u001b[90m<dbl>\u001b[39m\u001b[23m 140.56250, 103.01562, 136.75000, 88.72656, 93.57031, 130.…\n",
      "$ sd_ip       \u001b[3m\u001b[90m<dbl>\u001b[39m\u001b[23m 55.68378, 39.34165, 57.17845, 40.67223, 46.69811, 39.8440…\n",
      "$ kurtosis_ip \u001b[3m\u001b[90m<dbl>\u001b[39m\u001b[23m -0.23457141, 0.32332837, -0.06841464, 0.60086608, 0.53190…\n",
      "$ skew_ip     \u001b[3m\u001b[90m<dbl>\u001b[39m\u001b[23m -0.69964840, 1.05116443, -0.63623837, 1.12349169, 0.41672…\n",
      "$ class       \u001b[3m\u001b[90m<fct>\u001b[39m\u001b[23m 0, 0, 0, 0, 0, 0, 0, 0, 0, 0, 0, 0, 0, 0, 0, 0, 0, 0, 0, …\n",
      "Rows: 8,128\n",
      "Columns: 5\n",
      "$ mean_ip     \u001b[3m\u001b[90m<dbl>\u001b[39m\u001b[23m 102.50781, 119.48438, 107.25781, 95.86719, 106.64844, 119…\n",
      "$ sd_ip       \u001b[3m\u001b[90m<dbl>\u001b[39m\u001b[23m 58.88243, 48.76506, 39.49649, 42.05992, 56.36718, 52.8748…\n",
      "$ kurtosis_ip \u001b[3m\u001b[90m<dbl>\u001b[39m\u001b[23m 0.465318154, 0.031460220, 0.465881961, 0.326386917, 0.378…\n",
      "$ skew_ip     \u001b[3m\u001b[90m<dbl>\u001b[39m\u001b[23m -0.5150879, -0.1121676, 1.1628771, 0.8035018, -0.2663716,…\n",
      "$ class       \u001b[3m\u001b[90m<fct>\u001b[39m\u001b[23m 0, 0, 0, 0, 0, 0, 0, 0, 0, 0, 0, 0, 0, 0, 0, 0, 0, 0, 0, …\n"
     ]
    }
   ],
   "source": [
    "# Picked seed 3456 for reproducible results\n",
    "set.seed(3456)\n",
    "\n",
    "# 17,898 total examples; 1,639 positive examples; 16,259 negative examples\n",
    "# Decided to split dataset into 75% training and 25% testing\n",
    " recipe_upsample <- recipe(class ~ mean_ip + sd_ip + kurtosis_ip + skew_ip, data = htru_data) %>%\n",
    "                     step_upsample(class, over_ratio = 1, skip = FALSE)\n",
    "\n",
    " htru_upscaled <- recipe_upsample %>%\n",
    "                 prep() %>%\n",
    "                 bake(htru_data)\n",
    " group_by(htru_upscaled, class) %>%\n",
    " summarize(n = n())\n",
    "htru_split <- initial_split(htru_upscaled, prop = 0.75, strata = class)\n",
    "htru_train <- training(htru_split)\n",
    "htru_test <- testing(htru_split)\n",
    "\n",
    "glimpse(htru_train)\n",
    "glimpse(htru_test)"
   ]
  },
  {
   "cell_type": "markdown",
   "metadata": {},
   "source": [
    "### Preliminary Summary"
   ]
  },
  {
   "cell_type": "code",
   "execution_count": 16,
   "metadata": {},
   "outputs": [
    {
     "name": "stderr",
     "output_type": "stream",
     "text": [
      "`summarise()` ungrouping output (override with `.groups` argument)\n",
      "\n"
     ]
    },
    {
     "data": {
      "text/html": [
       "<table>\n",
       "<caption>A tibble: 2 × 2</caption>\n",
       "<thead>\n",
       "\t<tr><th scope=col>class</th><th scope=col>n</th></tr>\n",
       "\t<tr><th scope=col>&lt;fct&gt;</th><th scope=col>&lt;int&gt;</th></tr>\n",
       "</thead>\n",
       "<tbody>\n",
       "\t<tr><td>0</td><td>12195</td></tr>\n",
       "\t<tr><td>1</td><td>12195</td></tr>\n",
       "</tbody>\n",
       "</table>\n"
      ],
      "text/latex": [
       "A tibble: 2 × 2\n",
       "\\begin{tabular}{ll}\n",
       " class & n\\\\\n",
       " <fct> & <int>\\\\\n",
       "\\hline\n",
       "\t 0 & 12195\\\\\n",
       "\t 1 & 12195\\\\\n",
       "\\end{tabular}\n"
      ],
      "text/markdown": [
       "\n",
       "A tibble: 2 × 2\n",
       "\n",
       "| class &lt;fct&gt; | n &lt;int&gt; |\n",
       "|---|---|\n",
       "| 0 | 12195 |\n",
       "| 1 | 12195 |\n",
       "\n"
      ],
      "text/plain": [
       "  class n    \n",
       "1 0     12195\n",
       "2 1     12195"
      ]
     },
     "metadata": {},
     "output_type": "display_data"
    },
    {
     "name": "stderr",
     "output_type": "stream",
     "text": [
      "`summarise()` ungrouping output (override with `.groups` argument)\n",
      "\n"
     ]
    },
    {
     "data": {
      "text/html": [
       "<table>\n",
       "<caption>A tibble: 2 × 3</caption>\n",
       "<thead>\n",
       "\t<tr><th scope=col>class</th><th scope=col>n</th><th scope=col>percent</th></tr>\n",
       "\t<tr><th scope=col>&lt;fct&gt;</th><th scope=col>&lt;int&gt;</th><th scope=col>&lt;dbl&gt;</th></tr>\n",
       "</thead>\n",
       "<tbody>\n",
       "\t<tr><td>0</td><td>12195</td><td>50</td></tr>\n",
       "\t<tr><td>1</td><td>12195</td><td>50</td></tr>\n",
       "</tbody>\n",
       "</table>\n"
      ],
      "text/latex": [
       "A tibble: 2 × 3\n",
       "\\begin{tabular}{lll}\n",
       " class & n & percent\\\\\n",
       " <fct> & <int> & <dbl>\\\\\n",
       "\\hline\n",
       "\t 0 & 12195 & 50\\\\\n",
       "\t 1 & 12195 & 50\\\\\n",
       "\\end{tabular}\n"
      ],
      "text/markdown": [
       "\n",
       "A tibble: 2 × 3\n",
       "\n",
       "| class &lt;fct&gt; | n &lt;int&gt; | percent &lt;dbl&gt; |\n",
       "|---|---|---|\n",
       "| 0 | 12195 | 50 |\n",
       "| 1 | 12195 | 50 |\n",
       "\n"
      ],
      "text/plain": [
       "  class n     percent\n",
       "1 0     12195 50     \n",
       "2 1     12195 50     "
      ]
     },
     "metadata": {},
     "output_type": "display_data"
    },
    {
     "ename": "ERROR",
     "evalue": "Error: Problem with `summarise()` input `max_mean_dmsnr`.\n\u001b[31m✖\u001b[39m object 'mean_dmsnr' not found\n\u001b[34mℹ\u001b[39m Input `max_mean_dmsnr` is `max(mean_dmsnr, na.rm = TRUE)`.\n\u001b[34mℹ\u001b[39m The error occurred in group 1: class = \"0\".\n",
     "output_type": "error",
     "traceback": [
      "Error: Problem with `summarise()` input `max_mean_dmsnr`.\n\u001b[31m✖\u001b[39m object 'mean_dmsnr' not found\n\u001b[34mℹ\u001b[39m Input `max_mean_dmsnr` is `max(mean_dmsnr, na.rm = TRUE)`.\n\u001b[34mℹ\u001b[39m The error occurred in group 1: class = \"0\".\nTraceback:\n",
      "1. htru_train %>% group_by(class) %>% summarize(max_mean_ip = max(mean_ip, \n .     na.rm = TRUE), max_sd_ip = max(sd_ip, na.rm = TRUE), max_kurtosis_ip = max(kurtosis_ip, \n .     na.rm = TRUE), max_skew_ip = max(skew_ip, na.rm = TRUE), \n .     max_mean_dmsnr = max(mean_dmsnr, na.rm = TRUE), max_sd_dmsnr = max(sd_dmsnr, \n .         na.rm = TRUE), max_kurtosis_dmsnr = max(kurtosis_dmsnr, \n .         na.rm = TRUE), max_skew_dmsnr = max(skew_dmsnr, na.rm = TRUE), \n .     min_mean_ip = min(mean_ip, na.rm = TRUE), min_sd_ip = min(sd_ip, \n .         na.rm = TRUE), min_kurtosis_ip = min(kurtosis_ip, na.rm = TRUE), \n .     min_skew_ip = min(skew_ip, na.rm = TRUE), min_mean_dmsnr = min(mean_dmsnr, \n .         na.rm = TRUE), min_sd_dmsnr = min(sd_dmsnr, na.rm = TRUE), \n .     min_kurtosis_dmsnr = min(kurtosis_dmsnr, na.rm = TRUE), min_skew_dmsnr = min(skew_dmsnr, \n .         na.rm = TRUE)) %>% pivot_longer(cols = -class, names_to = \"variable_max_min\", \n .     values_to = \"Value\")",
      "2. withVisible(eval(quote(`_fseq`(`_lhs`)), env, env))",
      "3. eval(quote(`_fseq`(`_lhs`)), env, env)",
      "4. eval(quote(`_fseq`(`_lhs`)), env, env)",
      "5. `_fseq`(`_lhs`)",
      "6. freduce(value, `_function_list`)",
      "7. function_list[[i]](value)",
      "8. summarize(., max_mean_ip = max(mean_ip, na.rm = TRUE), max_sd_ip = max(sd_ip, \n .     na.rm = TRUE), max_kurtosis_ip = max(kurtosis_ip, na.rm = TRUE), \n .     max_skew_ip = max(skew_ip, na.rm = TRUE), max_mean_dmsnr = max(mean_dmsnr, \n .         na.rm = TRUE), max_sd_dmsnr = max(sd_dmsnr, na.rm = TRUE), \n .     max_kurtosis_dmsnr = max(kurtosis_dmsnr, na.rm = TRUE), max_skew_dmsnr = max(skew_dmsnr, \n .         na.rm = TRUE), min_mean_ip = min(mean_ip, na.rm = TRUE), \n .     min_sd_ip = min(sd_ip, na.rm = TRUE), min_kurtosis_ip = min(kurtosis_ip, \n .         na.rm = TRUE), min_skew_ip = min(skew_ip, na.rm = TRUE), \n .     min_mean_dmsnr = min(mean_dmsnr, na.rm = TRUE), min_sd_dmsnr = min(sd_dmsnr, \n .         na.rm = TRUE), min_kurtosis_dmsnr = min(kurtosis_dmsnr, \n .         na.rm = TRUE), min_skew_dmsnr = min(skew_dmsnr, na.rm = TRUE))",
      "9. summarise.grouped_df(., max_mean_ip = max(mean_ip, na.rm = TRUE), \n .     max_sd_ip = max(sd_ip, na.rm = TRUE), max_kurtosis_ip = max(kurtosis_ip, \n .         na.rm = TRUE), max_skew_ip = max(skew_ip, na.rm = TRUE), \n .     max_mean_dmsnr = max(mean_dmsnr, na.rm = TRUE), max_sd_dmsnr = max(sd_dmsnr, \n .         na.rm = TRUE), max_kurtosis_dmsnr = max(kurtosis_dmsnr, \n .         na.rm = TRUE), max_skew_dmsnr = max(skew_dmsnr, na.rm = TRUE), \n .     min_mean_ip = min(mean_ip, na.rm = TRUE), min_sd_ip = min(sd_ip, \n .         na.rm = TRUE), min_kurtosis_ip = min(kurtosis_ip, na.rm = TRUE), \n .     min_skew_ip = min(skew_ip, na.rm = TRUE), min_mean_dmsnr = min(mean_dmsnr, \n .         na.rm = TRUE), min_sd_dmsnr = min(sd_dmsnr, na.rm = TRUE), \n .     min_kurtosis_dmsnr = min(kurtosis_dmsnr, na.rm = TRUE), min_skew_dmsnr = min(skew_dmsnr, \n .         na.rm = TRUE))",
      "10. summarise_cols(.data, ...)",
      "11. withCallingHandlers({\n  .     for (i in seq_along(dots)) {\n  .         quo <- dots[[i]]\n  .         chunks[[i]] <- mask$eval_all_summarise(quo)\n  .         mask$across_cache_reset()\n  .         result_type <- types[[i]] <- withCallingHandlers(vec_ptype_common(!!!chunks[[i]]), \n  .             vctrs_error_incompatible_type = function(cnd) {\n  .                 abort(class = \"dplyr:::error_summarise_incompatible_combine\", \n  .                   parent = cnd)\n  .             })\n  .         if ((is.null(dots_names) || dots_names[i] == \"\") && is.data.frame(result_type)) {\n  .             map2(seq_along(result_type), names(result_type), \n  .                 function(j, nm) {\n  .                   mask$add(nm, pluck(chunks[[i]], j))\n  .                 })\n  .         }\n  .         else {\n  .             mask$add(auto_named_dots[i], chunks[[i]])\n  .         }\n  .     }\n  .     recycle_info <- .Call(dplyr_summarise_recycle_chunks, chunks, \n  .         mask$get_rows(), types)\n  .     chunks <- recycle_info$chunks\n  .     sizes <- recycle_info$sizes\n  .     for (i in seq_along(dots)) {\n  .         result <- vec_c(!!!chunks[[i]], .ptype = types[[i]])\n  .         if ((is.null(dots_names) || dots_names[i] == \"\") && is.data.frame(result)) {\n  .             cols[names(result)] <- result\n  .         }\n  .         else {\n  .             cols[[auto_named_dots[i]]] <- result\n  .         }\n  .     }\n  . }, error = function(e) {\n  .     local_call_step(dots = dots, .index = i, .fn = \"summarise\", \n  .         .dot_data = inherits(e, \"rlang_error_data_pronoun_not_found\"))\n  .     call_step <- peek_call_step()\n  .     error_name <- call_step$error_name\n  .     if (inherits(e, \"dplyr:::error_summarise_incompatible_combine\")) {\n  .         bullets <- c(x = glue(\"Input `{error_name}` must return compatible vectors across groups\", \n  .             .envir = peek_call_step()), i = cnd_bullet_combine_details(e$parent$x, \n  .             e$parent$x_arg), i = cnd_bullet_combine_details(e$parent$y, \n  .             e$parent$y_arg))\n  .     }\n  .     else if (inherits(e, \"dplyr:::summarise_unsupported_type\")) {\n  .         bullets <- c(x = glue(\"Input `{error_name}` must be a vector, not {friendly_type_of(result)}.\", \n  .             result = e$result), i = cnd_bullet_rowwise_unlist())\n  .     }\n  .     else if (inherits(e, \"dplyr:::summarise_incompatible_size\")) {\n  .         peek_mask()$set_current_group(e$group)\n  .         bullets <- c(x = glue(\"Input `{error_name}` must be size {or_1(expected_size)}, not {size}.\", \n  .             expected_size = e$expected_size, size = e$size), \n  .             i = glue(\"An earlier column had size {expected_size}.\", \n  .                 expected_size = e$expected_size))\n  .     }\n  .     else {\n  .         bullets <- c(x = conditionMessage(e))\n  .     }\n  .     bullets <- c(cnd_bullet_header(), bullets, i = cnd_bullet_input_info())\n  .     if (!inherits(e, \"dplyr:::error_summarise_incompatible_combine\")) {\n  .         bullets <- c(bullets, i = cnd_bullet_cur_group_label())\n  .     }\n  .     abort(bullets, class = \"dplyr_error\")\n  . })",
      "12. mask$eval_all_summarise(quo)",
      "13. .handleSimpleError(function (e) \n  . {\n  .     local_call_step(dots = dots, .index = i, .fn = \"summarise\", \n  .         .dot_data = inherits(e, \"rlang_error_data_pronoun_not_found\"))\n  .     call_step <- peek_call_step()\n  .     error_name <- call_step$error_name\n  .     if (inherits(e, \"dplyr:::error_summarise_incompatible_combine\")) {\n  .         bullets <- c(x = glue(\"Input `{error_name}` must return compatible vectors across groups\", \n  .             .envir = peek_call_step()), i = cnd_bullet_combine_details(e$parent$x, \n  .             e$parent$x_arg), i = cnd_bullet_combine_details(e$parent$y, \n  .             e$parent$y_arg))\n  .     }\n  .     else if (inherits(e, \"dplyr:::summarise_unsupported_type\")) {\n  .         bullets <- c(x = glue(\"Input `{error_name}` must be a vector, not {friendly_type_of(result)}.\", \n  .             result = e$result), i = cnd_bullet_rowwise_unlist())\n  .     }\n  .     else if (inherits(e, \"dplyr:::summarise_incompatible_size\")) {\n  .         peek_mask()$set_current_group(e$group)\n  .         bullets <- c(x = glue(\"Input `{error_name}` must be size {or_1(expected_size)}, not {size}.\", \n  .             expected_size = e$expected_size, size = e$size), \n  .             i = glue(\"An earlier column had size {expected_size}.\", \n  .                 expected_size = e$expected_size))\n  .     }\n  .     else {\n  .         bullets <- c(x = conditionMessage(e))\n  .     }\n  .     bullets <- c(cnd_bullet_header(), bullets, i = cnd_bullet_input_info())\n  .     if (!inherits(e, \"dplyr:::error_summarise_incompatible_combine\")) {\n  .         bullets <- c(bullets, i = cnd_bullet_cur_group_label())\n  .     }\n  .     abort(bullets, class = \"dplyr_error\")\n  . }, \"object 'mean_dmsnr' not found\", base::quote(mask$eval_all_summarise(quo)))",
      "14. h(simpleError(msg, call))",
      "15. abort(bullets, class = \"dplyr_error\")",
      "16. signal_abort(cnd)"
     ]
    }
   ],
   "source": [
    "positive_candidates <- htru_train %>% \n",
    "    group_by(class) %>% \n",
    "    summarize(n = n())\n",
    "positive_candidates\n",
    "\n",
    "htru_proportions <- htru_train %>%\n",
    "    group_by(class) %>%\n",
    "    summarize(n = n()) %>%\n",
    "    mutate(percent = 100 * n / nrow(htru_train))\n",
    "htru_proportions\n",
    "\n",
    "# Looking at figure xxx, we can see that there are 1226 positive pulsar candidates in the training data \n",
    "\n",
    "mean_htru_train<- htru_train %>% \n",
    "    group_by(class) %>% \n",
    "    summarize(max_mean_ip = max(mean_ip, na.rm = TRUE),\n",
    "             max_sd_ip = max(sd_ip, na.rm = TRUE),\n",
    "             max_kurtosis_ip = max(kurtosis_ip, na.rm = TRUE),\n",
    "             max_skew_ip = max(skew_ip, na.rm = TRUE),\n",
    "             max_mean_dmsnr = max(mean_dmsnr, na.rm = TRUE),\n",
    "             max_sd_dmsnr = max(sd_dmsnr, na.rm = TRUE),\n",
    "             max_kurtosis_dmsnr = max(kurtosis_dmsnr, na.rm = TRUE),\n",
    "             max_skew_dmsnr = max(skew_dmsnr, na.rm = TRUE),\n",
    "             min_mean_ip = min(mean_ip, na.rm = TRUE),\n",
    "             min_sd_ip = min(sd_ip, na.rm = TRUE),\n",
    "             min_kurtosis_ip = min(kurtosis_ip, na.rm = TRUE),\n",
    "             min_skew_ip = min(skew_ip, na.rm = TRUE),\n",
    "             min_mean_dmsnr = min(mean_dmsnr, na.rm = TRUE),\n",
    "             min_sd_dmsnr = min(sd_dmsnr, na.rm = TRUE),\n",
    "             min_kurtosis_dmsnr = min(kurtosis_dmsnr, na.rm = TRUE),\n",
    "             min_skew_dmsnr = min(skew_dmsnr, na.rm = TRUE))%>%\n",
    "             pivot_longer(cols = -class,\n",
    "                 names_to = 'variable_max_min',\n",
    "                 values_to = 'Value') \n",
    "mean_htru_train\n",
    "# At the beginning of the study, it was reasonable to consider that the critical points (extremes) of these data \n",
    "# could be correlated with whether or not they were judged to be pulsars"
   ]
  },
  {
   "cell_type": "markdown",
   "metadata": {},
   "source": [
    "### Preliminary Visualization"
   ]
  },
  {
   "cell_type": "code",
   "execution_count": null,
   "metadata": {},
   "outputs": [],
   "source": [
    "library(gridExtra) # package used to arrange plots neatly in a grid\n",
    "options(repr.plot.width = 25, repr.plot.height = 6)\n",
    "\n",
    "vis_mean_ip <- ggplot(htru_train, aes(x = mean_ip)) +\n",
    "    geom_histogram() + \n",
    "    labs(x = 'Integrated Profile Mean')\n",
    "vis_sd_ip <- ggplot(htru_train, aes(x = sd_ip)) +\n",
    "    geom_histogram() + \n",
    "    labs(x = 'Integrated Profile Standard Deviation')\n",
    "vis_kurtosis_ip <- ggplot(htru_train, aes(x = kurtosis_ip)) +\n",
    "    geom_histogram() + \n",
    "    labs(x = 'Integrated Profile Kurtosis')\n",
    "vis_skew_ip <- ggplot(htru_train, aes(x = kurtosis_ip)) +\n",
    "    geom_histogram() + \n",
    "    labs(x = 'Integrated Profile Skewness')\n",
    "vis_mean_dmsnr <- ggplot(htru_train, aes(x = mean_dmsnr)) +\n",
    "    geom_histogram() + \n",
    "    labs(x = 'DM-SNR Mean')\n",
    "vis_sd_dmsnr <- ggplot(htru_train, aes(x = sd_dmsnr)) +\n",
    "    geom_histogram() + \n",
    "    labs(x = 'DM-SNR Standard Deviation')\n",
    "vis_kurtosis_dmsnr <- ggplot(htru_train, aes(x = kurtosis_dmsnr)) +\n",
    "    geom_histogram() + \n",
    "    labs(x = 'DM-SNR Kurtosis')\n",
    "vis_skew_dmsnr <- ggplot(htru_train, aes(x = kurtosis_dmsnr)) +\n",
    "    geom_histogram() + \n",
    "    labs(x = 'DMSNR Skewness')\n",
    "\n",
    "grid.arrange(vis_mean_ip, vis_sd_ip, vis_kurtosis_ip, vis_skew_ip, nrow = 1, top = 'Data Distributions for Integrated Profile')\n",
    "grid.arrange(vis_mean_dmsnr, vis_sd_dmsnr, vis_kurtosis_dmsnr, vis_skew_dmsnr, nrow = 1, top = 'Data Distributions for DM-SNR')"
   ]
  },
  {
   "cell_type": "markdown",
   "metadata": {},
   "source": [
    "### Building and Training Our Classifier Model"
   ]
  },
  {
   "cell_type": "code",
   "execution_count": null,
   "metadata": {},
   "outputs": [],
   "source": [
    "# set.seed(3456)\n",
    "# recipe_upsample <- recipe(class ~ mean_ip + sd_ip + kurtosis_ip + skew_ip, data = htru_data) %>%\n",
    "#                     step_upsample(class, over_ratio = 1, skip = FALSE)\n",
    "\n",
    "# htru_train2 <- recipe_upsample %>%\n",
    "#                 prep() %>%\n",
    "#                 bake(htru_train)\n",
    "# group_by(htru_train2, class) %>%\n",
    "# summarize(n = n())"
   ]
  },
  {
   "cell_type": "code",
   "execution_count": null,
   "metadata": {},
   "outputs": [],
   "source": [
    "set.seed(3456)  \n",
    " \n",
    "# Setting up tuning model\n",
    "htru_tune <- nearest_neighbor(weight_func = \"rectangular\", neighbors = tune()) %>%\n",
    "                              set_engine(\"kknn\") %>%\n",
    "                              set_mode(\"classification\")\n",
    "\n",
    "# Creating preprocessing recipe\n",
    "htru_recipe <- recipe(class ~ mean_ip + sd_ip + kurtosis_ip + skew_ip, data = htru_train) %>%\n",
    "               step_scale(all_predictors()) %>%\n",
    "               step_center(all_predictors()) "
   ]
  },
  {
   "cell_type": "code",
   "execution_count": null,
   "metadata": {},
   "outputs": [],
   "source": [
    "set.seed(3456)  \n",
    "\n",
    "# Performing cross-validation \n",
    "htru_vfold <- vfold_cv(htru_train, v = 5, strata = class)\n",
    "# Have tried more folds, but no statically significant results \n",
    "gridvals <- tibble(neighbors = 1:14) # Picked 14 neighbors to test (inadequate computer power to test more)\n",
    "\n",
    "htru_results <- workflow() %>%\n",
    "                add_recipe(htru_recipe) %>%\n",
    "                add_model(htru_tune) %>%\n",
    "                tune_grid(resamples = htru_vfold, grid = gridvals) %>%\n",
    "                collect_metrics() %>% \n",
    "                filter(.metric == \"accuracy\")\n",
    "htru_results"
   ]
  },
  {
   "cell_type": "code",
   "execution_count": null,
   "metadata": {},
   "outputs": [],
   "source": [
    "set.seed(3456)  \n",
    "\n",
    "options(repr.plot.width = 7, repr.plot.height = 7)\n",
    "\n",
    "# Finding the number of neighbors that yields the highest accuracy (mean)\n",
    "k_max <- htru_results %>%\n",
    "    arrange(desc(mean)) %>% \n",
    "    slice(1)\n",
    "k_max\n",
    "\n",
    "# Plotting accuracy against neighbors\n",
    "accuracies_vs_k  <- ggplot(htru_results, aes(x = neighbors, y = mean))+\n",
    "       geom_point() +\n",
    "       geom_line() +\n",
    "       ggtitle('Accuracies vs Neighbors') +\n",
    "       labs(x = \"Neighbors\", y = \"Accuracy Estimate\") +\n",
    "       scale_x_continuous(breaks = seq(0, 14, 1)) + \n",
    "       theme(text = element_text(size = 16))\n",
    "accuracies_vs_k "
   ]
  },
  {
   "cell_type": "code",
   "execution_count": null,
   "metadata": {},
   "outputs": [],
   "source": [
    "set.seed(3456)  \n",
    "\n",
    "k_best <- k_max %>% \n",
    "    pull(neighbors)\n",
    "\n",
    "# Specifying model using best number of neighbors\n",
    "htru_spec <- nearest_neighbor(weight_func = \"rectangular\", neighbors = k_best) %>%\n",
    "  set_engine(\"kknn\") %>%\n",
    "  set_mode(\"classification\")\n",
    "\n",
    "# Fitting our model to the training data\n",
    "htru_fit <- workflow() %>%\n",
    "  add_recipe(htru_recipe) %>%\n",
    "  add_model(htru_spec) %>%\n",
    "  fit(data = htru_train)\n",
    "\n",
    "# Evaluating our model with the testing data\n",
    "htru_predictions <- htru_fit %>%\n",
    "  predict(htru_test) %>%\n",
    "  bind_cols(htru_test) %>%\n",
    "  metrics(truth = class, estimate = .pred_class) %>%\n",
    "  filter(.metric == 'accuracy')\n",
    "htru_predictions\n",
    "\n",
    "htru_matrix <- htru_fit %>% \n",
    "    predict(htru_test) %>% \n",
    "    bind_cols(htru_test) %>%\n",
    "    conf_mat(truth = class, estimate = .pred_class)\n",
    "htru_matrix"
   ]
  },
  {
   "cell_type": "markdown",
   "metadata": {},
   "source": [
    "## Discussion"
   ]
  },
  {
   "cell_type": "markdown",
   "metadata": {},
   "source": [
    "## References\n",
    "\n",
    "* UCI Machine Learning Repository: HTRU2 Data Set. (2017). Uci.edu. https://archive.ics.uci.edu/ml/datasets/HTRU2 \n",
    "\n",
    "* R. J. Lyon, B. W. Stappers, S. Cooper, J. M. Brooke, J. D. Knowles, Fifty Years of Pulsar Candidate Selection: From simple filters to a new principled real-time classification approach, Monthly Notices of the Royal Astronomical Society 459 (1), 1104-1123, DOI: 10.1093/mnras/stw656 \n",
    "\n",
    "* Cofield, C. (2016, April 22). What Are Pulsars? Space.com; Space. https://www.space.com/32661-pulsars.html   \n",
    "\n",
    "* Mahoney, T. (2020, July 9). Why Pulsars Are Some of the Most Dangerous Objects in the Universe. Medium; Uncharted Infinity. https://medium.com/uncharted-infinity/why-pulsars-are-some-of-the-most-dangerous-objects-in-the-universe-d54789a00772\n",
    "\n",
    "* CSC2019 - Introduction to Machine Learning. (2019). Github.io. https://as595.github.io/classification/ \n"
   ]
  },
  {
   "cell_type": "code",
   "execution_count": null,
   "metadata": {},
   "outputs": [],
   "source": []
  },
  {
   "cell_type": "code",
   "execution_count": null,
   "metadata": {},
   "outputs": [],
   "source": []
  }
 ],
 "metadata": {
  "kernelspec": {
   "display_name": "R",
   "language": "R",
   "name": "ir"
  },
  "language_info": {
   "codemirror_mode": "r",
   "file_extension": ".r",
   "mimetype": "text/x-r-source",
   "name": "R",
   "pygments_lexer": "r",
   "version": "4.0.0"
  }
 },
 "nbformat": 4,
 "nbformat_minor": 4
}
