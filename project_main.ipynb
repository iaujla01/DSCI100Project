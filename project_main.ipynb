{
 "cells": [
  {
   "cell_type": "markdown",
   "metadata": {},
   "source": [
    "# Final Report: Classifying Pulsars\n",
    "Authors: Rico, Iqbal, Kimmy, Hank, Haonan, Bhavya"
   ]
  },
  {
   "cell_type": "markdown",
   "metadata": {
    "tags": []
   },
   "source": [
    "## Introduction\n",
    "Question: To determine whether the signal is coming from a pulsar star or not based on the integrated profile of the signal?\n",
    "\n",
    "A pulsar is a Neutron star that generates pulses of solar radio emissions (i.e. emits wavelengths of light in periodic bursts) detectable from Earth. The light is generally very bright and can be seen from a distance. Pulsar stars are studied to help scientists study gravitational waves, which could help in studying potential cosmic events such as collisions (Cofield, 2016). \n",
    " \n",
    "Each potential detection (which we’ll call a candidate) is represented numerically by two curves:  the integrated profile and DM-SNR. Since a pulsar periodically emits unique pulses, the integrated profile is used to represent an average of these different pulses (Lorimer and Kramer, 2005; Lyon, 2016). To describe the uncertainty caused by dispersion (where each pulse is detected at different times across frequencies), a dispersion- measure-signal-to-noise (DM-SNR) curve is used (Lyon, 2016). Furthermore, each curve is described by four statistical variables: mean, standard deviation, kurtosis, and skewness.\n",
    " \n",
    "In reality, most candidates are spurious and caused by radio frequency interference and noise, consequently making positive pulsar cases rare to detect. Hence, our goal for this project is to train a model that classifies whether a star is non-pulsar or pulsar star based on 8 variables: the mean, standard deviation, kurtosis, and skewness of the integrated profile and DM-SNR curve. Our central question is: To determine whether the signal is coming from a pulsar star or not based on the integrated profile of the signal?\n",
    " \n",
    "Our dataset is a sample of candidate detections recorded by the High time Resolution Universe Survey. The data set contains 17,898 total observations, with 1639 observations being positive pulsar detections. The dataset also contains 8 variables: the mean, standard deviation, kurtosis, and skewness of the integrated profile and DM-SNR curve.\n",
    "\n",
    "References:\n",
    "Cofield, C. (2016, April 22). What Are Pulsars? Space.com; Space. https://www.space.com/32661-pulsars.html \n",
    "Lyon, R. J., Stappers, B. W., Cooper, S., Brooke, J. M., &amp; Knowles, J. D. (2016). Fifty Years of pulsar candidate selection: From simple filters to a new principled real-time classification approach. Monthly Notices of the Royal Astronomical Society, 459(1), 1104–1123. https://doi.org/10.1093/mnras/stw656 \n",
    "Lorimer, D. R., &amp; Kramer, M. (n.d.). Handbook of Pulsar Astronomy. NASA/ADS. Retrieved March 5, 2022, from https://ui.adsabs.harvard.edu/abs/2012hpa..book.....L/abstract "
   ]
  },
  {
   "cell_type": "markdown",
   "metadata": {},
   "source": [
    "![](https://media3.giphy.com/media/l3dj5M4YLaFww31V6/giphy.gif)"
   ]
  },
  {
   "cell_type": "markdown",
   "metadata": {},
   "source": [
    "## Methods and Results"
   ]
  },
  {
   "cell_type": "code",
   "execution_count": 24,
   "metadata": {},
   "outputs": [
    {
     "name": "stderr",
     "output_type": "stream",
     "text": [
      "Updating HTML index of packages in '.Library'\n",
      "\n",
      "Making 'packages.html' ...\n",
      " done\n",
      "\n"
     ]
    }
   ],
   "source": [
    "# Install packages\n",
    "# install.packages('tidyverse')\n",
    "# install.packages('tidymodels')\n",
    "# install.packages('gridExtra')\n",
    "install.packages('themis')"
   ]
  },
  {
   "cell_type": "code",
   "execution_count": 25,
   "metadata": {},
   "outputs": [
    {
     "ename": "ERROR",
     "evalue": "Error: package or namespace load failed for ‘themis’ in loadNamespace(j <- i[[1L]], c(lib.loc, .libPaths()), versionCheck = vI[[j]]):\n namespace ‘generics’ 0.0.2 is already loaded, but >= 0.1.0 is required\n",
     "output_type": "error",
     "traceback": [
      "Error: package or namespace load failed for ‘themis’ in loadNamespace(j <- i[[1L]], c(lib.loc, .libPaths()), versionCheck = vI[[j]]):\n namespace ‘generics’ 0.0.2 is already loaded, but >= 0.1.0 is required\nTraceback:\n",
      "1. library(themis)",
      "2. tryCatch({\n .     attr(package, \"LibPath\") <- which.lib.loc\n .     ns <- loadNamespace(package, lib.loc)\n .     env <- attachNamespace(ns, pos = pos, deps, exclude, include.only)\n . }, error = function(e) {\n .     P <- if (!is.null(cc <- conditionCall(e))) \n .         paste(\" in\", deparse(cc)[1L])\n .     else \"\"\n .     msg <- gettextf(\"package or namespace load failed for %s%s:\\n %s\", \n .         sQuote(package), P, conditionMessage(e))\n .     if (logical.return) \n .         message(paste(\"Error:\", msg), domain = NA)\n .     else stop(msg, call. = FALSE, domain = NA)\n . })",
      "3. tryCatchList(expr, classes, parentenv, handlers)",
      "4. tryCatchOne(expr, names, parentenv, handlers[[1L]])",
      "5. value[[3L]](cond)",
      "6. stop(msg, call. = FALSE, domain = NA)"
     ]
    }
   ],
   "source": [
    "# Import packages\n",
    "library(tidyverse)\n",
    "library(tidymodels)\n",
    "library(themis)"
   ]
  },
  {
   "cell_type": "code",
   "execution_count": null,
   "metadata": {},
   "outputs": [],
   "source": [
    "# Read csv file \n",
    "# Source: https://archive.ics.uci.edu/ml/datasets/HTRU2\n",
    "htru_data <- read_csv('https://raw.githubusercontent.com/iaujla01/DSCI100Project/main/data/HTRU_2.csv', col_names = FALSE)\n",
    "\n",
    "# Adding column names: \n",
    "# 1. Mean of the integrated profile\n",
    "# 2. Standard deviation of the integrated profile\n",
    "# 3. Excess kurtosis of the integrated profile \n",
    "# 4. Skewness of the integrated profile\n",
    "# 5. Mean of the DM-SNR curve\n",
    "# 6. Standard deviation of the DM-SNR curve\n",
    "# 7. Excess kurtosis of the DM-SNR curve\n",
    "# 8. Skewness of the DM-SNR curve\n",
    "# 9. Class\n",
    "colnames(htru_data) <- c('mean_ip', 'sd_ip', 'kurtosis_ip', 'skew_ip', 'mean_dmsnr', 'sd_dmsnr', 'kurtosis_dmsnr', 'skew_dmsnr', 'class')\n",
    "htru_data <- htru_data %>% \n",
    "    mutate(class = as.factor(class)) # since class is a dummy variable that is either positive (1) or negative (0)\n",
    "head(htru_data)"
   ]
  },
  {
   "cell_type": "markdown",
   "metadata": {},
   "source": [
    "### Splitting Our Dataset"
   ]
  },
  {
   "cell_type": "code",
   "execution_count": null,
   "metadata": {},
   "outputs": [],
   "source": [
    "# Picked seed 3456 for reproducible results\n",
    "set.seed(3456)\n",
    "\n",
    "# 17,898 total examples; 1,639 positive examples; 16,259 negative examples\n",
    "# Decided to split dataset into 75% training and 25% testing\n",
    " recipe_upsample <- recipe(class ~ mean_ip + sd_ip + kurtosis_ip + skew_ip, data = htru_data) %>%\n",
    "                     step_upsample(class, over_ratio = 1, skip = FALSE)\n",
    "\n",
    " htru_upscaled <- recipe_upsample %>%\n",
    "                 prep() %>%\n",
    "                 bake(htru_data)\n",
    " group_by(htru_upscaled, class) %>%\n",
    " summarize(n = n())\n",
    "htru_split <- initial_split(htru_upscaled, prop = 0.75, strata = class)\n",
    "htru_train <- training(htru_split)\n",
    "htru_test <- testing(htru_split)\n",
    "\n",
    "glimpse(htru_train)\n",
    "glimpse(htru_test)"
   ]
  },
  {
   "cell_type": "markdown",
   "metadata": {},
   "source": [
    "### Preliminary Summary"
   ]
  },
  {
   "cell_type": "code",
   "execution_count": null,
   "metadata": {},
   "outputs": [],
   "source": [
    "positive_candidates <- htru_train %>% \n",
    "    group_by(class) %>% \n",
    "    summarize(n = n())\n",
    "positive_candidates\n",
    "\n",
    "htru_proportions <- htru_train %>%\n",
    "    group_by(class) %>%\n",
    "    summarize(n = n()) %>%\n",
    "    mutate(percent = 100 * n / nrow(htru_train))\n",
    "htru_proportions\n",
    "\n",
    "# Looking at figure xxx, we can see that there are 1226 positive pulsar candidates in the training data \n",
    "\n",
    "mean_htru_train<- htru_train %>% \n",
    "    group_by(class) %>% \n",
    "    summarize(max_mean_ip = max(mean_ip, na.rm = TRUE),\n",
    "             max_sd_ip = max(sd_ip, na.rm = TRUE),\n",
    "             max_kurtosis_ip = max(kurtosis_ip, na.rm = TRUE),\n",
    "             max_skew_ip = max(skew_ip, na.rm = TRUE),\n",
    "             max_mean_dmsnr = max(mean_dmsnr, na.rm = TRUE),\n",
    "             max_sd_dmsnr = max(sd_dmsnr, na.rm = TRUE),\n",
    "             max_kurtosis_dmsnr = max(kurtosis_dmsnr, na.rm = TRUE),\n",
    "             max_skew_dmsnr = max(skew_dmsnr, na.rm = TRUE),\n",
    "             min_mean_ip = min(mean_ip, na.rm = TRUE),\n",
    "             min_sd_ip = min(sd_ip, na.rm = TRUE),\n",
    "             min_kurtosis_ip = min(kurtosis_ip, na.rm = TRUE),\n",
    "             min_skew_ip = min(skew_ip, na.rm = TRUE),\n",
    "             min_mean_dmsnr = min(mean_dmsnr, na.rm = TRUE),\n",
    "             min_sd_dmsnr = min(sd_dmsnr, na.rm = TRUE),\n",
    "             min_kurtosis_dmsnr = min(kurtosis_dmsnr, na.rm = TRUE),\n",
    "             min_skew_dmsnr = min(skew_dmsnr, na.rm = TRUE))%>%\n",
    "             pivot_longer(cols = -class,\n",
    "                 names_to = 'variable_max_min',\n",
    "                 values_to = 'Value') \n",
    "mean_htru_train\n",
    "# At the beginning of the study, it was reasonable to consider that the critical points (extremes) of these data \n",
    "# could be correlated with whether or not they were judged to be pulsars"
   ]
  },
  {
   "cell_type": "markdown",
   "metadata": {},
   "source": [
    "### Preliminary Visualization"
   ]
  },
  {
   "cell_type": "code",
   "execution_count": null,
   "metadata": {},
   "outputs": [],
   "source": [
    "library(gridExtra) # package used to arrange plots neatly in a grid\n",
    "options(repr.plot.width = 25, repr.plot.height = 6)\n",
    "\n",
    "vis_mean_ip <- ggplot(htru_train, aes(x = mean_ip)) +\n",
    "    geom_histogram() + \n",
    "    labs(x = 'Integrated Profile Mean')\n",
    "vis_sd_ip <- ggplot(htru_train, aes(x = sd_ip)) +\n",
    "    geom_histogram() + \n",
    "    labs(x = 'Integrated Profile Standard Deviation')\n",
    "vis_kurtosis_ip <- ggplot(htru_train, aes(x = kurtosis_ip)) +\n",
    "    geom_histogram() + \n",
    "    labs(x = 'Integrated Profile Kurtosis')\n",
    "vis_skew_ip <- ggplot(htru_train, aes(x = kurtosis_ip)) +\n",
    "    geom_histogram() + \n",
    "    labs(x = 'Integrated Profile Skewness')\n",
    "vis_mean_dmsnr <- ggplot(htru_train, aes(x = mean_dmsnr)) +\n",
    "    geom_histogram() + \n",
    "    labs(x = 'DM-SNR Mean')\n",
    "vis_sd_dmsnr <- ggplot(htru_train, aes(x = sd_dmsnr)) +\n",
    "    geom_histogram() + \n",
    "    labs(x = 'DM-SNR Standard Deviation')\n",
    "vis_kurtosis_dmsnr <- ggplot(htru_train, aes(x = kurtosis_dmsnr)) +\n",
    "    geom_histogram() + \n",
    "    labs(x = 'DM-SNR Kurtosis')\n",
    "vis_skew_dmsnr <- ggplot(htru_train, aes(x = kurtosis_dmsnr)) +\n",
    "    geom_histogram() + \n",
    "    labs(x = 'DMSNR Skewness')\n",
    "\n",
    "grid.arrange(vis_mean_ip, vis_sd_ip, vis_kurtosis_ip, vis_skew_ip, nrow = 1, top = 'Data Distributions for Integrated Profile')\n",
    "grid.arrange(vis_mean_dmsnr, vis_sd_dmsnr, vis_kurtosis_dmsnr, vis_skew_dmsnr, nrow = 1, top = 'Data Distributions for DM-SNR')"
   ]
  },
  {
   "cell_type": "markdown",
   "metadata": {},
   "source": [
    "### Building and Training Our Classifier Model"
   ]
  },
  {
   "cell_type": "code",
   "execution_count": null,
   "metadata": {},
   "outputs": [],
   "source": [
    "# set.seed(3456)\n",
    "# recipe_upsample <- recipe(class ~ mean_ip + sd_ip + kurtosis_ip + skew_ip, data = htru_data) %>%\n",
    "#                     step_upsample(class, over_ratio = 1, skip = FALSE)\n",
    "\n",
    "# htru_train2 <- recipe_upsample %>%\n",
    "#                 prep() %>%\n",
    "#                 bake(htru_train)\n",
    "# group_by(htru_train2, class) %>%\n",
    "# summarize(n = n())"
   ]
  },
  {
   "cell_type": "code",
   "execution_count": null,
   "metadata": {},
   "outputs": [],
   "source": [
    "set.seed(3456)  \n",
    " \n",
    "# Setting up tuning model\n",
    "htru_tune <- nearest_neighbor(weight_func = \"rectangular\", neighbors = tune()) %>%\n",
    "                              set_engine(\"kknn\") %>%\n",
    "                              set_mode(\"classification\")\n",
    "\n",
    "# Creating preprocessing recipe\n",
    "htru_recipe <- recipe(class ~ mean_ip + sd_ip + kurtosis_ip + skew_ip, data = htru_train) %>%\n",
    "               step_scale(all_predictors()) %>%\n",
    "               step_center(all_predictors()) "
   ]
  },
  {
   "cell_type": "code",
   "execution_count": null,
   "metadata": {},
   "outputs": [],
   "source": [
    "set.seed(3456)  \n",
    "\n",
    "# Performing cross-validation \n",
    "htru_vfold <- vfold_cv(htru_train, v = 5, strata = class)\n",
    "# Have tried more folds, but no statically significant results \n",
    "gridvals <- tibble(neighbors = 1:14) # Picked 14 neighbors to test (inadequate computer power to test more)\n",
    "\n",
    "htru_results <- workflow() %>%\n",
    "                add_recipe(htru_recipe) %>%\n",
    "                add_model(htru_tune) %>%\n",
    "                tune_grid(resamples = htru_vfold, grid = gridvals) %>%\n",
    "                collect_metrics() %>% \n",
    "                filter(.metric == \"accuracy\")\n",
    "htru_results"
   ]
  },
  {
   "cell_type": "code",
   "execution_count": null,
   "metadata": {},
   "outputs": [],
   "source": [
    "set.seed(3456)  \n",
    "\n",
    "options(repr.plot.width = 7, repr.plot.height = 7)\n",
    "\n",
    "# Finding the number of neighbors that yields the highest accuracy (mean)\n",
    "k_max <- htru_results %>%\n",
    "    arrange(desc(mean)) %>% \n",
    "    slice(1)\n",
    "k_max\n",
    "\n",
    "# Plotting accuracy against neighbors\n",
    "accuracies_vs_k  <- ggplot(htru_results, aes(x = neighbors, y = mean))+\n",
    "       geom_point() +\n",
    "       geom_line() +\n",
    "       ggtitle('Accuracies vs Neighbors') +\n",
    "       labs(x = \"Neighbors\", y = \"Accuracy Estimate\") +\n",
    "       scale_x_continuous(breaks = seq(0, 14, 1)) + \n",
    "       theme(text = element_text(size = 16))\n",
    "accuracies_vs_k "
   ]
  },
  {
   "cell_type": "code",
   "execution_count": null,
   "metadata": {},
   "outputs": [],
   "source": [
    "set.seed(3456)  \n",
    "\n",
    "k_best <- k_max %>% \n",
    "    pull(neighbors)\n",
    "\n",
    "# Specifying model using best number of neighbors\n",
    "htru_spec <- nearest_neighbor(weight_func = \"rectangular\", neighbors = k_best) %>%\n",
    "  set_engine(\"kknn\") %>%\n",
    "  set_mode(\"classification\")\n",
    "\n",
    "# Fitting our model to the training data\n",
    "htru_fit <- workflow() %>%\n",
    "  add_recipe(htru_recipe) %>%\n",
    "  add_model(htru_spec) %>%\n",
    "  fit(data = htru_train)\n",
    "\n",
    "# Evaluating our model with the testing data\n",
    "htru_predictions <- htru_fit %>%\n",
    "  predict(htru_test) %>%\n",
    "  bind_cols(htru_test) %>%\n",
    "  metrics(truth = class, estimate = .pred_class) %>%\n",
    "  filter(.metric == 'accuracy')\n",
    "htru_predictions\n",
    "\n",
    "htru_matrix <- htru_fit %>% \n",
    "    predict(htru_test) %>% \n",
    "    bind_cols(htru_test) %>%\n",
    "    conf_mat(truth = class, estimate = .pred_class)\n",
    "htru_matrix"
   ]
  },
  {
   "cell_type": "markdown",
   "metadata": {},
   "source": [
    "## Discussion"
   ]
  },
  {
   "cell_type": "markdown",
   "metadata": {},
   "source": [
    "## References"
   ]
  },
  {
   "cell_type": "code",
   "execution_count": null,
   "metadata": {},
   "outputs": [],
   "source": []
  },
  {
   "cell_type": "code",
   "execution_count": null,
   "metadata": {},
   "outputs": [],
   "source": []
  }
 ],
 "metadata": {
  "kernelspec": {
   "display_name": "R",
   "language": "R",
   "name": "ir"
  },
  "language_info": {
   "codemirror_mode": "r",
   "file_extension": ".r",
   "mimetype": "text/x-r-source",
   "name": "R",
   "pygments_lexer": "r",
   "version": "4.0.0"
  }
 },
 "nbformat": 4,
 "nbformat_minor": 4
}
