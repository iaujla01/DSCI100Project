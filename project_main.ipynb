{
 "cells": [
  {
   "cell_type": "markdown",
   "metadata": {},
   "source": [
    "# Final Report: Classifying Pulsars\n",
    "Authors: Rico, Iqbal, Kimmy, Hank, Haonan, Bhavya"
   ]
  },
  {
   "cell_type": "markdown",
   "metadata": {
    "tags": []
   },
   "source": [
    "## Introduction\n",
    "   A pulsar is a Neutron star, remnants from a supernova explosion. Pulsars are characterized by their blinking light or periodic pulse of radio waves, rapid rotation, and strong magnetic field(Cofield, 2016 ). Because these are among the densest materials on Earth, Physicists study these to identify the presence of alien planets, detect gravitational waves, calculate cosmic distances, and test the universal force of gravity. Moreover, when two pulsars are nearby, there will be a collision and a larger explosion (Mahony, 2020). \n",
    "\n",
    "   Each potential detection is represented by two curves:  the integrated profile and DM-SNR. Since a pulsar periodically emits unique pulses, the integrated profile is used to represent an average of these different pulses (Lyon, 2016). To describe the uncertainty caused by dispersion (where each pulse is detected at different times across frequencies), a dispersion-measure-signal-to-noise (DM-SNR) curve is used. Furthermore, each curve is described by four statistical variables: mean, standard deviation, kurtosis, and skewness.\n",
    "\n",
    "   In reality, most candidates are caused by radio frequency interference and noise, consequently making positive pulsar cases rare to detect. Hence, our goal for this project is to train a model that classifies whether a star is non-pulsar or pulsar star based on the mean, standard deviation, kurtosis, and skewness of the integrated profile. Our central question is:  can we determine whether the signal is coming from a pulsar star or not?\n",
    "\n",
    "   To explore this, the group will analyze a total of 17,898 radio pulses by the High time Resolution Universe Survey (HTRU) by Dr. Robert Lyon of the Royal Astronomical Society. \n",
    "\n",
    "\n"
   ]
  },
  {
   "cell_type": "markdown",
   "metadata": {},
   "source": [
    "![](https://media3.giphy.com/media/l3dj5M4YLaFww31V6/giphy.gif)"
   ]
  },
  {
   "cell_type": "markdown",
   "metadata": {},
   "source": [
    "## Methods and Results"
   ]
  },
  {
   "cell_type": "code",
   "execution_count": 33,
   "metadata": {},
   "outputs": [
    {
     "name": "stderr",
     "output_type": "stream",
     "text": [
      "Updating HTML index of packages in '.Library'\n",
      "\n",
      "Making 'packages.html' ...\n",
      " done\n",
      "\n",
      "Updating HTML index of packages in '.Library'\n",
      "\n",
      "Making 'packages.html' ...\n",
      " done\n",
      "\n"
     ]
    }
   ],
   "source": [
    "# Install packages\n",
    "# install.packages('tidyverse')\n",
    "# install.packages('tidymodels')\n",
    "# install.packages('gridExtra')\n",
    "install.packages('themis')\n",
    "install.packages('caret')"
   ]
  },
  {
   "cell_type": "code",
   "execution_count": 34,
   "metadata": {},
   "outputs": [],
   "source": [
    "# Import packages\n",
    "library(tidyverse)\n",
    "library(tidymodels)\n",
    "library(themis)\n",
    "library(caret)"
   ]
  },
  {
   "cell_type": "code",
   "execution_count": 35,
   "metadata": {},
   "outputs": [
    {
     "name": "stderr",
     "output_type": "stream",
     "text": [
      "Parsed with column specification:\n",
      "cols(\n",
      "  X1 = \u001b[32mcol_double()\u001b[39m,\n",
      "  X2 = \u001b[32mcol_double()\u001b[39m,\n",
      "  X3 = \u001b[32mcol_double()\u001b[39m,\n",
      "  X4 = \u001b[32mcol_double()\u001b[39m,\n",
      "  X5 = \u001b[32mcol_double()\u001b[39m,\n",
      "  X6 = \u001b[32mcol_double()\u001b[39m,\n",
      "  X7 = \u001b[32mcol_double()\u001b[39m,\n",
      "  X8 = \u001b[32mcol_double()\u001b[39m,\n",
      "  X9 = \u001b[32mcol_double()\u001b[39m\n",
      ")\n",
      "\n"
     ]
    },
    {
     "data": {
      "text/html": [
       "<table>\n",
       "<caption>A tibble: 6 × 9</caption>\n",
       "<thead>\n",
       "\t<tr><th scope=col>mean_ip</th><th scope=col>sd_ip</th><th scope=col>kurtosis_ip</th><th scope=col>skew_ip</th><th scope=col>mean_dmsnr</th><th scope=col>sd_dmsnr</th><th scope=col>kurtosis_dmsnr</th><th scope=col>skew_dmsnr</th><th scope=col>class</th></tr>\n",
       "\t<tr><th scope=col>&lt;dbl&gt;</th><th scope=col>&lt;dbl&gt;</th><th scope=col>&lt;dbl&gt;</th><th scope=col>&lt;dbl&gt;</th><th scope=col>&lt;dbl&gt;</th><th scope=col>&lt;dbl&gt;</th><th scope=col>&lt;dbl&gt;</th><th scope=col>&lt;dbl&gt;</th><th scope=col>&lt;fct&gt;</th></tr>\n",
       "</thead>\n",
       "<tbody>\n",
       "\t<tr><td>140.56250</td><td>55.68378</td><td>-0.23457141</td><td>-0.6996484</td><td>3.199833</td><td>19.11043</td><td> 7.975532</td><td> 74.24222</td><td>0</td></tr>\n",
       "\t<tr><td>102.50781</td><td>58.88243</td><td> 0.46531815</td><td>-0.5150879</td><td>1.677258</td><td>14.86015</td><td>10.576487</td><td>127.39358</td><td>0</td></tr>\n",
       "\t<tr><td>103.01562</td><td>39.34165</td><td> 0.32332837</td><td> 1.0511644</td><td>3.121237</td><td>21.74467</td><td> 7.735822</td><td> 63.17191</td><td>0</td></tr>\n",
       "\t<tr><td>136.75000</td><td>57.17845</td><td>-0.06841464</td><td>-0.6362384</td><td>3.642977</td><td>20.95928</td><td> 6.896499</td><td> 53.59366</td><td>0</td></tr>\n",
       "\t<tr><td> 88.72656</td><td>40.67223</td><td> 0.60086608</td><td> 1.1234917</td><td>1.178930</td><td>11.46872</td><td>14.269573</td><td>252.56731</td><td>0</td></tr>\n",
       "\t<tr><td> 93.57031</td><td>46.69811</td><td> 0.53190485</td><td> 0.4167211</td><td>1.636288</td><td>14.54507</td><td>10.621748</td><td>131.39400</td><td>0</td></tr>\n",
       "</tbody>\n",
       "</table>\n"
      ],
      "text/latex": [
       "A tibble: 6 × 9\n",
       "\\begin{tabular}{lllllllll}\n",
       " mean\\_ip & sd\\_ip & kurtosis\\_ip & skew\\_ip & mean\\_dmsnr & sd\\_dmsnr & kurtosis\\_dmsnr & skew\\_dmsnr & class\\\\\n",
       " <dbl> & <dbl> & <dbl> & <dbl> & <dbl> & <dbl> & <dbl> & <dbl> & <fct>\\\\\n",
       "\\hline\n",
       "\t 140.56250 & 55.68378 & -0.23457141 & -0.6996484 & 3.199833 & 19.11043 &  7.975532 &  74.24222 & 0\\\\\n",
       "\t 102.50781 & 58.88243 &  0.46531815 & -0.5150879 & 1.677258 & 14.86015 & 10.576487 & 127.39358 & 0\\\\\n",
       "\t 103.01562 & 39.34165 &  0.32332837 &  1.0511644 & 3.121237 & 21.74467 &  7.735822 &  63.17191 & 0\\\\\n",
       "\t 136.75000 & 57.17845 & -0.06841464 & -0.6362384 & 3.642977 & 20.95928 &  6.896499 &  53.59366 & 0\\\\\n",
       "\t  88.72656 & 40.67223 &  0.60086608 &  1.1234917 & 1.178930 & 11.46872 & 14.269573 & 252.56731 & 0\\\\\n",
       "\t  93.57031 & 46.69811 &  0.53190485 &  0.4167211 & 1.636288 & 14.54507 & 10.621748 & 131.39400 & 0\\\\\n",
       "\\end{tabular}\n"
      ],
      "text/markdown": [
       "\n",
       "A tibble: 6 × 9\n",
       "\n",
       "| mean_ip &lt;dbl&gt; | sd_ip &lt;dbl&gt; | kurtosis_ip &lt;dbl&gt; | skew_ip &lt;dbl&gt; | mean_dmsnr &lt;dbl&gt; | sd_dmsnr &lt;dbl&gt; | kurtosis_dmsnr &lt;dbl&gt; | skew_dmsnr &lt;dbl&gt; | class &lt;fct&gt; |\n",
       "|---|---|---|---|---|---|---|---|---|\n",
       "| 140.56250 | 55.68378 | -0.23457141 | -0.6996484 | 3.199833 | 19.11043 |  7.975532 |  74.24222 | 0 |\n",
       "| 102.50781 | 58.88243 |  0.46531815 | -0.5150879 | 1.677258 | 14.86015 | 10.576487 | 127.39358 | 0 |\n",
       "| 103.01562 | 39.34165 |  0.32332837 |  1.0511644 | 3.121237 | 21.74467 |  7.735822 |  63.17191 | 0 |\n",
       "| 136.75000 | 57.17845 | -0.06841464 | -0.6362384 | 3.642977 | 20.95928 |  6.896499 |  53.59366 | 0 |\n",
       "|  88.72656 | 40.67223 |  0.60086608 |  1.1234917 | 1.178930 | 11.46872 | 14.269573 | 252.56731 | 0 |\n",
       "|  93.57031 | 46.69811 |  0.53190485 |  0.4167211 | 1.636288 | 14.54507 | 10.621748 | 131.39400 | 0 |\n",
       "\n"
      ],
      "text/plain": [
       "  mean_ip   sd_ip    kurtosis_ip skew_ip    mean_dmsnr sd_dmsnr kurtosis_dmsnr\n",
       "1 140.56250 55.68378 -0.23457141 -0.6996484 3.199833   19.11043  7.975532     \n",
       "2 102.50781 58.88243  0.46531815 -0.5150879 1.677258   14.86015 10.576487     \n",
       "3 103.01562 39.34165  0.32332837  1.0511644 3.121237   21.74467  7.735822     \n",
       "4 136.75000 57.17845 -0.06841464 -0.6362384 3.642977   20.95928  6.896499     \n",
       "5  88.72656 40.67223  0.60086608  1.1234917 1.178930   11.46872 14.269573     \n",
       "6  93.57031 46.69811  0.53190485  0.4167211 1.636288   14.54507 10.621748     \n",
       "  skew_dmsnr class\n",
       "1  74.24222  0    \n",
       "2 127.39358  0    \n",
       "3  63.17191  0    \n",
       "4  53.59366  0    \n",
       "5 252.56731  0    \n",
       "6 131.39400  0    "
      ]
     },
     "metadata": {},
     "output_type": "display_data"
    }
   ],
   "source": [
    "# Read csv file \n",
    "# Source: https://archive.ics.uci.edu/ml/datasets/HTRU2\n",
    "htru_data <- read_csv('https://raw.githubusercontent.com/iaujla01/DSCI100Project/main/data/HTRU_2.csv', col_names = FALSE)\n",
    "\n",
    "# Adding column names: \n",
    "# 1. Mean of the integrated profile\n",
    "# 2. Standard deviation of the integrated profile\n",
    "# 3. Excess kurtosis of the integrated profile \n",
    "# 4. Skewness of the integrated profile\n",
    "# 5. Mean of the DM-SNR curve\n",
    "# 6. Standard deviation of the DM-SNR curve\n",
    "# 7. Excess kurtosis of the DM-SNR curve\n",
    "# 8. Skewness of the DM-SNR curve\n",
    "# 9. Class\n",
    "colnames(htru_data) <- c('mean_ip', 'sd_ip', 'kurtosis_ip', 'skew_ip', 'mean_dmsnr', 'sd_dmsnr', 'kurtosis_dmsnr', 'skew_dmsnr', 'class')\n",
    "htru_data <- htru_data %>% \n",
    "    mutate(class = as.factor(class)) # since class is a dummy variable that is either positive (1) or negative (0)\n",
    "head(htru_data)"
   ]
  },
  {
   "cell_type": "markdown",
   "metadata": {},
   "source": [
    "### Splitting Our Dataset"
   ]
  },
  {
   "cell_type": "code",
   "execution_count": 36,
   "metadata": {},
   "outputs": [
    {
     "name": "stderr",
     "output_type": "stream",
     "text": [
      "`summarise()` ungrouping output (override with `.groups` argument)\n",
      "\n"
     ]
    },
    {
     "data": {
      "text/html": [
       "<table>\n",
       "<caption>A tibble: 2 × 2</caption>\n",
       "<thead>\n",
       "\t<tr><th scope=col>class</th><th scope=col>n</th></tr>\n",
       "\t<tr><th scope=col>&lt;fct&gt;</th><th scope=col>&lt;int&gt;</th></tr>\n",
       "</thead>\n",
       "<tbody>\n",
       "\t<tr><td>0</td><td>16259</td></tr>\n",
       "\t<tr><td>1</td><td>16259</td></tr>\n",
       "</tbody>\n",
       "</table>\n"
      ],
      "text/latex": [
       "A tibble: 2 × 2\n",
       "\\begin{tabular}{ll}\n",
       " class & n\\\\\n",
       " <fct> & <int>\\\\\n",
       "\\hline\n",
       "\t 0 & 16259\\\\\n",
       "\t 1 & 16259\\\\\n",
       "\\end{tabular}\n"
      ],
      "text/markdown": [
       "\n",
       "A tibble: 2 × 2\n",
       "\n",
       "| class &lt;fct&gt; | n &lt;int&gt; |\n",
       "|---|---|\n",
       "| 0 | 16259 |\n",
       "| 1 | 16259 |\n",
       "\n"
      ],
      "text/plain": [
       "  class n    \n",
       "1 0     16259\n",
       "2 1     16259"
      ]
     },
     "metadata": {},
     "output_type": "display_data"
    },
    {
     "name": "stdout",
     "output_type": "stream",
     "text": [
      "Rows: 24,390\n",
      "Columns: 5\n",
      "$ mean_ip     \u001b[3m\u001b[90m<dbl>\u001b[39m\u001b[23m 140.56250, 103.01562, 136.75000, 88.72656, 93.57031, 130.…\n",
      "$ sd_ip       \u001b[3m\u001b[90m<dbl>\u001b[39m\u001b[23m 55.68378, 39.34165, 57.17845, 40.67223, 46.69811, 39.8440…\n",
      "$ kurtosis_ip \u001b[3m\u001b[90m<dbl>\u001b[39m\u001b[23m -0.23457141, 0.32332837, -0.06841464, 0.60086608, 0.53190…\n",
      "$ skew_ip     \u001b[3m\u001b[90m<dbl>\u001b[39m\u001b[23m -0.69964840, 1.05116443, -0.63623837, 1.12349169, 0.41672…\n",
      "$ class       \u001b[3m\u001b[90m<fct>\u001b[39m\u001b[23m 0, 0, 0, 0, 0, 0, 0, 0, 0, 0, 0, 0, 0, 0, 0, 0, 0, 0, 0, …\n",
      "Rows: 8,128\n",
      "Columns: 5\n",
      "$ mean_ip     \u001b[3m\u001b[90m<dbl>\u001b[39m\u001b[23m 102.50781, 119.48438, 107.25781, 95.86719, 106.64844, 119…\n",
      "$ sd_ip       \u001b[3m\u001b[90m<dbl>\u001b[39m\u001b[23m 58.88243, 48.76506, 39.49649, 42.05992, 56.36718, 52.8748…\n",
      "$ kurtosis_ip \u001b[3m\u001b[90m<dbl>\u001b[39m\u001b[23m 0.465318154, 0.031460220, 0.465881961, 0.326386917, 0.378…\n",
      "$ skew_ip     \u001b[3m\u001b[90m<dbl>\u001b[39m\u001b[23m -0.5150879, -0.1121676, 1.1628771, 0.8035018, -0.2663716,…\n",
      "$ class       \u001b[3m\u001b[90m<fct>\u001b[39m\u001b[23m 0, 0, 0, 0, 0, 0, 0, 0, 0, 0, 0, 0, 0, 0, 0, 0, 0, 0, 0, …\n"
     ]
    }
   ],
   "source": [
    "# Picked seed 3456 for reproducible results\n",
    "set.seed(3456)\n",
    "\n",
    "# 17,898 total examples; 1,639 positive examples; 16,259 negative examples\n",
    "# Decided to split dataset into 75% training and 25% testing\n",
    " recipe_upsample <- recipe(class ~ mean_ip + sd_ip + kurtosis_ip + skew_ip, data = htru_data) %>%\n",
    "                     step_upsample(class, over_ratio = 1, skip = FALSE)\n",
    "\n",
    " htru_upscaled <- recipe_upsample %>%\n",
    "                 prep() %>%\n",
    "                 bake(htru_data)\n",
    " group_by(htru_upscaled, class) %>%\n",
    " summarize(n = n())\n",
    "htru_split <- initial_split(htru_upscaled, prop = 0.75, strata = class)\n",
    "htru_train <- training(htru_split)\n",
    "htru_test <- testing(htru_split)\n",
    "\n",
    "glimpse(htru_train)\n",
    "glimpse(htru_test)\n"
   ]
  },
  {
   "cell_type": "markdown",
   "metadata": {},
   "source": [
    "### Preliminary Summary"
   ]
  },
  {
   "cell_type": "code",
   "execution_count": 37,
   "metadata": {},
   "outputs": [
    {
     "name": "stderr",
     "output_type": "stream",
     "text": [
      "`summarise()` ungrouping output (override with `.groups` argument)\n",
      "\n"
     ]
    },
    {
     "data": {
      "text/html": [
       "<table>\n",
       "<caption>A tibble: 2 × 2</caption>\n",
       "<thead>\n",
       "\t<tr><th scope=col>class</th><th scope=col>n</th></tr>\n",
       "\t<tr><th scope=col>&lt;fct&gt;</th><th scope=col>&lt;int&gt;</th></tr>\n",
       "</thead>\n",
       "<tbody>\n",
       "\t<tr><td>0</td><td>12195</td></tr>\n",
       "\t<tr><td>1</td><td>12195</td></tr>\n",
       "</tbody>\n",
       "</table>\n"
      ],
      "text/latex": [
       "A tibble: 2 × 2\n",
       "\\begin{tabular}{ll}\n",
       " class & n\\\\\n",
       " <fct> & <int>\\\\\n",
       "\\hline\n",
       "\t 0 & 12195\\\\\n",
       "\t 1 & 12195\\\\\n",
       "\\end{tabular}\n"
      ],
      "text/markdown": [
       "\n",
       "A tibble: 2 × 2\n",
       "\n",
       "| class &lt;fct&gt; | n &lt;int&gt; |\n",
       "|---|---|\n",
       "| 0 | 12195 |\n",
       "| 1 | 12195 |\n",
       "\n"
      ],
      "text/plain": [
       "  class n    \n",
       "1 0     12195\n",
       "2 1     12195"
      ]
     },
     "metadata": {},
     "output_type": "display_data"
    },
    {
     "name": "stderr",
     "output_type": "stream",
     "text": [
      "`summarise()` ungrouping output (override with `.groups` argument)\n",
      "\n"
     ]
    },
    {
     "data": {
      "text/html": [
       "<table>\n",
       "<caption>A tibble: 2 × 3</caption>\n",
       "<thead>\n",
       "\t<tr><th scope=col>class</th><th scope=col>n</th><th scope=col>percent</th></tr>\n",
       "\t<tr><th scope=col>&lt;fct&gt;</th><th scope=col>&lt;int&gt;</th><th scope=col>&lt;dbl&gt;</th></tr>\n",
       "</thead>\n",
       "<tbody>\n",
       "\t<tr><td>0</td><td>12195</td><td>50</td></tr>\n",
       "\t<tr><td>1</td><td>12195</td><td>50</td></tr>\n",
       "</tbody>\n",
       "</table>\n"
      ],
      "text/latex": [
       "A tibble: 2 × 3\n",
       "\\begin{tabular}{lll}\n",
       " class & n & percent\\\\\n",
       " <fct> & <int> & <dbl>\\\\\n",
       "\\hline\n",
       "\t 0 & 12195 & 50\\\\\n",
       "\t 1 & 12195 & 50\\\\\n",
       "\\end{tabular}\n"
      ],
      "text/markdown": [
       "\n",
       "A tibble: 2 × 3\n",
       "\n",
       "| class &lt;fct&gt; | n &lt;int&gt; | percent &lt;dbl&gt; |\n",
       "|---|---|---|\n",
       "| 0 | 12195 | 50 |\n",
       "| 1 | 12195 | 50 |\n",
       "\n"
      ],
      "text/plain": [
       "  class n     percent\n",
       "1 0     12195 50     \n",
       "2 1     12195 50     "
      ]
     },
     "metadata": {},
     "output_type": "display_data"
    },
    {
     "name": "stderr",
     "output_type": "stream",
     "text": [
      "`summarise()` ungrouping output (override with `.groups` argument)\n",
      "\n"
     ]
    },
    {
     "data": {
      "text/html": [
       "<table>\n",
       "<caption>A tibble: 16 × 3</caption>\n",
       "<thead>\n",
       "\t<tr><th scope=col>class</th><th scope=col>variable_max_min</th><th scope=col>Value</th></tr>\n",
       "\t<tr><th scope=col>&lt;fct&gt;</th><th scope=col>&lt;chr&gt;</th><th scope=col>&lt;dbl&gt;</th></tr>\n",
       "</thead>\n",
       "<tbody>\n",
       "\t<tr><td>0</td><td>max_mean_ip    </td><td>190.42187500</td></tr>\n",
       "\t<tr><td>0</td><td>max_sd_ip      </td><td> 98.77891067</td></tr>\n",
       "\t<tr><td>0</td><td>max_kurtosis_ip</td><td>  4.78578590</td></tr>\n",
       "\t<tr><td>0</td><td>max_skew_ip    </td><td> 24.87242875</td></tr>\n",
       "\t<tr><td>0</td><td>min_mean_ip    </td><td> 27.60156250</td></tr>\n",
       "\t<tr><td>0</td><td>min_sd_ip      </td><td> 28.69871445</td></tr>\n",
       "\t<tr><td>0</td><td>min_kurtosis_ip</td><td> -1.73078172</td></tr>\n",
       "\t<tr><td>0</td><td>min_skew_ip    </td><td> -1.79188598</td></tr>\n",
       "\t<tr><td>1</td><td>max_mean_ip    </td><td>139.25781250</td></tr>\n",
       "\t<tr><td>1</td><td>max_sd_ip      </td><td> 83.79690851</td></tr>\n",
       "\t<tr><td>1</td><td>max_kurtosis_ip</td><td>  8.06952205</td></tr>\n",
       "\t<tr><td>1</td><td>max_skew_ip    </td><td> 68.10162173</td></tr>\n",
       "\t<tr><td>1</td><td>min_mean_ip    </td><td>  5.81250000</td></tr>\n",
       "\t<tr><td>1</td><td>min_sd_ip      </td><td> 24.77204176</td></tr>\n",
       "\t<tr><td>1</td><td>min_kurtosis_ip</td><td> -0.09488784</td></tr>\n",
       "\t<tr><td>1</td><td>min_skew_ip    </td><td> -1.13906886</td></tr>\n",
       "</tbody>\n",
       "</table>\n"
      ],
      "text/latex": [
       "A tibble: 16 × 3\n",
       "\\begin{tabular}{lll}\n",
       " class & variable\\_max\\_min & Value\\\\\n",
       " <fct> & <chr> & <dbl>\\\\\n",
       "\\hline\n",
       "\t 0 & max\\_mean\\_ip     & 190.42187500\\\\\n",
       "\t 0 & max\\_sd\\_ip       &  98.77891067\\\\\n",
       "\t 0 & max\\_kurtosis\\_ip &   4.78578590\\\\\n",
       "\t 0 & max\\_skew\\_ip     &  24.87242875\\\\\n",
       "\t 0 & min\\_mean\\_ip     &  27.60156250\\\\\n",
       "\t 0 & min\\_sd\\_ip       &  28.69871445\\\\\n",
       "\t 0 & min\\_kurtosis\\_ip &  -1.73078172\\\\\n",
       "\t 0 & min\\_skew\\_ip     &  -1.79188598\\\\\n",
       "\t 1 & max\\_mean\\_ip     & 139.25781250\\\\\n",
       "\t 1 & max\\_sd\\_ip       &  83.79690851\\\\\n",
       "\t 1 & max\\_kurtosis\\_ip &   8.06952205\\\\\n",
       "\t 1 & max\\_skew\\_ip     &  68.10162173\\\\\n",
       "\t 1 & min\\_mean\\_ip     &   5.81250000\\\\\n",
       "\t 1 & min\\_sd\\_ip       &  24.77204176\\\\\n",
       "\t 1 & min\\_kurtosis\\_ip &  -0.09488784\\\\\n",
       "\t 1 & min\\_skew\\_ip     &  -1.13906886\\\\\n",
       "\\end{tabular}\n"
      ],
      "text/markdown": [
       "\n",
       "A tibble: 16 × 3\n",
       "\n",
       "| class &lt;fct&gt; | variable_max_min &lt;chr&gt; | Value &lt;dbl&gt; |\n",
       "|---|---|---|\n",
       "| 0 | max_mean_ip     | 190.42187500 |\n",
       "| 0 | max_sd_ip       |  98.77891067 |\n",
       "| 0 | max_kurtosis_ip |   4.78578590 |\n",
       "| 0 | max_skew_ip     |  24.87242875 |\n",
       "| 0 | min_mean_ip     |  27.60156250 |\n",
       "| 0 | min_sd_ip       |  28.69871445 |\n",
       "| 0 | min_kurtosis_ip |  -1.73078172 |\n",
       "| 0 | min_skew_ip     |  -1.79188598 |\n",
       "| 1 | max_mean_ip     | 139.25781250 |\n",
       "| 1 | max_sd_ip       |  83.79690851 |\n",
       "| 1 | max_kurtosis_ip |   8.06952205 |\n",
       "| 1 | max_skew_ip     |  68.10162173 |\n",
       "| 1 | min_mean_ip     |   5.81250000 |\n",
       "| 1 | min_sd_ip       |  24.77204176 |\n",
       "| 1 | min_kurtosis_ip |  -0.09488784 |\n",
       "| 1 | min_skew_ip     |  -1.13906886 |\n",
       "\n"
      ],
      "text/plain": [
       "   class variable_max_min Value       \n",
       "1  0     max_mean_ip      190.42187500\n",
       "2  0     max_sd_ip         98.77891067\n",
       "3  0     max_kurtosis_ip    4.78578590\n",
       "4  0     max_skew_ip       24.87242875\n",
       "5  0     min_mean_ip       27.60156250\n",
       "6  0     min_sd_ip         28.69871445\n",
       "7  0     min_kurtosis_ip   -1.73078172\n",
       "8  0     min_skew_ip       -1.79188598\n",
       "9  1     max_mean_ip      139.25781250\n",
       "10 1     max_sd_ip         83.79690851\n",
       "11 1     max_kurtosis_ip    8.06952205\n",
       "12 1     max_skew_ip       68.10162173\n",
       "13 1     min_mean_ip        5.81250000\n",
       "14 1     min_sd_ip         24.77204176\n",
       "15 1     min_kurtosis_ip   -0.09488784\n",
       "16 1     min_skew_ip       -1.13906886"
      ]
     },
     "metadata": {},
     "output_type": "display_data"
    }
   ],
   "source": [
    "positive_candidates <- htru_train %>% \n",
    "    group_by(class) %>% \n",
    "    summarize(n = n())\n",
    "positive_candidates\n",
    "\n",
    "htru_proportions <- htru_train %>%\n",
    "    group_by(class) %>%\n",
    "    summarize(n = n()) %>%\n",
    "    mutate(percent = 100 * n / nrow(htru_train))\n",
    "htru_proportions\n",
    "\n",
    "# Looking at figure xxx, we can see that there are 1226 positive pulsar candidates in the training data \n",
    "\n",
    "mean_htru_train<- htru_train %>% \n",
    "    group_by(class) %>% \n",
    "    summarize(max_mean_ip = max(mean_ip, na.rm = TRUE),\n",
    "             max_sd_ip = max(sd_ip, na.rm = TRUE),\n",
    "             max_kurtosis_ip = max(kurtosis_ip, na.rm = TRUE),\n",
    "             max_skew_ip = max(skew_ip, na.rm = TRUE),\n",
    "             min_mean_ip = min(mean_ip, na.rm = TRUE),\n",
    "             min_sd_ip = min(sd_ip, na.rm = TRUE),\n",
    "             min_kurtosis_ip = min(kurtosis_ip, na.rm = TRUE),\n",
    "             min_skew_ip = min(skew_ip, na.rm = TRUE)) %>%\n",
    "             pivot_longer(cols = -class,\n",
    "                 names_to = 'variable_max_min',\n",
    "                 values_to = 'Value') \n",
    "mean_htru_train\n",
    "# At the beginning of the study, it was reasonable to consider that the critical points (extremes) of these data \n",
    "# could be correlated with whether or not they were judged to be pulsars\n",
    "  "
   ]
  },
  {
   "cell_type": "markdown",
   "metadata": {},
   "source": [
    "### Preliminary Visualization"
   ]
  },
  {
   "cell_type": "code",
   "execution_count": 38,
   "metadata": {},
   "outputs": [
    {
     "data": {
      "image/png": "[encoded data removed]",
      "text/plain": [
       "plot without title"
      ]
     },
     "metadata": {
      "image/png": {
       "height": 360,
       "width": 1500
      }
     },
     "output_type": "display_data"
    }
   ],
   "source": [
    "library(gridExtra) # package used to arrange plots neatly in a grid\n",
    "options(repr.plot.width = 25, repr.plot.height = 6)\n",
    "\n",
    "vis_mean_ip <- ggplot(htru_train, aes(x = mean_ip)) +\n",
    "    geom_histogram(binwidth = 50) + \n",
    "    labs(x = 'Integrated Profile Mean')\n",
    "vis_sd_ip <- ggplot(htru_train, aes(x = sd_ip)) +\n",
    "    geom_histogram(binwidth = 50) + \n",
    "    labs(x = 'Integrated Profile Standard Deviation')\n",
    "vis_kurtosis_ip <- ggplot(htru_train, aes(x = kurtosis_ip)) +\n",
    "    geom_histogram(binwidth = 50) + \n",
    "    labs(x = 'Integrated Profile Kurtosis')\n",
    "vis_skew_ip <- ggplot(htru_train, aes(x = kurtosis_ip)) +\n",
    "    geom_histogram(binwidth = 50) + \n",
    "    labs(x = 'Integrated Profile Skewness')\n",
    "\n",
    "grid.arrange(vis_mean_ip, vis_sd_ip, vis_kurtosis_ip, vis_skew_ip, nrow = 1, top = 'Data Distributions for Integrated Profile')"
   ]
  },
  {
   "cell_type": "markdown",
   "metadata": {},
   "source": [
    "### Building and Training Our Classifier Model"
   ]
  },
  {
   "cell_type": "code",
   "execution_count": 39,
   "metadata": {},
   "outputs": [],
   "source": [
    "# set.seed(3456)\n",
    "# recipe_upsample <- recipe(class ~ mean_ip + sd_ip + kurtosis_ip + skew_ip, data = htru_data) %>%\n",
    "#                     step_upsample(class, over_ratio = 1, skip = FALSE)\n",
    "\n",
    "# htru_train2 <- recipe_upsample %>%\n",
    "#                 prep() %>%\n",
    "#                 bake(htru_train)\n",
    "# group_by(htru_train2, class) %>%\n",
    "# summarize(n = n())"
   ]
  },
  {
   "cell_type": "code",
   "execution_count": 40,
   "metadata": {},
   "outputs": [],
   "source": [
    "set.seed(3456)  \n",
    " \n",
    "# Setting up tuning model\n",
    "htru_tune <- nearest_neighbor(weight_func = \"rectangular\", neighbors = tune()) %>%\n",
    "                              set_engine(\"kknn\") %>%\n",
    "                              set_mode(\"classification\")\n",
    "\n",
    "# Creating preprocessing recipe\n",
    "htru_recipe <- recipe(class ~ mean_ip + sd_ip + kurtosis_ip + skew_ip, data = htru_train) %>%\n",
    "               step_scale(all_predictors()) %>%\n",
    "               step_center(all_predictors())"
   ]
  },
  {
   "cell_type": "code",
   "execution_count": 41,
   "metadata": {},
   "outputs": [
    {
     "data": {
      "text/html": [
       "<table>\n",
       "<caption>A tibble: 14 × 7</caption>\n",
       "<thead>\n",
       "\t<tr><th scope=col>neighbors</th><th scope=col>.metric</th><th scope=col>.estimator</th><th scope=col>mean</th><th scope=col>n</th><th scope=col>std_err</th><th scope=col>.config</th></tr>\n",
       "\t<tr><th scope=col>&lt;int&gt;</th><th scope=col>&lt;chr&gt;</th><th scope=col>&lt;chr&gt;</th><th scope=col>&lt;dbl&gt;</th><th scope=col>&lt;int&gt;</th><th scope=col>&lt;dbl&gt;</th><th scope=col>&lt;chr&gt;</th></tr>\n",
       "</thead>\n",
       "<tbody>\n",
       "\t<tr><td> 1</td><td>accuracy</td><td>binary</td><td>0.9865519</td><td>5</td><td>0.0006848419</td><td>Model01</td></tr>\n",
       "\t<tr><td> 2</td><td>accuracy</td><td>binary</td><td>0.9865519</td><td>5</td><td>0.0006848419</td><td>Model02</td></tr>\n",
       "\t<tr><td> 3</td><td>accuracy</td><td>binary</td><td>0.9760148</td><td>5</td><td>0.0009980042</td><td>Model03</td></tr>\n",
       "\t<tr><td> 4</td><td>accuracy</td><td>binary</td><td>0.9760148</td><td>5</td><td>0.0009980042</td><td>Model04</td></tr>\n",
       "\t<tr><td> 5</td><td>accuracy</td><td>binary</td><td>0.9662977</td><td>5</td><td>0.0006909512</td><td>Model05</td></tr>\n",
       "\t<tr><td> 6</td><td>accuracy</td><td>binary</td><td>0.9662977</td><td>5</td><td>0.0006909512</td><td>Model06</td></tr>\n",
       "\t<tr><td> 7</td><td>accuracy</td><td>binary</td><td>0.9578926</td><td>5</td><td>0.0009496708</td><td>Model07</td></tr>\n",
       "\t<tr><td> 8</td><td>accuracy</td><td>binary</td><td>0.9578926</td><td>5</td><td>0.0009496708</td><td>Model08</td></tr>\n",
       "\t<tr><td> 9</td><td>accuracy</td><td>binary</td><td>0.9496515</td><td>5</td><td>0.0014705950</td><td>Model09</td></tr>\n",
       "\t<tr><td>10</td><td>accuracy</td><td>binary</td><td>0.9496515</td><td>5</td><td>0.0014705950</td><td>Model10</td></tr>\n",
       "\t<tr><td>11</td><td>accuracy</td><td>binary</td><td>0.9436654</td><td>5</td><td>0.0011347563</td><td>Model11</td></tr>\n",
       "\t<tr><td>12</td><td>accuracy</td><td>binary</td><td>0.9436654</td><td>5</td><td>0.0011347563</td><td>Model12</td></tr>\n",
       "\t<tr><td>13</td><td>accuracy</td><td>binary</td><td>0.9406314</td><td>5</td><td>0.0014576785</td><td>Model13</td></tr>\n",
       "\t<tr><td>14</td><td>accuracy</td><td>binary</td><td>0.9406314</td><td>5</td><td>0.0014576785</td><td>Model14</td></tr>\n",
       "</tbody>\n",
       "</table>\n"
      ],
      "text/latex": [
       "A tibble: 14 × 7\n",
       "\\begin{tabular}{lllllll}\n",
       " neighbors & .metric & .estimator & mean & n & std\\_err & .config\\\\\n",
       " <int> & <chr> & <chr> & <dbl> & <int> & <dbl> & <chr>\\\\\n",
       "\\hline\n",
       "\t  1 & accuracy & binary & 0.9865519 & 5 & 0.0006848419 & Model01\\\\\n",
       "\t  2 & accuracy & binary & 0.9865519 & 5 & 0.0006848419 & Model02\\\\\n",
       "\t  3 & accuracy & binary & 0.9760148 & 5 & 0.0009980042 & Model03\\\\\n",
       "\t  4 & accuracy & binary & 0.9760148 & 5 & 0.0009980042 & Model04\\\\\n",
       "\t  5 & accuracy & binary & 0.9662977 & 5 & 0.0006909512 & Model05\\\\\n",
       "\t  6 & accuracy & binary & 0.9662977 & 5 & 0.0006909512 & Model06\\\\\n",
       "\t  7 & accuracy & binary & 0.9578926 & 5 & 0.0009496708 & Model07\\\\\n",
       "\t  8 & accuracy & binary & 0.9578926 & 5 & 0.0009496708 & Model08\\\\\n",
       "\t  9 & accuracy & binary & 0.9496515 & 5 & 0.0014705950 & Model09\\\\\n",
       "\t 10 & accuracy & binary & 0.9496515 & 5 & 0.0014705950 & Model10\\\\\n",
       "\t 11 & accuracy & binary & 0.9436654 & 5 & 0.0011347563 & Model11\\\\\n",
       "\t 12 & accuracy & binary & 0.9436654 & 5 & 0.0011347563 & Model12\\\\\n",
       "\t 13 & accuracy & binary & 0.9406314 & 5 & 0.0014576785 & Model13\\\\\n",
       "\t 14 & accuracy & binary & 0.9406314 & 5 & 0.0014576785 & Model14\\\\\n",
       "\\end{tabular}\n"
      ],
      "text/markdown": [
       "\n",
       "A tibble: 14 × 7\n",
       "\n",
       "| neighbors &lt;int&gt; | .metric &lt;chr&gt; | .estimator &lt;chr&gt; | mean &lt;dbl&gt; | n &lt;int&gt; | std_err &lt;dbl&gt; | .config &lt;chr&gt; |\n",
       "|---|---|---|---|---|---|---|\n",
       "|  1 | accuracy | binary | 0.9865519 | 5 | 0.0006848419 | Model01 |\n",
       "|  2 | accuracy | binary | 0.9865519 | 5 | 0.0006848419 | Model02 |\n",
       "|  3 | accuracy | binary | 0.9760148 | 5 | 0.0009980042 | Model03 |\n",
       "|  4 | accuracy | binary | 0.9760148 | 5 | 0.0009980042 | Model04 |\n",
       "|  5 | accuracy | binary | 0.9662977 | 5 | 0.0006909512 | Model05 |\n",
       "|  6 | accuracy | binary | 0.9662977 | 5 | 0.0006909512 | Model06 |\n",
       "|  7 | accuracy | binary | 0.9578926 | 5 | 0.0009496708 | Model07 |\n",
       "|  8 | accuracy | binary | 0.9578926 | 5 | 0.0009496708 | Model08 |\n",
       "|  9 | accuracy | binary | 0.9496515 | 5 | 0.0014705950 | Model09 |\n",
       "| 10 | accuracy | binary | 0.9496515 | 5 | 0.0014705950 | Model10 |\n",
       "| 11 | accuracy | binary | 0.9436654 | 5 | 0.0011347563 | Model11 |\n",
       "| 12 | accuracy | binary | 0.9436654 | 5 | 0.0011347563 | Model12 |\n",
       "| 13 | accuracy | binary | 0.9406314 | 5 | 0.0014576785 | Model13 |\n",
       "| 14 | accuracy | binary | 0.9406314 | 5 | 0.0014576785 | Model14 |\n",
       "\n"
      ],
      "text/plain": [
       "   neighbors .metric  .estimator mean      n std_err      .config\n",
       "1   1        accuracy binary     0.9865519 5 0.0006848419 Model01\n",
       "2   2        accuracy binary     0.9865519 5 0.0006848419 Model02\n",
       "3   3        accuracy binary     0.9760148 5 0.0009980042 Model03\n",
       "4   4        accuracy binary     0.9760148 5 0.0009980042 Model04\n",
       "5   5        accuracy binary     0.9662977 5 0.0006909512 Model05\n",
       "6   6        accuracy binary     0.9662977 5 0.0006909512 Model06\n",
       "7   7        accuracy binary     0.9578926 5 0.0009496708 Model07\n",
       "8   8        accuracy binary     0.9578926 5 0.0009496708 Model08\n",
       "9   9        accuracy binary     0.9496515 5 0.0014705950 Model09\n",
       "10 10        accuracy binary     0.9496515 5 0.0014705950 Model10\n",
       "11 11        accuracy binary     0.9436654 5 0.0011347563 Model11\n",
       "12 12        accuracy binary     0.9436654 5 0.0011347563 Model12\n",
       "13 13        accuracy binary     0.9406314 5 0.0014576785 Model13\n",
       "14 14        accuracy binary     0.9406314 5 0.0014576785 Model14"
      ]
     },
     "metadata": {},
     "output_type": "display_data"
    }
   ],
   "source": [
    "set.seed(3456)  \n",
    "\n",
    "# Performing cross-validation \n",
    "htru_vfold <- vfold_cv(htru_train, v = 5, strata = class)\n",
    "# Have tried more folds, but no statically significant results \n",
    "gridvals <- tibble(neighbors = 1:14) # Picked 14 neighbors to test (inadequate computer power to test more)\n",
    "\n",
    "htru_results <- workflow() %>%\n",
    "                add_recipe(htru_recipe) %>%\n",
    "                add_model(htru_tune) %>%\n",
    "                tune_grid(resamples = htru_vfold, grid = gridvals) %>%\n",
    "                collect_metrics() %>% \n",
    "                filter(.metric == \"accuracy\")\n",
    "htru_results"
   ]
  },
  {
   "cell_type": "code",
   "execution_count": 42,
   "metadata": {},
   "outputs": [
    {
     "data": {
      "text/html": [
       "<table>\n",
       "<caption>A tibble: 1 × 7</caption>\n",
       "<thead>\n",
       "\t<tr><th scope=col>neighbors</th><th scope=col>.metric</th><th scope=col>.estimator</th><th scope=col>mean</th><th scope=col>n</th><th scope=col>std_err</th><th scope=col>.config</th></tr>\n",
       "\t<tr><th scope=col>&lt;int&gt;</th><th scope=col>&lt;chr&gt;</th><th scope=col>&lt;chr&gt;</th><th scope=col>&lt;dbl&gt;</th><th scope=col>&lt;int&gt;</th><th scope=col>&lt;dbl&gt;</th><th scope=col>&lt;chr&gt;</th></tr>\n",
       "</thead>\n",
       "<tbody>\n",
       "\t<tr><td>1</td><td>accuracy</td><td>binary</td><td>0.9865519</td><td>5</td><td>0.0006848419</td><td>Model01</td></tr>\n",
       "</tbody>\n",
       "</table>\n"
      ],
      "text/latex": [
       "A tibble: 1 × 7\n",
       "\\begin{tabular}{lllllll}\n",
       " neighbors & .metric & .estimator & mean & n & std\\_err & .config\\\\\n",
       " <int> & <chr> & <chr> & <dbl> & <int> & <dbl> & <chr>\\\\\n",
       "\\hline\n",
       "\t 1 & accuracy & binary & 0.9865519 & 5 & 0.0006848419 & Model01\\\\\n",
       "\\end{tabular}\n"
      ],
      "text/markdown": [
       "\n",
       "A tibble: 1 × 7\n",
       "\n",
       "| neighbors &lt;int&gt; | .metric &lt;chr&gt; | .estimator &lt;chr&gt; | mean &lt;dbl&gt; | n &lt;int&gt; | std_err &lt;dbl&gt; | .config &lt;chr&gt; |\n",
       "|---|---|---|---|---|---|---|\n",
       "| 1 | accuracy | binary | 0.9865519 | 5 | 0.0006848419 | Model01 |\n",
       "\n"
      ],
      "text/plain": [
       "  neighbors .metric  .estimator mean      n std_err      .config\n",
       "1 1         accuracy binary     0.9865519 5 0.0006848419 Model01"
      ]
     },
     "metadata": {},
     "output_type": "display_data"
    },
    {
     "data": {
      "image/png": "[encoded data removed]",
      "text/plain": [
       "plot without title"
      ]
     },
     "metadata": {
      "image/png": {
       "height": 420,
       "width": 420
      }
     },
     "output_type": "display_data"
    }
   ],
   "source": [
    "set.seed(3456)  \n",
    "\n",
    "options(repr.plot.width = 7, repr.plot.height = 7)\n",
    "\n",
    "# Finding the number of neighbors that yields the highest accuracy (mean)\n",
    "k_max <- htru_results %>%\n",
    "    arrange(desc(mean)) %>% \n",
    "    slice(1)\n",
    "k_max\n",
    "\n",
    "# Plotting accuracy against neighbors\n",
    "accuracies_vs_k  <- ggplot(htru_results, aes(x = neighbors, y = mean))+\n",
    "       geom_point() +\n",
    "       geom_line() +\n",
    "       ggtitle('Accuracies vs Neighbors') +\n",
    "       labs(x = \"Neighbors\", y = \"Accuracy Estimate\") +\n",
    "       scale_x_continuous(breaks = seq(0, 14, 1)) + \n",
    "       theme(text = element_text(size = 16))\n",
    "accuracies_vs_k"
   ]
  },
  {
   "cell_type": "code",
   "execution_count": 43,
   "metadata": {},
   "outputs": [
    {
     "data": {
      "text/html": [
       "<table>\n",
       "<caption>A tibble: 1 × 3</caption>\n",
       "<thead>\n",
       "\t<tr><th scope=col>.metric</th><th scope=col>.estimator</th><th scope=col>.estimate</th></tr>\n",
       "\t<tr><th scope=col>&lt;chr&gt;</th><th scope=col>&lt;chr&gt;</th><th scope=col>&lt;dbl&gt;</th></tr>\n",
       "</thead>\n",
       "<tbody>\n",
       "\t<tr><td>accuracy</td><td>binary</td><td>0.9875738</td></tr>\n",
       "</tbody>\n",
       "</table>\n"
      ],
      "text/latex": [
       "A tibble: 1 × 3\n",
       "\\begin{tabular}{lll}\n",
       " .metric & .estimator & .estimate\\\\\n",
       " <chr> & <chr> & <dbl>\\\\\n",
       "\\hline\n",
       "\t accuracy & binary & 0.9875738\\\\\n",
       "\\end{tabular}\n"
      ],
      "text/markdown": [
       "\n",
       "A tibble: 1 × 3\n",
       "\n",
       "| .metric &lt;chr&gt; | .estimator &lt;chr&gt; | .estimate &lt;dbl&gt; |\n",
       "|---|---|---|\n",
       "| accuracy | binary | 0.9875738 |\n",
       "\n"
      ],
      "text/plain": [
       "  .metric  .estimator .estimate\n",
       "1 accuracy binary     0.9875738"
      ]
     },
     "metadata": {},
     "output_type": "display_data"
    },
    {
     "data": {
      "text/plain": [
       "          Truth\n",
       "Prediction    0    1\n",
       "         0 3963    0\n",
       "         1  101 4064"
      ]
     },
     "metadata": {},
     "output_type": "display_data"
    }
   ],
   "source": [
    "set.seed(3456)  \n",
    "\n",
    "k_best <- k_max %>% \n",
    "    pull(neighbors)\n",
    "\n",
    "# Specifying model using best number of neighbors\n",
    "htru_spec <- nearest_neighbor(weight_func = \"rectangular\", neighbors = k_best) %>%\n",
    "  set_engine(\"kknn\") %>%\n",
    "  set_mode(\"classification\")\n",
    "\n",
    "# Fitting our model to the training data\n",
    "htru_fit <- workflow() %>%\n",
    "  add_recipe(htru_recipe) %>%\n",
    "  add_model(htru_spec) %>%\n",
    "  fit(data = htru_train)\n",
    "\n",
    "# Evaluating our model with the testing data\n",
    "htru_predictions <- htru_fit %>%\n",
    "  predict(htru_test) %>%\n",
    "  bind_cols(htru_test) %>%\n",
    "  metrics(truth = class, estimate = .pred_class) %>%\n",
    "  filter(.metric == 'accuracy')\n",
    "htru_predictions\n",
    "\n",
    "htru_matrix <- htru_fit %>% \n",
    "    predict(htru_test) %>% \n",
    "    bind_cols(htru_test) %>%\n",
    "    conf_mat(truth = class, estimate = .pred_class)\n",
    "htru_matrix\n"
   ]
  },
  {
   "cell_type": "code",
   "execution_count": 44,
   "metadata": {},
   "outputs": [
    {
     "data": {
      "image/png": "[encoded data removed]",
      "text/plain": [
       "plot without title"
      ]
     },
     "metadata": {
      "image/png": {
       "height": 420,
       "width": 420
      }
     },
     "output_type": "display_data"
    }
   ],
   "source": [
    "fourfoldplot(htru_matrix$table)"
   ]
  },
  {
   "cell_type": "code",
   "execution_count": 61,
   "metadata": {},
   "outputs": [
    {
     "data": {
      "text/html": [
       "<table>\n",
       "<caption>A tibble: 32518 × 6</caption>\n",
       "<thead>\n",
       "\t<tr><th scope=col>mean_ip</th><th scope=col>sd_ip</th><th scope=col>kurtosis_ip</th><th scope=col>skew_ip</th><th scope=col>class</th><th scope=col>type</th></tr>\n",
       "\t<tr><th scope=col>&lt;dbl&gt;</th><th scope=col>&lt;dbl&gt;</th><th scope=col>&lt;dbl&gt;</th><th scope=col>&lt;dbl&gt;</th><th scope=col>&lt;fct&gt;</th><th scope=col>&lt;chr&gt;</th></tr>\n",
       "</thead>\n",
       "<tbody>\n",
       "\t<tr><td>140.56250</td><td>55.68378</td><td>-0.23457141</td><td>-0.69964840</td><td>0</td><td>training</td></tr>\n",
       "\t<tr><td>103.01562</td><td>39.34165</td><td> 0.32332837</td><td> 1.05116443</td><td>0</td><td>training</td></tr>\n",
       "\t<tr><td>136.75000</td><td>57.17845</td><td>-0.06841464</td><td>-0.63623837</td><td>0</td><td>training</td></tr>\n",
       "\t<tr><td> 88.72656</td><td>40.67223</td><td> 0.60086608</td><td> 1.12349169</td><td>0</td><td>training</td></tr>\n",
       "\t<tr><td> 93.57031</td><td>46.69811</td><td> 0.53190485</td><td> 0.41672112</td><td>0</td><td>training</td></tr>\n",
       "\t<tr><td>130.38281</td><td>39.84406</td><td>-0.15832276</td><td> 0.38954045</td><td>0</td><td>training</td></tr>\n",
       "\t<tr><td>107.25000</td><td>52.62708</td><td> 0.45268802</td><td> 0.17034738</td><td>0</td><td>training</td></tr>\n",
       "\t<tr><td>142.07812</td><td>45.28807</td><td>-0.32032843</td><td> 0.28395251</td><td>0</td><td>training</td></tr>\n",
       "\t<tr><td>133.25781</td><td>44.05824</td><td>-0.08105986</td><td> 0.11536151</td><td>0</td><td>training</td></tr>\n",
       "\t<tr><td>134.96094</td><td>49.55433</td><td>-0.13530383</td><td>-0.08046960</td><td>0</td><td>training</td></tr>\n",
       "\t<tr><td>117.94531</td><td>45.50658</td><td> 0.32543756</td><td> 0.66145946</td><td>0</td><td>training</td></tr>\n",
       "\t<tr><td>138.17969</td><td>51.52448</td><td>-0.03185233</td><td> 0.04679717</td><td>0</td><td>training</td></tr>\n",
       "\t<tr><td>114.36719</td><td>51.94572</td><td>-0.09449890</td><td>-0.28798409</td><td>0</td><td>training</td></tr>\n",
       "\t<tr><td>109.64062</td><td>49.01765</td><td> 0.13763583</td><td>-0.25669978</td><td>0</td><td>training</td></tr>\n",
       "\t<tr><td>100.85156</td><td>51.74352</td><td> 0.39383679</td><td>-0.01124074</td><td>0</td><td>training</td></tr>\n",
       "\t<tr><td>136.09375</td><td>51.69100</td><td>-0.04590893</td><td>-0.27181639</td><td>0</td><td>training</td></tr>\n",
       "\t<tr><td>100.89062</td><td>51.89039</td><td> 0.62748653</td><td>-0.02649780</td><td>0</td><td>training</td></tr>\n",
       "\t<tr><td>105.44531</td><td>41.13997</td><td> 0.14265380</td><td> 0.32041968</td><td>0</td><td>training</td></tr>\n",
       "\t<tr><td>117.36719</td><td>53.90861</td><td> 0.25795344</td><td>-0.40504908</td><td>0</td><td>training</td></tr>\n",
       "\t<tr><td>112.71875</td><td>50.30127</td><td> 0.27939095</td><td>-0.12901071</td><td>0</td><td>training</td></tr>\n",
       "\t<tr><td>130.85156</td><td>52.43286</td><td> 0.14259673</td><td> 0.01888544</td><td>0</td><td>training</td></tr>\n",
       "\t<tr><td>102.61719</td><td>49.69235</td><td> 0.23043898</td><td> 0.19332537</td><td>0</td><td>training</td></tr>\n",
       "\t<tr><td> 99.91406</td><td>43.91950</td><td> 0.47572850</td><td> 0.78148620</td><td>0</td><td>training</td></tr>\n",
       "\t<tr><td>128.34375</td><td>52.17211</td><td>-0.04928040</td><td>-0.20825699</td><td>0</td><td>training</td></tr>\n",
       "\t<tr><td>142.05469</td><td>53.87316</td><td>-0.47077269</td><td>-0.12594642</td><td>0</td><td>training</td></tr>\n",
       "\t<tr><td>121.13281</td><td>47.63261</td><td> 0.17736031</td><td> 0.02491811</td><td>0</td><td>training</td></tr>\n",
       "\t<tr><td>107.87500</td><td>37.33066</td><td> 0.49600476</td><td> 1.48181586</td><td>0</td><td>training</td></tr>\n",
       "\t<tr><td>118.84375</td><td>45.93192</td><td>-0.10924267</td><td> 0.13768355</td><td>0</td><td>training</td></tr>\n",
       "\t<tr><td>116.20312</td><td>47.34586</td><td> 0.21194682</td><td>-0.02217770</td><td>0</td><td>training</td></tr>\n",
       "\t<tr><td>121.88281</td><td>53.04267</td><td> 0.20052072</td><td>-0.28221903</td><td>0</td><td>training</td></tr>\n",
       "\t<tr><td>⋮</td><td>⋮</td><td>⋮</td><td>⋮</td><td>⋮</td><td>⋮</td></tr>\n",
       "\t<tr><td>137.929688</td><td>52.98027</td><td>-0.09488784</td><td> 0.13142550</td><td>1</td><td>predictor</td></tr>\n",
       "\t<tr><td>110.117188</td><td>46.97533</td><td> 0.54111912</td><td> 0.32599671</td><td>1</td><td>predictor</td></tr>\n",
       "\t<tr><td> 38.531250</td><td>37.39735</td><td> 4.36452965</td><td>19.87977135</td><td>1</td><td>predictor</td></tr>\n",
       "\t<tr><td> 83.367188</td><td>41.44158</td><td> 1.30389814</td><td> 3.44558077</td><td>1</td><td>predictor</td></tr>\n",
       "\t<tr><td>100.085938</td><td>40.11663</td><td> 0.55070224</td><td> 1.46977602</td><td>1</td><td>predictor</td></tr>\n",
       "\t<tr><td> 20.789062</td><td>53.18815</td><td> 3.07601168</td><td> 8.00513187</td><td>1</td><td>predictor</td></tr>\n",
       "\t<tr><td> 34.773438</td><td>29.19766</td><td> 6.53995854</td><td>46.27395894</td><td>1</td><td>predictor</td></tr>\n",
       "\t<tr><td> 92.601562</td><td>49.78851</td><td> 1.00528725</td><td> 0.57183843</td><td>1</td><td>predictor</td></tr>\n",
       "\t<tr><td>  6.187500</td><td>29.69500</td><td> 7.32015667</td><td>54.06094705</td><td>1</td><td>predictor</td></tr>\n",
       "\t<tr><td> 34.375000</td><td>31.88088</td><td> 4.58834175</td><td>25.88273951</td><td>1</td><td>predictor</td></tr>\n",
       "\t<tr><td> 29.843750</td><td>28.88432</td><td> 5.03256254</td><td>32.10654285</td><td>1</td><td>predictor</td></tr>\n",
       "\t<tr><td> 39.960938</td><td>34.99027</td><td> 3.94109633</td><td>19.86629346</td><td>1</td><td>predictor</td></tr>\n",
       "\t<tr><td> 45.093750</td><td>28.60956</td><td> 4.15646026</td><td>26.19820242</td><td>1</td><td>predictor</td></tr>\n",
       "\t<tr><td> 95.757812</td><td>52.08958</td><td> 0.85997009</td><td> 0.08777878</td><td>1</td><td>predictor</td></tr>\n",
       "\t<tr><td> 67.078125</td><td>34.17158</td><td> 1.82134673</td><td> 7.72249619</td><td>1</td><td>predictor</td></tr>\n",
       "\t<tr><td> 31.507812</td><td>32.41961</td><td> 4.86310612</td><td>28.54648857</td><td>1</td><td>predictor</td></tr>\n",
       "\t<tr><td>  8.843750</td><td>31.10226</td><td> 7.14737003</td><td>51.30904570</td><td>1</td><td>predictor</td></tr>\n",
       "\t<tr><td> 10.687500</td><td>33.90238</td><td> 5.47313254</td><td>31.12910769</td><td>1</td><td>predictor</td></tr>\n",
       "\t<tr><td> 33.765625</td><td>30.68170</td><td> 5.07781356</td><td>29.38512340</td><td>1</td><td>predictor</td></tr>\n",
       "\t<tr><td> 34.046875</td><td>34.17050</td><td> 4.04551237</td><td>18.66538021</td><td>1</td><td>predictor</td></tr>\n",
       "\t<tr><td> 56.640625</td><td>49.86008</td><td> 1.74905220</td><td> 2.37449376</td><td>1</td><td>predictor</td></tr>\n",
       "\t<tr><td> 61.546875</td><td>38.90129</td><td> 3.02448876</td><td>10.33615918</td><td>1</td><td>predictor</td></tr>\n",
       "\t<tr><td> 43.945312</td><td>30.20666</td><td> 5.18665297</td><td>33.78045606</td><td>1</td><td>predictor</td></tr>\n",
       "\t<tr><td> 66.773438</td><td>58.20629</td><td> 1.83873406</td><td> 2.41493918</td><td>1</td><td>predictor</td></tr>\n",
       "\t<tr><td> 31.250000</td><td>29.79435</td><td> 5.16878003</td><td>32.00199897</td><td>1</td><td>predictor</td></tr>\n",
       "\t<tr><td> 46.921875</td><td>42.90316</td><td> 3.11121418</td><td>10.10921616</td><td>1</td><td>predictor</td></tr>\n",
       "\t<tr><td>  8.960938</td><td>30.21729</td><td> 7.51311663</td><td>55.84523749</td><td>1</td><td>predictor</td></tr>\n",
       "\t<tr><td>126.492188</td><td>45.31332</td><td> 0.22249809</td><td> 0.22756242</td><td>1</td><td>predictor</td></tr>\n",
       "\t<tr><td> 82.382812</td><td>46.59804</td><td> 1.52685118</td><td> 2.54576409</td><td>1</td><td>predictor</td></tr>\n",
       "\t<tr><td> 33.914062</td><td>36.31977</td><td> 4.56112586</td><td>22.33154978</td><td>1</td><td>predictor</td></tr>\n",
       "</tbody>\n",
       "</table>\n"
      ],
      "text/latex": [
       "A tibble: 32518 × 6\n",
       "\\begin{tabular}{llllll}\n",
       " mean\\_ip & sd\\_ip & kurtosis\\_ip & skew\\_ip & class & type\\\\\n",
       " <dbl> & <dbl> & <dbl> & <dbl> & <fct> & <chr>\\\\\n",
       "\\hline\n",
       "\t 140.56250 & 55.68378 & -0.23457141 & -0.69964840 & 0 & training\\\\\n",
       "\t 103.01562 & 39.34165 &  0.32332837 &  1.05116443 & 0 & training\\\\\n",
       "\t 136.75000 & 57.17845 & -0.06841464 & -0.63623837 & 0 & training\\\\\n",
       "\t  88.72656 & 40.67223 &  0.60086608 &  1.12349169 & 0 & training\\\\\n",
       "\t  93.57031 & 46.69811 &  0.53190485 &  0.41672112 & 0 & training\\\\\n",
       "\t 130.38281 & 39.84406 & -0.15832276 &  0.38954045 & 0 & training\\\\\n",
       "\t 107.25000 & 52.62708 &  0.45268802 &  0.17034738 & 0 & training\\\\\n",
       "\t 142.07812 & 45.28807 & -0.32032843 &  0.28395251 & 0 & training\\\\\n",
       "\t 133.25781 & 44.05824 & -0.08105986 &  0.11536151 & 0 & training\\\\\n",
       "\t 134.96094 & 49.55433 & -0.13530383 & -0.08046960 & 0 & training\\\\\n",
       "\t 117.94531 & 45.50658 &  0.32543756 &  0.66145946 & 0 & training\\\\\n",
       "\t 138.17969 & 51.52448 & -0.03185233 &  0.04679717 & 0 & training\\\\\n",
       "\t 114.36719 & 51.94572 & -0.09449890 & -0.28798409 & 0 & training\\\\\n",
       "\t 109.64062 & 49.01765 &  0.13763583 & -0.25669978 & 0 & training\\\\\n",
       "\t 100.85156 & 51.74352 &  0.39383679 & -0.01124074 & 0 & training\\\\\n",
       "\t 136.09375 & 51.69100 & -0.04590893 & -0.27181639 & 0 & training\\\\\n",
       "\t 100.89062 & 51.89039 &  0.62748653 & -0.02649780 & 0 & training\\\\\n",
       "\t 105.44531 & 41.13997 &  0.14265380 &  0.32041968 & 0 & training\\\\\n",
       "\t 117.36719 & 53.90861 &  0.25795344 & -0.40504908 & 0 & training\\\\\n",
       "\t 112.71875 & 50.30127 &  0.27939095 & -0.12901071 & 0 & training\\\\\n",
       "\t 130.85156 & 52.43286 &  0.14259673 &  0.01888544 & 0 & training\\\\\n",
       "\t 102.61719 & 49.69235 &  0.23043898 &  0.19332537 & 0 & training\\\\\n",
       "\t  99.91406 & 43.91950 &  0.47572850 &  0.78148620 & 0 & training\\\\\n",
       "\t 128.34375 & 52.17211 & -0.04928040 & -0.20825699 & 0 & training\\\\\n",
       "\t 142.05469 & 53.87316 & -0.47077269 & -0.12594642 & 0 & training\\\\\n",
       "\t 121.13281 & 47.63261 &  0.17736031 &  0.02491811 & 0 & training\\\\\n",
       "\t 107.87500 & 37.33066 &  0.49600476 &  1.48181586 & 0 & training\\\\\n",
       "\t 118.84375 & 45.93192 & -0.10924267 &  0.13768355 & 0 & training\\\\\n",
       "\t 116.20312 & 47.34586 &  0.21194682 & -0.02217770 & 0 & training\\\\\n",
       "\t 121.88281 & 53.04267 &  0.20052072 & -0.28221903 & 0 & training\\\\\n",
       "\t ⋮ & ⋮ & ⋮ & ⋮ & ⋮ & ⋮\\\\\n",
       "\t 137.929688 & 52.98027 & -0.09488784 &  0.13142550 & 1 & predictor\\\\\n",
       "\t 110.117188 & 46.97533 &  0.54111912 &  0.32599671 & 1 & predictor\\\\\n",
       "\t  38.531250 & 37.39735 &  4.36452965 & 19.87977135 & 1 & predictor\\\\\n",
       "\t  83.367188 & 41.44158 &  1.30389814 &  3.44558077 & 1 & predictor\\\\\n",
       "\t 100.085938 & 40.11663 &  0.55070224 &  1.46977602 & 1 & predictor\\\\\n",
       "\t  20.789062 & 53.18815 &  3.07601168 &  8.00513187 & 1 & predictor\\\\\n",
       "\t  34.773438 & 29.19766 &  6.53995854 & 46.27395894 & 1 & predictor\\\\\n",
       "\t  92.601562 & 49.78851 &  1.00528725 &  0.57183843 & 1 & predictor\\\\\n",
       "\t   6.187500 & 29.69500 &  7.32015667 & 54.06094705 & 1 & predictor\\\\\n",
       "\t  34.375000 & 31.88088 &  4.58834175 & 25.88273951 & 1 & predictor\\\\\n",
       "\t  29.843750 & 28.88432 &  5.03256254 & 32.10654285 & 1 & predictor\\\\\n",
       "\t  39.960938 & 34.99027 &  3.94109633 & 19.86629346 & 1 & predictor\\\\\n",
       "\t  45.093750 & 28.60956 &  4.15646026 & 26.19820242 & 1 & predictor\\\\\n",
       "\t  95.757812 & 52.08958 &  0.85997009 &  0.08777878 & 1 & predictor\\\\\n",
       "\t  67.078125 & 34.17158 &  1.82134673 &  7.72249619 & 1 & predictor\\\\\n",
       "\t  31.507812 & 32.41961 &  4.86310612 & 28.54648857 & 1 & predictor\\\\\n",
       "\t   8.843750 & 31.10226 &  7.14737003 & 51.30904570 & 1 & predictor\\\\\n",
       "\t  10.687500 & 33.90238 &  5.47313254 & 31.12910769 & 1 & predictor\\\\\n",
       "\t  33.765625 & 30.68170 &  5.07781356 & 29.38512340 & 1 & predictor\\\\\n",
       "\t  34.046875 & 34.17050 &  4.04551237 & 18.66538021 & 1 & predictor\\\\\n",
       "\t  56.640625 & 49.86008 &  1.74905220 &  2.37449376 & 1 & predictor\\\\\n",
       "\t  61.546875 & 38.90129 &  3.02448876 & 10.33615918 & 1 & predictor\\\\\n",
       "\t  43.945312 & 30.20666 &  5.18665297 & 33.78045606 & 1 & predictor\\\\\n",
       "\t  66.773438 & 58.20629 &  1.83873406 &  2.41493918 & 1 & predictor\\\\\n",
       "\t  31.250000 & 29.79435 &  5.16878003 & 32.00199897 & 1 & predictor\\\\\n",
       "\t  46.921875 & 42.90316 &  3.11121418 & 10.10921616 & 1 & predictor\\\\\n",
       "\t   8.960938 & 30.21729 &  7.51311663 & 55.84523749 & 1 & predictor\\\\\n",
       "\t 126.492188 & 45.31332 &  0.22249809 &  0.22756242 & 1 & predictor\\\\\n",
       "\t  82.382812 & 46.59804 &  1.52685118 &  2.54576409 & 1 & predictor\\\\\n",
       "\t  33.914062 & 36.31977 &  4.56112586 & 22.33154978 & 1 & predictor\\\\\n",
       "\\end{tabular}\n"
      ],
      "text/markdown": [
       "\n",
       "A tibble: 32518 × 6\n",
       "\n",
       "| mean_ip &lt;dbl&gt; | sd_ip &lt;dbl&gt; | kurtosis_ip &lt;dbl&gt; | skew_ip &lt;dbl&gt; | class &lt;fct&gt; | type &lt;chr&gt; |\n",
       "|---|---|---|---|---|---|\n",
       "| 140.56250 | 55.68378 | -0.23457141 | -0.69964840 | 0 | training |\n",
       "| 103.01562 | 39.34165 |  0.32332837 |  1.05116443 | 0 | training |\n",
       "| 136.75000 | 57.17845 | -0.06841464 | -0.63623837 | 0 | training |\n",
       "|  88.72656 | 40.67223 |  0.60086608 |  1.12349169 | 0 | training |\n",
       "|  93.57031 | 46.69811 |  0.53190485 |  0.41672112 | 0 | training |\n",
       "| 130.38281 | 39.84406 | -0.15832276 |  0.38954045 | 0 | training |\n",
       "| 107.25000 | 52.62708 |  0.45268802 |  0.17034738 | 0 | training |\n",
       "| 142.07812 | 45.28807 | -0.32032843 |  0.28395251 | 0 | training |\n",
       "| 133.25781 | 44.05824 | -0.08105986 |  0.11536151 | 0 | training |\n",
       "| 134.96094 | 49.55433 | -0.13530383 | -0.08046960 | 0 | training |\n",
       "| 117.94531 | 45.50658 |  0.32543756 |  0.66145946 | 0 | training |\n",
       "| 138.17969 | 51.52448 | -0.03185233 |  0.04679717 | 0 | training |\n",
       "| 114.36719 | 51.94572 | -0.09449890 | -0.28798409 | 0 | training |\n",
       "| 109.64062 | 49.01765 |  0.13763583 | -0.25669978 | 0 | training |\n",
       "| 100.85156 | 51.74352 |  0.39383679 | -0.01124074 | 0 | training |\n",
       "| 136.09375 | 51.69100 | -0.04590893 | -0.27181639 | 0 | training |\n",
       "| 100.89062 | 51.89039 |  0.62748653 | -0.02649780 | 0 | training |\n",
       "| 105.44531 | 41.13997 |  0.14265380 |  0.32041968 | 0 | training |\n",
       "| 117.36719 | 53.90861 |  0.25795344 | -0.40504908 | 0 | training |\n",
       "| 112.71875 | 50.30127 |  0.27939095 | -0.12901071 | 0 | training |\n",
       "| 130.85156 | 52.43286 |  0.14259673 |  0.01888544 | 0 | training |\n",
       "| 102.61719 | 49.69235 |  0.23043898 |  0.19332537 | 0 | training |\n",
       "|  99.91406 | 43.91950 |  0.47572850 |  0.78148620 | 0 | training |\n",
       "| 128.34375 | 52.17211 | -0.04928040 | -0.20825699 | 0 | training |\n",
       "| 142.05469 | 53.87316 | -0.47077269 | -0.12594642 | 0 | training |\n",
       "| 121.13281 | 47.63261 |  0.17736031 |  0.02491811 | 0 | training |\n",
       "| 107.87500 | 37.33066 |  0.49600476 |  1.48181586 | 0 | training |\n",
       "| 118.84375 | 45.93192 | -0.10924267 |  0.13768355 | 0 | training |\n",
       "| 116.20312 | 47.34586 |  0.21194682 | -0.02217770 | 0 | training |\n",
       "| 121.88281 | 53.04267 |  0.20052072 | -0.28221903 | 0 | training |\n",
       "| ⋮ | ⋮ | ⋮ | ⋮ | ⋮ | ⋮ |\n",
       "| 137.929688 | 52.98027 | -0.09488784 |  0.13142550 | 1 | predictor |\n",
       "| 110.117188 | 46.97533 |  0.54111912 |  0.32599671 | 1 | predictor |\n",
       "|  38.531250 | 37.39735 |  4.36452965 | 19.87977135 | 1 | predictor |\n",
       "|  83.367188 | 41.44158 |  1.30389814 |  3.44558077 | 1 | predictor |\n",
       "| 100.085938 | 40.11663 |  0.55070224 |  1.46977602 | 1 | predictor |\n",
       "|  20.789062 | 53.18815 |  3.07601168 |  8.00513187 | 1 | predictor |\n",
       "|  34.773438 | 29.19766 |  6.53995854 | 46.27395894 | 1 | predictor |\n",
       "|  92.601562 | 49.78851 |  1.00528725 |  0.57183843 | 1 | predictor |\n",
       "|   6.187500 | 29.69500 |  7.32015667 | 54.06094705 | 1 | predictor |\n",
       "|  34.375000 | 31.88088 |  4.58834175 | 25.88273951 | 1 | predictor |\n",
       "|  29.843750 | 28.88432 |  5.03256254 | 32.10654285 | 1 | predictor |\n",
       "|  39.960938 | 34.99027 |  3.94109633 | 19.86629346 | 1 | predictor |\n",
       "|  45.093750 | 28.60956 |  4.15646026 | 26.19820242 | 1 | predictor |\n",
       "|  95.757812 | 52.08958 |  0.85997009 |  0.08777878 | 1 | predictor |\n",
       "|  67.078125 | 34.17158 |  1.82134673 |  7.72249619 | 1 | predictor |\n",
       "|  31.507812 | 32.41961 |  4.86310612 | 28.54648857 | 1 | predictor |\n",
       "|   8.843750 | 31.10226 |  7.14737003 | 51.30904570 | 1 | predictor |\n",
       "|  10.687500 | 33.90238 |  5.47313254 | 31.12910769 | 1 | predictor |\n",
       "|  33.765625 | 30.68170 |  5.07781356 | 29.38512340 | 1 | predictor |\n",
       "|  34.046875 | 34.17050 |  4.04551237 | 18.66538021 | 1 | predictor |\n",
       "|  56.640625 | 49.86008 |  1.74905220 |  2.37449376 | 1 | predictor |\n",
       "|  61.546875 | 38.90129 |  3.02448876 | 10.33615918 | 1 | predictor |\n",
       "|  43.945312 | 30.20666 |  5.18665297 | 33.78045606 | 1 | predictor |\n",
       "|  66.773438 | 58.20629 |  1.83873406 |  2.41493918 | 1 | predictor |\n",
       "|  31.250000 | 29.79435 |  5.16878003 | 32.00199897 | 1 | predictor |\n",
       "|  46.921875 | 42.90316 |  3.11121418 | 10.10921616 | 1 | predictor |\n",
       "|   8.960938 | 30.21729 |  7.51311663 | 55.84523749 | 1 | predictor |\n",
       "| 126.492188 | 45.31332 |  0.22249809 |  0.22756242 | 1 | predictor |\n",
       "|  82.382812 | 46.59804 |  1.52685118 |  2.54576409 | 1 | predictor |\n",
       "|  33.914062 | 36.31977 |  4.56112586 | 22.33154978 | 1 | predictor |\n",
       "\n"
      ],
      "text/plain": [
       "      mean_ip    sd_ip    kurtosis_ip skew_ip     class type     \n",
       "1     140.56250  55.68378 -0.23457141 -0.69964840 0     training \n",
       "2     103.01562  39.34165  0.32332837  1.05116443 0     training \n",
       "3     136.75000  57.17845 -0.06841464 -0.63623837 0     training \n",
       "4      88.72656  40.67223  0.60086608  1.12349169 0     training \n",
       "5      93.57031  46.69811  0.53190485  0.41672112 0     training \n",
       "6     130.38281  39.84406 -0.15832276  0.38954045 0     training \n",
       "7     107.25000  52.62708  0.45268802  0.17034738 0     training \n",
       "8     142.07812  45.28807 -0.32032843  0.28395251 0     training \n",
       "9     133.25781  44.05824 -0.08105986  0.11536151 0     training \n",
       "10    134.96094  49.55433 -0.13530383 -0.08046960 0     training \n",
       "11    117.94531  45.50658  0.32543756  0.66145946 0     training \n",
       "12    138.17969  51.52448 -0.03185233  0.04679717 0     training \n",
       "13    114.36719  51.94572 -0.09449890 -0.28798409 0     training \n",
       "14    109.64062  49.01765  0.13763583 -0.25669978 0     training \n",
       "15    100.85156  51.74352  0.39383679 -0.01124074 0     training \n",
       "16    136.09375  51.69100 -0.04590893 -0.27181639 0     training \n",
       "17    100.89062  51.89039  0.62748653 -0.02649780 0     training \n",
       "18    105.44531  41.13997  0.14265380  0.32041968 0     training \n",
       "19    117.36719  53.90861  0.25795344 -0.40504908 0     training \n",
       "20    112.71875  50.30127  0.27939095 -0.12901071 0     training \n",
       "21    130.85156  52.43286  0.14259673  0.01888544 0     training \n",
       "22    102.61719  49.69235  0.23043898  0.19332537 0     training \n",
       "23     99.91406  43.91950  0.47572850  0.78148620 0     training \n",
       "24    128.34375  52.17211 -0.04928040 -0.20825699 0     training \n",
       "25    142.05469  53.87316 -0.47077269 -0.12594642 0     training \n",
       "26    121.13281  47.63261  0.17736031  0.02491811 0     training \n",
       "27    107.87500  37.33066  0.49600476  1.48181586 0     training \n",
       "28    118.84375  45.93192 -0.10924267  0.13768355 0     training \n",
       "29    116.20312  47.34586  0.21194682 -0.02217770 0     training \n",
       "30    121.88281  53.04267  0.20052072 -0.28221903 0     training \n",
       "⋮     ⋮          ⋮        ⋮           ⋮           ⋮     ⋮        \n",
       "32489 137.929688 52.98027 -0.09488784  0.13142550 1     predictor\n",
       "32490 110.117188 46.97533  0.54111912  0.32599671 1     predictor\n",
       "32491  38.531250 37.39735  4.36452965 19.87977135 1     predictor\n",
       "32492  83.367188 41.44158  1.30389814  3.44558077 1     predictor\n",
       "32493 100.085938 40.11663  0.55070224  1.46977602 1     predictor\n",
       "32494  20.789062 53.18815  3.07601168  8.00513187 1     predictor\n",
       "32495  34.773438 29.19766  6.53995854 46.27395894 1     predictor\n",
       "32496  92.601562 49.78851  1.00528725  0.57183843 1     predictor\n",
       "32497   6.187500 29.69500  7.32015667 54.06094705 1     predictor\n",
       "32498  34.375000 31.88088  4.58834175 25.88273951 1     predictor\n",
       "32499  29.843750 28.88432  5.03256254 32.10654285 1     predictor\n",
       "32500  39.960938 34.99027  3.94109633 19.86629346 1     predictor\n",
       "32501  45.093750 28.60956  4.15646026 26.19820242 1     predictor\n",
       "32502  95.757812 52.08958  0.85997009  0.08777878 1     predictor\n",
       "32503  67.078125 34.17158  1.82134673  7.72249619 1     predictor\n",
       "32504  31.507812 32.41961  4.86310612 28.54648857 1     predictor\n",
       "32505   8.843750 31.10226  7.14737003 51.30904570 1     predictor\n",
       "32506  10.687500 33.90238  5.47313254 31.12910769 1     predictor\n",
       "32507  33.765625 30.68170  5.07781356 29.38512340 1     predictor\n",
       "32508  34.046875 34.17050  4.04551237 18.66538021 1     predictor\n",
       "32509  56.640625 49.86008  1.74905220  2.37449376 1     predictor\n",
       "32510  61.546875 38.90129  3.02448876 10.33615918 1     predictor\n",
       "32511  43.945312 30.20666  5.18665297 33.78045606 1     predictor\n",
       "32512  66.773438 58.20629  1.83873406  2.41493918 1     predictor\n",
       "32513  31.250000 29.79435  5.16878003 32.00199897 1     predictor\n",
       "32514  46.921875 42.90316  3.11121418 10.10921616 1     predictor\n",
       "32515   8.960938 30.21729  7.51311663 55.84523749 1     predictor\n",
       "32516 126.492188 45.31332  0.22249809  0.22756242 1     predictor\n",
       "32517  82.382812 46.59804  1.52685118  2.54576409 1     predictor\n",
       "32518  33.914062 36.31977  4.56112586 22.33154978 1     predictor"
      ]
     },
     "metadata": {},
     "output_type": "display_data"
    }
   ],
   "source": [
    "total <- htru_train %>%\n",
    "mutate(type = \"training\") \n",
    "\n",
    "total2 <- htru_test %>%\n",
    "mutate(type = \"predictor\")\n",
    "combined <- rbind(total, total2)\n",
    "combined"
   ]
  },
  {
   "cell_type": "markdown",
   "metadata": {},
   "source": [
    "## Discussion"
   ]
  },
  {
   "cell_type": "markdown",
   "metadata": {},
   "source": [
    "## References\n",
    "\n",
    "* UCI Machine Learning Repository: HTRU2 Data Set. (2017). Uci.edu. https://archive.ics.uci.edu/ml/datasets/HTRU2 \n",
    "\n",
    "* R. J. Lyon, B. W. Stappers, S. Cooper, J. M. Brooke, J. D. Knowles, Fifty Years of Pulsar Candidate Selection: From simple filters to a new principled real-time classification approach, Monthly Notices of the Royal Astronomical Society 459 (1), 1104-1123, DOI: 10.1093/mnras/stw656 \n",
    "\n",
    "* Cofield, C. (2016, April 22). What Are Pulsars? Space.com; Space. https://www.space.com/32661-pulsars.html   \n",
    "\n",
    "* Mahoney, T. (2020, July 9). Why Pulsars Are Some of the Most Dangerous Objects in the Universe. Medium; Uncharted Infinity. https://medium.com/uncharted-infinity/why-pulsars-are-some-of-the-most-dangerous-objects-in-the-universe-d54789a00772\n",
    "\n",
    "* CSC2019 - Introduction to Machine Learning. (2019). Github.io. https://as595.github.io/classification/ \n"
   ]
  },
  {
   "cell_type": "code",
   "execution_count": null,
   "metadata": {},
   "outputs": [],
   "source": []
  },
  {
   "cell_type": "code",
   "execution_count": null,
   "metadata": {},
   "outputs": [],
   "source": []
  }
 ],
 "metadata": {
  "kernelspec": {
   "display_name": "R",
   "language": "R",
   "name": "ir"
  },
  "language_info": {
   "codemirror_mode": "r",
   "file_extension": ".r",
   "mimetype": "text/x-r-source",
   "name": "R",
   "pygments_lexer": "r",
   "version": "4.0.0"
  }
 },
 "nbformat": 4,
 "nbformat_minor": 4
}
